{
 "cells": [
  {
   "cell_type": "code",
   "execution_count": 1,
   "id": "1036afaf-13d0-4e66-a088-435f96acecc4",
   "metadata": {
    "tags": []
   },
   "outputs": [
    {
     "name": "stdout",
     "output_type": "stream",
     "text": [
      "1\n",
      "3\n",
      "5\n",
      "7\n",
      "9\n"
     ]
    }
   ],
   "source": [
    "/*Use a for loop to print the numbers from 1 to 10 to the console.*/\n",
    "\n",
    "for(int i = 1; i <= 10; i++){\n",
    "    printf(\"%d\\n\",i);\n",
    "}"
   ]
  },
  {
   "cell_type": "code",
   "execution_count": 2,
   "id": "79c32a5f-4a50-4c9f-b689-ae04f1ee6004",
   "metadata": {
    "tags": []
   },
   "outputs": [
    {
     "data": {
      "text/plain": [
       "5050"
      ]
     },
     "execution_count": 2,
     "metadata": {},
     "output_type": "execute_result"
    }
   ],
   "source": [
    "/*Use a while loop to calculate the sum of the first 100 natural numbers. \n",
    "Print the final sum to the console.*/\n",
    "\n",
    "int i = 0; int sum =0;\n",
    "while(i <= 100){\n",
    "    sum = sum + i;\n",
    "    i++;\n",
    "}\n",
    "sum"
   ]
  },
  {
   "cell_type": "code",
   "execution_count": 3,
   "id": "f004eb71-6633-44d8-a1d8-afef0c35e297",
   "metadata": {
    "tags": []
   },
   "outputs": [
    {
     "name": "stdout",
     "output_type": "stream",
     "text": [
      "1\n",
      "2\n",
      "3\n",
      "4\n",
      "5\n",
      "6\n",
      "7\n",
      "8\n",
      "9\n",
      "10\n"
     ]
    }
   ],
   "source": [
    "/*Use a do-while loop to print the numbers from 1 to 10 to the console.*/\n",
    "\n",
    "int i = 0;\n",
    "do{\n",
    "    i++;\n",
    "    printf(\"%d\\n\", i);\n",
    "}while(i < 10)"
   ]
  },
  {
   "cell_type": "code",
   "execution_count": 4,
   "id": "0f60ecac-afd2-4071-80b1-dc48df4cb654",
   "metadata": {
    "tags": []
   },
   "outputs": [
    {
     "name": "stdout",
     "output_type": "stream",
     "text": [
      "1 * 5 = 5\n",
      "2 * 5 = 10\n",
      "3 * 5 = 15\n",
      "4 * 5 = 20\n",
      "5 * 5 = 25\n",
      "6 * 5 = 30\n",
      "7 * 5 = 35\n",
      "8 * 5 = 40\n",
      "9 * 5 = 45\n",
      "10 * 5 = 50\n"
     ]
    }
   ],
   "source": [
    "/*Use a for loop to print the multiplication table of a given number, let's say 5. \n",
    "Print the multiplication table from 1 to 10.*/\n",
    "\n",
    "for(int i = 1; i <= 10; i++){\n",
    "    printf(\"%d * 5 = %d\\n\", i, (i*5));\n",
    "}"
   ]
  },
  {
   "cell_type": "code",
   "execution_count": 5,
   "id": "02b3ebe8-001a-4b2f-a9aa-3bbdc3f95781",
   "metadata": {
    "tags": []
   },
   "outputs": [
    {
     "data": {
      "text/plain": [
       "720"
      ]
     },
     "execution_count": 5,
     "metadata": {},
     "output_type": "execute_result"
    }
   ],
   "source": [
    "/*Use a while loop to find the factorial of a given number, let's say 6. \n",
    "Calculate its factorial and print the result to the console.*/\n",
    "\n",
    "int i = 0;\n",
    "int factorial = 1;\n",
    "do{\n",
    "    i++;\n",
    "    factorial = factorial*i;\n",
    "}while(i < 6);\n",
    "i = 0;\n",
    "factorial"
   ]
  }
 ],
 "metadata": {
  "kernelspec": {
   "display_name": "C++11",
   "language": "C++11",
   "name": "xcpp11"
  },
  "language_info": {
   "codemirror_mode": "text/x-c++src",
   "file_extension": ".cpp",
   "mimetype": "text/x-c++src",
   "name": "c++",
   "version": "11"
  }
 },
 "nbformat": 4,
 "nbformat_minor": 5
}
