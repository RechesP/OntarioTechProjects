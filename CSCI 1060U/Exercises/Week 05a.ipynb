{
 "cells": [
  {
   "cell_type": "code",
   "execution_count": 1,
   "id": "fe7c91ad-645e-43bf-83cb-2f8f49f0558a",
   "metadata": {
    "tags": []
   },
   "outputs": [],
   "source": [
    "#include <iostream>\n",
    "#include <string>\n",
    "using namespace std;"
   ]
  },
  {
   "cell_type": "code",
   "execution_count": 2,
   "id": "741740db-9113-4b0b-830a-af7bbbaf3ce8",
   "metadata": {
    "tags": []
   },
   "outputs": [],
   "source": [
    "/*Write a function named \"factorial\" that calculates the factorial of a number. \n",
    "Create at least three test cases with known inputs \n",
    "and expected outputs to verify the correctness of the function. \n",
    "\n",
    "For example:\n",
    "Test Case 1: Input: 5, Expected Output: 120\n",
    "Test Case 2: Input: 0, Expected Output: 1\n",
    "Test Case 3: Input: 10, Expected Output: 3628800\n",
    "\n",
    "*/\n",
    "\n",
    "int factorial(int number){\n",
    "    int factorial = 1;\n",
    "    for(int i = 1; i <= number; i++){\n",
    "        factorial *= i;\n",
    "    }\n",
    "    return factorial;\n",
    "}"
   ]
  },
  {
   "cell_type": "code",
   "execution_count": 3,
   "id": "393f054a-3e3d-465e-8b57-aa6df2e58a3d",
   "metadata": {
    "tags": []
   },
   "outputs": [],
   "source": [
    "factorial(5);\n",
    "factorial(0);\n",
    "factorial(10);\n",
    "factorial(3);"
   ]
  },
  {
   "cell_type": "code",
   "execution_count": 4,
   "id": "2009a2cc-2854-475a-acc0-7c8d48a71e70",
   "metadata": {
    "tags": []
   },
   "outputs": [],
   "source": [
    "/*Write a function named \"isInRange\" that checks if a given number is within a specific range. \n",
    "Create at least three test cases with different inputs, \n",
    "including boundary values and values outside the range, \n",
    "to ensure the function handles them correctly. \n",
    "\n",
    "For example:\n",
    "Test Case 1: Input: 5, Range: [1, 10], Expected Output: true\n",
    "Test Case 2: Input: 20, Range: [1, 10], Expected Output: false\n",
    "Test Case 3: Input: 1, Range: [1, 10], Expected Output: true*/\n",
    "bool isInRange(int start, int end, int number){\n",
    "    for(int i = start; i <= end; i++){\n",
    "        if (i == number){\n",
    "            return true;\n",
    "        }\n",
    "    }\n",
    "    return false;\n",
    "}"
   ]
  },
  {
   "cell_type": "code",
   "execution_count": 5,
   "id": "3366dfce-e04c-43f2-8a20-b92e696dee8b",
   "metadata": {
    "tags": []
   },
   "outputs": [
    {
     "data": {
      "text/plain": [
       "true"
      ]
     },
     "execution_count": 5,
     "metadata": {},
     "output_type": "execute_result"
    }
   ],
   "source": [
    "isInRange(1,10, 0); //false\n",
    "isInRange(1,10, 11); //false\n",
    "isInRange(1,10, 10); //true\n",
    "isInRange(1,10, 1); //true"
   ]
  },
  {
   "cell_type": "code",
   "execution_count": 6,
   "id": "dde34f66-a6bc-40db-aae9-640b0aa0a4d8",
   "metadata": {
    "tags": []
   },
   "outputs": [],
   "source": [
    "/*Write a program that sorts an array of integers in order. \n",
    "Add print statements before and after each pass to track the sorting progress. \n",
    "Print the array before and after each pass to identify any errors in the sorting process. \n",
    "Use a small array of integers (e.g., [5, 2, 8, 3, 1]) to debug the code and ensure it correctly sorts the array.*/\n",
    "int array[] = {5,2,8,3,1};"
   ]
  },
  {
   "cell_type": "code",
   "execution_count": 7,
   "id": "366657aa-ce90-461c-b3b6-387b8b596459",
   "metadata": {
    "tags": []
   },
   "outputs": [
    {
     "name": "stdout",
     "output_type": "stream",
     "text": [
      "5 2 8 3 1 5 6 7 32 54 \n",
      "2 5 3 1 5 6 7 8 32 54 \n",
      "2 3 1 5 5 6 7 8 32 54 \n",
      "2 1 3 5 5 6 7 8 32 54 \n",
      "1 2 3 5 5 6 7 8 32 54 \n",
      "1 2 3 5 5 6 7 8 32 54 \n",
      "1 2 3 5 5 6 7 8 32 54 \n",
      "1 2 3 5 5 6 7 8 32 54 \n",
      "1 2 3 5 5 6 7 8 32 54 \n",
      "1 2 3 5 5 6 7 8 32 54 \n"
     ]
    }
   ],
   "source": [
    "int array[] = {5,2,8,3,1,5,6,7,32,54};\n",
    "int size = sizeof(array) / sizeof(array[0]);\n",
    "for(int i = 0; i < size; i++){\n",
    "    int temp = 0;\n",
    "    \n",
    "    for (int j = 0; j < size; j++){\n",
    "        printf(\"%d \", array[j]);\n",
    "    }\n",
    "    printf(\"\\n\");\n",
    "    \n",
    "    for(int k = 0; k < size - 1; k++){\n",
    "        \n",
    "        // for (int j = 0; j < 5; j++){\n",
    "        //     printf(\"%d \", array[j]);\n",
    "        // }\n",
    "        // printf(\"\\n\");\n",
    "        \n",
    "        if (array[k] > array [k + 1]){\n",
    "            temp = array[k];\n",
    "            array[k] = array[k + 1];\n",
    "            array[k+1] = temp;\n",
    "        }\n",
    "    }\n",
    "}"
   ]
  },
  {
   "cell_type": "code",
   "execution_count": 8,
   "id": "66caef9e-5db0-4994-ae04-19ac6f3c6289",
   "metadata": {
    "tags": []
   },
   "outputs": [],
   "source": [
    "/*Write a function named \"isValidPassword\" that validates whether a given password meets certain criteria, \n",
    "such as a minimum length of 8 characters and the presence of at least one special character. \n",
    "Create at least three test cases with different inputs, \n",
    "including valid and invalid passwords, to verify the function's behavior. \n",
    "\n",
    "For example:\n",
    "Test Case 1: Input: \"P@ssw0rd\", Expected Output: true\n",
    "Test Case 2: Input: \"password123\", Expected Output: false\n",
    "Test Case 3: Input: \"abc123\", Expected Output: false*/\n",
    "#include <iostream>\n",
    "#include <string>\n",
    "using namespace std;"
   ]
  },
  {
   "cell_type": "code",
   "execution_count": 9,
   "id": "055ec792-5174-4d9a-8971-8622a37dbe9c",
   "metadata": {
    "tags": []
   },
   "outputs": [],
   "source": [
    "bool isValidPassword(string pass){\n",
    "    char spec_char[] = {'!','\"','#','$','%','&','(',')','*','+','-',',','.','/',':',';','<','=','>','?','@','[',']','^','_','`','{','|','}','~','/'};\n",
    "    int size = sizeof(spec_char)/sizeof(spec_char[0]);\n",
    "    int length = pass.length();\n",
    "    int c = 0;\n",
    "    for(int i = 0; i < length; i++){\n",
    "        char in_char = pass.at(i);\n",
    "        for(int j = 0; j < size; j++){\n",
    "            if( in_char == spec_char[j]){\n",
    "                c++;\n",
    "            }\n",
    "        }\n",
    "    }\n",
    "    if (length >= 8 && c > 0){\n",
    "        return true;\n",
    "    }\n",
    "    return false;\n",
    "}"
   ]
  },
  {
   "cell_type": "code",
   "execution_count": 10,
   "id": "5892f3d3-b5c3-4226-bcc6-98a607cdb562",
   "metadata": {
    "tags": []
   },
   "outputs": [],
   "source": [
    "isValidPassword(\"password123\");\n",
    "isValidPassword(\"p@ssw0rd\");\n",
    "isValidPassword(\"@FXWZC2\"); "
   ]
  },
  {
   "cell_type": "code",
   "execution_count": 11,
   "id": "6eb78c9a-34bb-48b8-a596-77982eb1e65d",
   "metadata": {
    "tags": []
   },
   "outputs": [],
   "source": [
    "#include <iostream>"
   ]
  },
  {
   "cell_type": "code",
   "execution_count": 12,
   "id": "f691e879-f299-48de-80c1-26b886e90dd7",
   "metadata": {
    "tags": []
   },
   "outputs": [],
   "source": [
    "int sum(int a, int b) {\n",
    "    return a + b;\n",
    "}"
   ]
  },
  {
   "cell_type": "code",
   "execution_count": 13,
   "id": "792a2037-31c1-4286-8bd1-75b9f0eed597",
   "metadata": {
    "tags": []
   },
   "outputs": [
    {
     "name": "stdout",
     "output_type": "stream",
     "text": [
      "Sum: 8\n"
     ]
    }
   ],
   "source": [
    "int num1 = 5;\n",
    "int num2 = 3;\n",
    "int result = sum(num1, num2);\n",
    "std::cout << \"Sum: \" << result << std::endl;"
   ]
  },
  {
   "cell_type": "code",
   "execution_count": 14,
   "id": "c49196b9-c2c8-4d3e-a561-94f83bd88ccc",
   "metadata": {
    "tags": []
   },
   "outputs": [
    {
     "name": "stdout",
     "output_type": "stream",
     "text": [
      "1 2 3 4 5 "
     ]
    }
   ],
   "source": [
    "#include <iostream>\n",
    "\n",
    "    int arr[] = {1, 2, 3, 4, 5};\n",
    "    int size = 5;\n",
    "    for (int i = 0; i < size; i++) {\n",
    "        std::cout << arr[i] << \" \";\n",
    "    }"
   ]
  }
 ],
 "metadata": {
  "kernelspec": {
   "display_name": "C++11",
   "language": "C++11",
   "name": "xcpp11"
  },
  "language_info": {
   "codemirror_mode": "text/x-c++src",
   "file_extension": ".cpp",
   "mimetype": "text/x-c++src",
   "name": "c++",
   "version": "11"
  }
 },
 "nbformat": 4,
 "nbformat_minor": 5
}
