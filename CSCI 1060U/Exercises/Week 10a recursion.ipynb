{
 "cells": [
  {
   "cell_type": "code",
   "execution_count": 1,
   "id": "175a7758-3022-4991-9634-2decbd38a879",
   "metadata": {},
   "outputs": [],
   "source": [
    "#include <iostream>\n",
    "using namespace std;"
   ]
  },
  {
   "cell_type": "code",
   "execution_count": 2,
   "id": "7c919105-1805-45b3-8d92-cf09b979b01b",
   "metadata": {},
   "outputs": [],
   "source": [
    "/*Write a recursive function to calculate the factorial of a given non-negative integer. \n",
    "Use a pointer as a parameter to store the result, \n",
    "and update the result at each recursive call.*/\n",
    "\n",
    "int* factorial(int myInt, int *ptr){\n",
    "    if (myInt < 0) return nullptr;\n",
    "    \n",
    "    //base case\n",
    "    if (myInt == 1){\n",
    "        *ptr = myInt;\n",
    "        return ptr;\n",
    "    }\n",
    "    \n",
    "    //recursive case\n",
    "    *ptr = myInt * *factorial(myInt - 1, ptr);\n",
    "    return ptr;\n",
    "}"
   ]
  },
  {
   "cell_type": "code",
   "execution_count": 3,
   "id": "de71e592-159a-472a-96ef-92d33dc79dc0",
   "metadata": {
    "tags": []
   },
   "outputs": [
    {
     "name": "stdout",
     "output_type": "stream",
     "text": [
      "120\n"
     ]
    }
   ],
   "source": [
    "int result;\n",
    "int* ptr;\n",
    "ptr = &result;\n",
    "factorial(5, ptr);\n",
    "cout << *ptr << endl;"
   ]
  },
  {
   "cell_type": "code",
   "execution_count": 6,
   "id": "c5397417-484a-4e55-a10d-856ad8bda188",
   "metadata": {
    "tags": []
   },
   "outputs": [],
   "source": [
    "/*Write a recursive function to generate the Fibonacci sequence up to a given term. \n",
    "Use a pointer as a parameter to store the sequence \n",
    "and update it at each recursive call.*/\n",
    "\n",
    "int *fib(int term, int* ptr){\n",
    "    if (term == 0){\n",
    "        *ptr = 0;\n",
    "        return ptr;\n",
    "    }\n",
    "    if (term == 1){\n",
    "        *ptr = 1;\n",
    "        return ptr;\n",
    "    }\n",
    "    *ptr = *fib(term - 1, ptr) + *fib(term - 2, ptr);\n",
    "    return ptr;\n",
    "}"
   ]
  },
  {
   "cell_type": "code",
   "execution_count": 9,
   "id": "63bfb2ef-a3cb-4e29-bfbc-e1a1f31872d5",
   "metadata": {
    "tags": []
   },
   "outputs": [
    {
     "name": "stdout",
     "output_type": "stream",
     "text": [
      "21\n"
     ]
    }
   ],
   "source": [
    "int result;\n",
    "int* ptr;\n",
    "ptr = &result;\n",
    "fib(8, ptr);\n",
    "cout << *ptr << endl;"
   ]
  },
  {
   "cell_type": "code",
   "execution_count": 21,
   "id": "4ed60ee1-ed40-402f-9b49-b768a973f4d8",
   "metadata": {
    "tags": []
   },
   "outputs": [],
   "source": [
    "/*Write a recursive function to calculate the sum of digits of a given positive integer. \n",
    "Use recursion to extract the last digit, \n",
    "add it to the running sum, \n",
    "and call the function again with the remaining digits.*/\n",
    "\n",
    "int sumDigits(int posInt){\n",
    "    if (posInt < 0) return posInt;\n",
    "    int sum = 0;\n",
    "    \n",
    "    if (posInt < 10) return posInt;\n",
    "    int lastDig = posInt%10;\n",
    "    return lastDig + sumDigits(posInt/10);\n",
    "}"
   ]
  },
  {
   "cell_type": "code",
   "execution_count": 22,
   "id": "f6df6afb-af94-456b-b19b-231584dab18b",
   "metadata": {
    "tags": []
   },
   "outputs": [
    {
     "data": {
      "text/plain": [
       "6"
      ]
     },
     "execution_count": 22,
     "metadata": {},
     "output_type": "execute_result"
    }
   ],
   "source": [
    "sumDigits(123)"
   ]
  },
  {
   "cell_type": "code",
   "execution_count": null,
   "id": "e990eeb8-68c3-4dfe-be53-94321762ef79",
   "metadata": {},
   "outputs": [],
   "source": [
    "/*Write a recursive function to calculate the greatest common divisor (GCD) \n",
    "of two positive integers.*/\n",
    "\n",
    "int GCD(int int1, int int2){\n",
    "    if ()\n",
    "}"
   ]
  }
 ],
 "metadata": {
  "kernelspec": {
   "display_name": "C++11",
   "language": "C++11",
   "name": "xcpp11"
  },
  "language_info": {
   "codemirror_mode": "text/x-c++src",
   "file_extension": ".cpp",
   "mimetype": "text/x-c++src",
   "name": "c++",
   "version": "11"
  }
 },
 "nbformat": 4,
 "nbformat_minor": 5
}
