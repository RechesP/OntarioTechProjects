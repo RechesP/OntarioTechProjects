{
 "cells": [
  {
   "cell_type": "code",
   "execution_count": 1,
   "id": "6870b57c-a0b1-450b-92f5-ae65ef813116",
   "metadata": {
    "tags": []
   },
   "outputs": [],
   "source": [
    "/*Write a function named \"findMaxValue\" \n",
    "that takes an integer array as a parameter \n",
    "and returns the maximum value in the array.*/\n",
    "\n",
    "int maxArray [5] = {1,4,3,5,9};\n",
    "int maxValue = maxArray [0];"
   ]
  },
  {
   "cell_type": "code",
   "execution_count": 2,
   "id": "3109f025-f860-4e2f-b277-b8d1f4c0285d",
   "metadata": {
    "tags": []
   },
   "outputs": [],
   "source": [
    "int findMaxValue(int maxArray[]){\n",
    "    for (int i = 0; i < 5; i++){\n",
    "        if (maxArray [i] >= maxValue){\n",
    "            maxValue = maxArray [i];\n",
    "        }\n",
    "    }\n",
    "    return maxValue;\n",
    "}"
   ]
  },
  {
   "cell_type": "code",
   "execution_count": 3,
   "id": "b279978b-3f3c-43b9-b860-73a767113767",
   "metadata": {
    "tags": []
   },
   "outputs": [
    {
     "data": {
      "text/plain": [
       "9"
      ]
     },
     "execution_count": 3,
     "metadata": {},
     "output_type": "execute_result"
    }
   ],
   "source": [
    "findMaxValue(maxArray)"
   ]
  },
  {
   "cell_type": "code",
   "execution_count": 4,
   "id": "706de28c-6656-443c-ac76-4a21a74ca673",
   "metadata": {
    "tags": []
   },
   "outputs": [],
   "source": [
    "/*Write a function named \"calculateAverage\" \n",
    "that takes an integer array as a parameter \n",
    "and returns the average value of the elements in the array.*/\n",
    "int avgArray [5] = {1,2,3,4,5};\n",
    "int sum = 0;"
   ]
  },
  {
   "cell_type": "code",
   "execution_count": 5,
   "id": "03debfb6-be55-469c-b7e0-d8a9e6860ada",
   "metadata": {
    "tags": []
   },
   "outputs": [],
   "source": [
    "int calculateAverage(int avgArray[]){\n",
    "    for(int i = 0; i < 5; i++){\n",
    "        sum += avgArray [i];\n",
    "    }\n",
    "    return (sum/5);\n",
    "}"
   ]
  },
  {
   "cell_type": "code",
   "execution_count": 6,
   "id": "61244923-7ac4-4f72-bd93-4103971a8b20",
   "metadata": {
    "tags": []
   },
   "outputs": [
    {
     "data": {
      "text/plain": [
       "3"
      ]
     },
     "execution_count": 6,
     "metadata": {},
     "output_type": "execute_result"
    }
   ],
   "source": [
    "calculateAverage(avgArray)"
   ]
  },
  {
   "cell_type": "code",
   "execution_count": 7,
   "id": "eb96e7b3-c056-457d-8a6e-e81be702b937",
   "metadata": {
    "tags": []
   },
   "outputs": [],
   "source": [
    "/*Write a function named \"countEvenNumbers\" \n",
    "that takes an integer array as a parameter \n",
    "and returns the number of even numbers in the array.*/\n",
    "int evenArray [5] = {1,2,4,5,6,};\n",
    "int even = 0;"
   ]
  },
  {
   "cell_type": "code",
   "execution_count": 8,
   "id": "2be054ca-1106-412e-b66b-2ac3c399b4bc",
   "metadata": {
    "tags": []
   },
   "outputs": [],
   "source": [
    "int countEvenNumbers(int evenArray[]){\n",
    "    for(int i = 0; i < 5; i++){\n",
    "        if (evenArray [i] % 2 == 0){\n",
    "            even++;\n",
    "        }\n",
    "    }\n",
    "    return even;\n",
    "}"
   ]
  },
  {
   "cell_type": "code",
   "execution_count": 9,
   "id": "1d88438f-7ab1-4b7e-a6c8-e889c2cb5656",
   "metadata": {
    "tags": []
   },
   "outputs": [
    {
     "data": {
      "text/plain": [
       "3"
      ]
     },
     "execution_count": 9,
     "metadata": {},
     "output_type": "execute_result"
    }
   ],
   "source": [
    "countEvenNumbers(evenArray)"
   ]
  },
  {
   "cell_type": "code",
   "execution_count": 10,
   "id": "2f064895-7a76-483d-94ee-10271c2a099b",
   "metadata": {
    "tags": []
   },
   "outputs": [],
   "source": [
    "/*Write a function named \"reverseArray\" \n",
    "that takes an integer array as a parameter \n",
    "and reverses the order of its elements. \n",
    "Modify the array directly, without creating a new one.*/\n",
    "int reverseArray [5] = {1,2,3,4,5};\n",
    "int end = (sizeof(reverseArray)/sizeof(int)) - 1;\n",
    "int start = 0;\n",
    "int temp;"
   ]
  },
  {
   "cell_type": "code",
   "execution_count": 11,
   "id": "e6d728c5-0fd5-4594-9fc8-930f8c6bc501",
   "metadata": {
    "tags": []
   },
   "outputs": [],
   "source": [
    "void reversArray(int reverseArray[]){\n",
    "    while (start < end){\n",
    "        temp = reverseArray[start];\n",
    "        reverseArray[start] = reverseArray[end];\n",
    "        reverseArray[end] = temp;\n",
    "        start++;\n",
    "        end--;\n",
    "    }\n",
    "}"
   ]
  },
  {
   "cell_type": "code",
   "execution_count": 12,
   "id": "2e4826c9-89f4-46e6-8e47-19b223f3318a",
   "metadata": {
    "tags": []
   },
   "outputs": [
    {
     "data": {
      "text/plain": [
       "{ 5, 4, 3, 2, 1 }"
      ]
     },
     "execution_count": 12,
     "metadata": {},
     "output_type": "execute_result"
    }
   ],
   "source": [
    "reversArray(reverseArray);\n",
    "reverseArray"
   ]
  },
  {
   "cell_type": "code",
   "execution_count": 13,
   "id": "dcea9f8a-ec90-4207-89d5-9630f6014894",
   "metadata": {
    "tags": []
   },
   "outputs": [],
   "source": [
    "/*Write a function named \"findOccurrences\" \n",
    "that takes an integer array and a target value as parameters. \n",
    "The function should return the number of occurrences of the target value in the array.*/\n",
    "int occurArray [5] = {3,2,3,4,3};\n",
    "int count = 0;"
   ]
  },
  {
   "cell_type": "code",
   "execution_count": 14,
   "id": "036ef6f9-862b-4579-a474-81fcbe4ad85f",
   "metadata": {
    "tags": []
   },
   "outputs": [],
   "source": [
    "int findOccurrences(int occurArray[], int target){\n",
    "    for(int i = 0; i < 5; i++){\n",
    "        if(occurArray [i] == target){\n",
    "            count++;\n",
    "        }\n",
    "    }\n",
    "    return target;\n",
    "}"
   ]
  },
  {
   "cell_type": "code",
   "execution_count": 15,
   "id": "c089c88a-b708-45a0-b2c4-9ae1071a052e",
   "metadata": {
    "tags": []
   },
   "outputs": [
    {
     "data": {
      "text/plain": [
       "3"
      ]
     },
     "execution_count": 15,
     "metadata": {},
     "output_type": "execute_result"
    }
   ],
   "source": [
    "findOccurrences(occurArray,3)"
   ]
  }
 ],
 "metadata": {
  "kernelspec": {
   "display_name": "C++11",
   "language": "C++11",
   "name": "xcpp11"
  },
  "language_info": {
   "codemirror_mode": "text/x-c++src",
   "file_extension": ".cpp",
   "mimetype": "text/x-c++src",
   "name": "c++",
   "version": "11"
  }
 },
 "nbformat": 4,
 "nbformat_minor": 5
}
