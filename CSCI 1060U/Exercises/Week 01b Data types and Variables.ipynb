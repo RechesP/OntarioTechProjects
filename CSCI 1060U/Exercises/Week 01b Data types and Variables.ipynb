{
 "cells": [
  {
   "cell_type": "code",
   "execution_count": 1,
   "id": "ca03c2d8-1a3e-42d7-af9e-01afe93dc729",
   "metadata": {
    "tags": []
   },
   "outputs": [
    {
     "name": "stdout",
     "output_type": "stream",
     "text": [
      "you are 25"
     ]
    }
   ],
   "source": [
    "int age = 25;\n",
    "    printf(\"you are %d\", age);"
   ]
  },
  {
   "cell_type": "code",
   "execution_count": 10,
   "id": "3256d765-2ecf-4954-bc39-d703b6a61628",
   "metadata": {
    "tags": []
   },
   "outputs": [
    {
     "name": "stdout",
     "output_type": "stream",
     "text": [
      "the temperature is 98.6."
     ]
    }
   ],
   "source": [
    "float temperature = 98.6;\n",
    "    printf(\"the temperature is %.1f.\", temperature);"
   ]
  },
  {
   "cell_type": "code",
   "execution_count": 3,
   "id": "651625df-d3d9-4f89-94a0-41b28ae49ea3",
   "metadata": {
    "tags": []
   },
   "outputs": [
    {
     "name": "stdout",
     "output_type": "stream",
     "text": [
      "Your grade is an A."
     ]
    }
   ],
   "source": [
    "char grade = 'A';\n",
    "    printf(\"Your grade is an %c.\", grade);"
   ]
  },
  {
   "cell_type": "code",
   "execution_count": 8,
   "id": "abde9b12-2c30-425b-91c0-105ba6fce50d",
   "metadata": {
    "tags": []
   },
   "outputs": [
    {
     "name": "stdout",
     "output_type": "stream",
     "text": [
      "7.5 / 2.0 = 3.8"
     ]
    }
   ],
   "source": [
    "float num1 = 7.5;\n",
    "float num2 = 2;\n",
    "\n",
    "    printf(\"%.1f / %.1f = %.1f\",num1,num2,(num1/num2));"
   ]
  },
  {
   "cell_type": "code",
   "execution_count": 9,
   "id": "9b83be98-64aa-4864-91b4-d811f81178f5",
   "metadata": {
    "tags": []
   },
   "outputs": [
    {
     "name": "stdout",
     "output_type": "stream",
     "text": [
      "3.333"
     ]
    }
   ],
   "source": [
    "int num1 = 10;\n",
    "int num2 = 3;\n",
    "    float result = float(num1)/float(num2);\n",
    "    printf(\"%.3f\",result);"
   ]
  },
  {
   "cell_type": "code",
   "execution_count": null,
   "id": "515f084c-c72f-4d6f-abc4-e70f2b1b930c",
   "metadata": {},
   "outputs": [],
   "source": []
  }
 ],
 "metadata": {
  "kernelspec": {
   "display_name": "C++11",
   "language": "C++11",
   "name": "xcpp11"
  },
  "language_info": {
   "codemirror_mode": "text/x-c++src",
   "file_extension": ".cpp",
   "mimetype": "text/x-c++src",
   "name": "c++",
   "version": "11"
  }
 },
 "nbformat": 4,
 "nbformat_minor": 5
}
