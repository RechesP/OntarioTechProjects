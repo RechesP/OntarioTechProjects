{
 "cells": [
  {
   "cell_type": "code",
   "execution_count": 1,
   "id": "c6569b44-6f97-45bf-8098-60ff2dd4f68b",
   "metadata": {},
   "outputs": [
    {
     "data": {
      "text/plain": [
       "25"
      ]
     },
     "execution_count": 1,
     "metadata": {},
     "output_type": "execute_result"
    }
   ],
   "source": [
    "/*Write an expression to calculate the sum of two numbers, 10 and 15. Print the result in a Jupyter Notebook cell.*/\n",
    "10+15"
   ]
  },
  {
   "cell_type": "code",
   "execution_count": 2,
   "id": "1b5ecca0-ef69-43ca-b1d8-1d3b17512187",
   "metadata": {},
   "outputs": [
    {
     "data": {
      "text/plain": [
       "54"
      ]
     },
     "execution_count": 2,
     "metadata": {},
     "output_type": "execute_result"
    }
   ],
   "source": [
    "/*Write an expression to multiply 6 by 9. Print the result in a Jupyter Notebook cell.*/\n",
    "6*9"
   ]
  },
  {
   "cell_type": "code",
   "execution_count": 3,
   "id": "765dc138-13cd-4b19-940d-ad23297c273f",
   "metadata": {
    "tags": []
   },
   "outputs": [
    {
     "data": {
      "text/plain": [
       "35"
      ]
     },
     "execution_count": 3,
     "metadata": {},
     "output_type": "execute_result"
    }
   ],
   "source": [
    "/*Write an expression to find the average of three numbers: 25, 35, and 45. Print the result in a Jupyter Notebook cell.*/\n",
    "(25+35+45)/3"
   ]
  },
  {
   "cell_type": "code",
   "execution_count": 4,
   "id": "6980f027-87bc-4fe6-bc20-6d519ffb42ce",
   "metadata": {},
   "outputs": [
    {
     "data": {
      "text/plain": [
       "1"
      ]
     },
     "execution_count": 4,
     "metadata": {},
     "output_type": "execute_result"
    }
   ],
   "source": [
    "/*Write an expression to check if a number, such as 7, is divisible by 2. Print the result in a Jupyter Notebook cell along with a comment to explain the output.*/\n",
    "/*modulus gives remainder*/\n",
    "\n",
    "//if answer is 0 it is divisible\n",
    "\n",
    "7%2"
   ]
  },
  {
   "cell_type": "code",
   "execution_count": 5,
   "id": "45665b44-ba77-47a9-b949-d693e053a87e",
   "metadata": {
    "tags": []
   },
   "outputs": [
    {
     "data": {
      "text/plain": [
       "'\\'"
      ]
     },
     "execution_count": 5,
     "metadata": {},
     "output_type": "execute_result"
    }
   ],
   "source": [
    "/*Write an expression that represents the character ‘\\’. Print ‘\\’ in a Juypter Notebook cell along with a comment to explain what you wrote.*/\n",
    "\n",
    "'\\\\'"
   ]
  },
  {
   "cell_type": "code",
   "execution_count": 6,
   "id": "6b268510-d637-4629-bfd0-5bab39a122c1",
   "metadata": {
    "tags": []
   },
   "outputs": [
    {
     "name": "stdout",
     "output_type": "stream",
     "text": [
      "'"
     ]
    }
   ],
   "source": [
    "/*Write an expression that represents the character ‘'’. Print ‘'’ in a Juypter Notebook cell along with a comment to explain what you wrote.*/\n",
    "\n",
    "printf(\"\\'\");"
   ]
  },
  {
   "cell_type": "code",
   "execution_count": null,
   "id": "48387952-2999-41c7-a2de-76050e3de9fc",
   "metadata": {},
   "outputs": [],
   "source": []
  }
 ],
 "metadata": {
  "kernelspec": {
   "display_name": "C++11",
   "language": "C++11",
   "name": "xcpp11"
  },
  "language_info": {
   "codemirror_mode": "text/x-c++src",
   "file_extension": ".cpp",
   "mimetype": "text/x-c++src",
   "name": "c++",
   "version": "11"
  }
 },
 "nbformat": 4,
 "nbformat_minor": 5
}
