{
 "cells": [
  {
   "cell_type": "code",
   "execution_count": 1,
   "id": "bfb47b27-be03-408c-977f-41423503c40f",
   "metadata": {
    "tags": []
   },
   "outputs": [
    {
     "name": "stdout",
     "output_type": "stream",
     "text": [
      "Welcome to CSCI 1060!\n",
      "I enjoy doing programming…sometimes."
     ]
    }
   ],
   "source": [
    "/*Write a C++ program in a single cell that prints the following:\n",
    "“Welcome to CSCI 1060!”\n",
    "“I enjoy doing programming…sometimes.”*/\n",
    "printf(\"Welcome to CSCI 1060!\\nI enjoy doing programming…sometimes.\");"
   ]
  },
  {
   "cell_type": "code",
   "execution_count": 2,
   "id": "c2df50de-fa14-40df-a5f6-51b0ba1a5d72",
   "metadata": {
    "tags": []
   },
   "outputs": [
    {
     "name": "stdout",
     "output_type": "stream",
     "text": [
      "*************************************\n",
      "Welcome to CSCI 1060!\n",
      "I enjoy doing programming…sometimes.\n",
      "*************************************"
     ]
    }
   ],
   "source": [
    "/*Write another C++ program in a single cell that prints the same as 1), \n",
    "but also has an int variable called stars. \n",
    "Before and after printing the messages, \n",
    "the program should print a number of asterisks (*) equal to stars.*/\n",
    "\n",
    "int stars = 37;\n",
    "\n",
    "    for(int i = 0; i < stars; i++){\n",
    "        printf(\"*\");\n",
    "    }\n",
    "    \n",
    "    printf(\"\\nWelcome to CSCI 1060!\\nI enjoy doing programming…sometimes.\\n\");\n",
    "    \n",
    "    for(int i = 0; i < stars; i++){\n",
    "        printf(\"*\");\n",
    "    }"
   ]
  },
  {
   "cell_type": "code",
   "execution_count": 3,
   "id": "f71f41bf-7b1f-4a9f-885e-a78edd7f18dc",
   "metadata": {
    "tags": []
   },
   "outputs": [
    {
     "name": "stdout",
     "output_type": "stream",
     "text": [
      "you entered 6 and 4\n",
      "Below are the calculations for these numbers\n",
      "Addition: 6 + 4 = 10\n",
      "Subtaction: 6 - 4 = 2\n",
      "Multiplication: 6 * 4 = 24\n",
      "Modulus: 6 % 4 = 2\n"
     ]
    }
   ],
   "source": [
    "/*Write a calculator program that takes 2 inputs from the user, \n",
    "displays on the screen what the user has entered by displaying, \n",
    "“You entered 5 and 3”. On the next line display “Below are the calculations for these numbers”. \n",
    "Finally, display the addition, subtraction, multiplication, division and modulus of the numbers.*/\n",
    "#include <iostream>\n",
    "#include <string>\n",
    "using namespace std;\n",
    "    int num1 = 6; int num2 = 4;\n",
    "    // cout << \"Give me a number\\n\";\n",
    "    // cin >> num1;\n",
    "    // cout << \"Give me a number\\n\";\n",
    "    // cin >> num2;\n",
    "    cout << \"you entered \" << num1 << \" and \" << num2 << \"\\nBelow are the calculations for these numbers\\n\";\n",
    "    cout << \"Addition: \" << num1 << \" + \" << num2 << \" = \" <<num1 + num2 << \"\\n\";\n",
    "    cout << \"Subtaction: \" << num1 << \" - \" << num2 << \" = \"  << num1 - num2 << \"\\n\";\n",
    "    cout << \"Multiplication: \" << num1 << \" * \" << num2 << \" = \" << num1 * num2 << \"\\n\";\n",
    "    cout << \"Modulus: \" << num1 << \" % \" << num2 << \" = \" << num1 % num2 << \"\\n\";"
   ]
  },
  {
   "cell_type": "code",
   "execution_count": 4,
   "id": "05c26aff-c709-439f-b1ad-2742860074f8",
   "metadata": {},
   "outputs": [
    {
     "name": "stdout",
     "output_type": "stream",
     "text": [
      "Square of 1.50 is 2.25\n"
     ]
    }
   ],
   "source": [
    "/*Write a program that takes a decimal number (e.g., 10.5) from the user \n",
    "and finds the square of that number. \n",
    "Finally, display the result as “Square of 10.5 is 110.25”.*/\n",
    "#include <iostream>\n",
    "#include <string>\n",
    "using namespace std;\n",
    "    float num1 = 1.5;\n",
    "    // cout << \"Give me a float\\n\";\n",
    "    // cin >> num1;\n",
    "    float square = num1 * num1;\n",
    "    printf(\"Square of %.2f is %.2f\\n\", num1, square);"
   ]
  },
  {
   "cell_type": "code",
   "execution_count": 5,
   "id": "b0acb54a-1d8f-4da3-a867-42692f3960f4",
   "metadata": {},
   "outputs": [
    {
     "name": "stdout",
     "output_type": "stream",
     "text": [
      "You entered a negative number"
     ]
    }
   ],
   "source": [
    "/*Write a C++ program that uses an integer variable \n",
    "and tells whether the number is positive or negative. \n",
    "For example, if the variable is -5, the program should display, \n",
    "“You entered a negative number” and so on.*/\n",
    "int variable = -5;\n",
    "    if(variable > 0){\n",
    "        printf(\"You entered a positive number\");\n",
    "    }else if(variable < 0){\n",
    "        printf(\"You entered a negative number\");\n",
    "    }else{\n",
    "        printf(\"You entered zero\");\n",
    "    }"
   ]
  },
  {
   "cell_type": "code",
   "execution_count": 6,
   "id": "35de27a0-3da8-469e-93da-d5dc0a58a358",
   "metadata": {},
   "outputs": [
    {
     "name": "stdout",
     "output_type": "stream",
     "text": [
      "The letter is a vowel\n"
     ]
    }
   ],
   "source": [
    "/*Write a C++ program that checks if a character variable is a vowel or not? \n",
    "For example, if the variable is ‘E’, your program should be able to display, “The letter is a vowel” and vice versa. \n",
    "Please note the following:\n",
    "    Make sure your program takes into account both upper- and lower-case letters.\n",
    "    You should be able to solve this with if statements as well as with a switch statement.*/\n",
    "#include <iostream>\n",
    "#include <string>\n",
    "using namespace std;\n",
    "    char variable = 'E';\n",
    "    // cout << \"Enter a letter\\n\";\n",
    "    // cin >> variable;\n",
    "    variable = toupper(variable);\n",
    "    switch(variable){\n",
    "        case 'A':\n",
    "        case 'E':\n",
    "        case 'I':\n",
    "        case 'O':\n",
    "        case 'U':\n",
    "            cout << \"The letter is a vowel\\n\";\n",
    "            break;\n",
    "        default:\n",
    "            cout << \"The letter is not a vowel\\n\";\n",
    "            break;\n",
    "    }"
   ]
  },
  {
   "cell_type": "code",
   "execution_count": 7,
   "id": "d3ca9d0f-fa18-4c70-be0d-f82105db1fae",
   "metadata": {},
   "outputs": [
    {
     "name": "stdout",
     "output_type": "stream",
     "text": [
      "Entered character is a letter"
     ]
    }
   ],
   "source": [
    "/*Write a program that uses a character and tells whether it’s a letter, number or a special character. \n",
    "For example, if the character is a “$” then your program should display, \n",
    "“Entered letter is a special character” and vice versa for letters and numbers.*/\n",
    "#include <iostream>\n",
    "#include <string>\n",
    "using namespace std;\n",
    "    char letters[] = {'A','B','C','D','E','F','G','H','I','J','K','L','M','N','O','P','Q','R','S','T','U','V','W','X','Y','Z','a','b','c','d','e','f','g','h','i','j','k','l','m','n','o','p','q','r','s','t','u','v','w','x','y','z'};\n",
    "    char numbers[] = {'1','2','3','4','5','6','7','8','9','0'};\n",
    "    char character = 'A';int l; int n;\n",
    "    // cout << \"Enter a letter\\n\";\n",
    "    // cin >> character;\n",
    "    for (int i = 0; i < (sizeof(letters)/sizeof(letters[0])); i++){\n",
    "        if(character == letters[i]){\n",
    "            l = 1;\n",
    "        }\n",
    "    }\n",
    "    for (int i = 0; i < (sizeof(numbers)/sizeof(numbers[0])); i++){\n",
    "        if(character == numbers[i]){\n",
    "            n = 1;\n",
    "        }\n",
    "    }\n",
    "    if(n == 1){\n",
    "        cout << \"Entered character is a number\";\n",
    "    }else if(l == 1){\n",
    "        cout << \"Entered character is a letter\";\n",
    "    }else{\n",
    "        cout << \"Entered character is a special character\";\n",
    "    }"
   ]
  },
  {
   "cell_type": "code",
   "execution_count": 8,
   "id": "f2bb75f0-a027-478e-9583-6bb58b7618c9",
   "metadata": {
    "tags": []
   },
   "outputs": [
    {
     "name": "stdout",
     "output_type": "stream",
     "text": [
      "0, 1, 2, 3, 4, 5, 6, 7, 8, 9, 10\n",
      "0, 12, 24, 36, 48, 60, 72, 84, 96, 108, 120"
     ]
    }
   ],
   "source": [
    "/*Write a C++ program that takes a random number from 1 to 12 \n",
    "and shows a multiplication table for that integer from 0 to 10.*/\n",
    "int num = 1 + rand()%12;\n",
    "printf(\"0, 1, 2, 3, 4, 5, 6, 7, 8, 9, 10\\n%d, %d, %d, %d, %d, %d, %d, %d, %d, %d, %d\",num * 0,num * 1,num * 2,num * 3,num * 4,num * 5,num * 6,num * 7,num * 8,num * 9,num * 10);"
   ]
  },
  {
   "cell_type": "code",
   "execution_count": 9,
   "id": "b593adbe-e526-4ea9-a77f-b9e4dc9695d4",
   "metadata": {
    "tags": []
   },
   "outputs": [
    {
     "name": "stdout",
     "output_type": "stream",
     "text": [
      "189"
     ]
    }
   ],
   "source": [
    "/*Write a C++ program that gets a random number from 5 to 15 on each iteration of the loop. \n",
    "If the number is 5, the loop should terminate, otherwise it will continue. \n",
    "At the end of the loop, the program should display the sum of all the numbers  generated.*/\n",
    "int num; int sum = 0;\n",
    "do{\n",
    "    num = 5 + rand()%11;\n",
    "    sum += num;\n",
    "}while(num != 5);\n",
    "printf(\"%d\", sum);"
   ]
  },
  {
   "cell_type": "code",
   "execution_count": 10,
   "id": "9e9e78f2-253d-4394-9e57-532fd052eb23",
   "metadata": {},
   "outputs": [
    {
     "name": "stdout",
     "output_type": "stream",
     "text": [
      "22"
     ]
    }
   ],
   "source": [
    "/*Write a program that generates a random number from 1000-9999 \n",
    "and adds the digits of that number and prints the sum.\n",
    "For example, if the random number is 3829 then it should print (3+8+2+9) = 22*/\n",
    "#include <iostream>\n",
    "#include <string>\n",
    "using namespace std;\n",
    "int num = 1000 + rand()%9000;\n",
    "string number = to_string(num);\n",
    "// cout << number << \"\\n\";\n",
    "int sum = 0;\n",
    "for(int i = 0; i < number.length(); i++){\n",
    "    // cout << number.at(i) << \"\\n\";\n",
    "    char dig = number.at(i);\n",
    "    int digit = dig - '0';\n",
    "    sum += digit;\n",
    "}\n",
    "printf(\"%d\", sum);"
   ]
  },
  {
   "cell_type": "code",
   "execution_count": 11,
   "id": "adc1926a-000e-44c5-bc9b-9fbc9460be88",
   "metadata": {},
   "outputs": [],
   "source": [
    "/*Write a C++ program that generates a random number \n",
    "and checks to see if that number is odd and less than 20. \n",
    "Your program should have two functions: void isLessThan20(int number) and void isOdd(int number).*/"
   ]
  },
  {
   "cell_type": "code",
   "execution_count": 12,
   "id": "6ff0ad49-1518-4329-bd3f-16e38c3646f0",
   "metadata": {
    "tags": []
   },
   "outputs": [],
   "source": [
    "void isLessThan20(int number){\n",
    "    if(number < 20){\n",
    "        printf(\"The number is less than 20\\n\");\n",
    "    }else{\n",
    "        printf(\"The number is not less than 20\\n\");\n",
    "    }\n",
    "}"
   ]
  },
  {
   "cell_type": "code",
   "execution_count": 13,
   "id": "3e8fc7e0-45b9-45ae-a19a-2cc17746c04d",
   "metadata": {
    "tags": []
   },
   "outputs": [],
   "source": [
    "void isOdd(int number){\n",
    "    if(number%2 != 0){\n",
    "        printf(\"The number is odd\\n\");\n",
    "    }else{\n",
    "        printf(\"The number is not odd\\n\");\n",
    "    }\n",
    "}"
   ]
  },
  {
   "cell_type": "code",
   "execution_count": 14,
   "id": "e81524ab-d0ae-4402-91db-923bb3e05783",
   "metadata": {
    "tags": []
   },
   "outputs": [
    {
     "name": "stdout",
     "output_type": "stream",
     "text": [
      "The number is not odd\n",
      "The number is not less than 20\n"
     ]
    }
   ],
   "source": [
    "int number = 1 + rand()%40;\n",
    "isOdd(number);\n",
    "isLessThan20(number);"
   ]
  },
  {
   "cell_type": "code",
   "execution_count": 15,
   "id": "671d4e19-7899-4c71-b5a9-af0a55142d21",
   "metadata": {},
   "outputs": [],
   "source": [
    "/*Write a C++ program that takes a random number from 1 to 10 \n",
    "and computes the factorial of that number. \n",
    "It should use the function void factorial(int number).*/\n",
    "void factorial(int number){\n",
    "    int factorial = 1;\n",
    "    for(int i = 1; i <= number; i++){\n",
    "        factorial *= i;\n",
    "    }\n",
    "    printf(\"%d\\n\", factorial);\n",
    "}"
   ]
  },
  {
   "cell_type": "code",
   "execution_count": 16,
   "id": "720f0a01-267e-4803-9835-0dab044fe1fc",
   "metadata": {
    "tags": []
   },
   "outputs": [
    {
     "name": "stdout",
     "output_type": "stream",
     "text": [
      "5040\n"
     ]
    }
   ],
   "source": [
    "int number = 1 + rand()%10;\n",
    "factorial(number);"
   ]
  },
  {
   "cell_type": "code",
   "execution_count": 17,
   "id": "41507f2a-4e65-40bf-9194-46c4dfafac14",
   "metadata": {},
   "outputs": [],
   "source": [
    "/*Write a C++ program containing a function int divisibleCount(int number, int divisor) \n",
    "that takes number and divisor and computes how many times the number canbe completely divided by the divisor. \n",
    "\n",
    "For example, if the function is called with 8 as a number and 2 as a divisor, \n",
    "your program should show the message “8 can be completely divided by 2 a total of 3 times”, \n",
    "since 2 can divide 8 up to 3 times without having any remainder. \n",
    "\n",
    "Similarly, if 10 is the number and 3 is the divisor, \n",
    "your program should show the message “10 can be completely divided by 3 a total of 2 times”, \n",
    "since 3 can divide 10 up to 2 times without having any remainder.*/\n",
    "int divisibleCount(int number, int divisor){\n",
    "    int c = 0;\n",
    "    for(int i = divisor; i <= number; i += divisor){\n",
    "        c++;\n",
    "    }\n",
    "    if(number % divisor != 0){\n",
    "        c--;\n",
    "    }\n",
    "    printf(\"%d can be completely divided by %d a total of %d times\", number, divisor, c);\n",
    "    return c;\n",
    "}"
   ]
  },
  {
   "cell_type": "code",
   "execution_count": 18,
   "id": "a0e0aaaf-eb7e-4b50-ad2c-e8d1b64bce88",
   "metadata": {
    "tags": []
   },
   "outputs": [
    {
     "name": "stdout",
     "output_type": "stream",
     "text": [
      "10 can be completely divided by 3 a total of 2 times"
     ]
    }
   ],
   "source": [
    "divisibleCount(10, 3);"
   ]
  },
  {
   "cell_type": "code",
   "execution_count": 19,
   "id": "2a300971-f894-4af3-b17d-59ecbf33b471",
   "metadata": {},
   "outputs": [],
   "source": [
    "/*Write a program in C++ to search for a specific element in a given array of integers.\n",
    "\n",
    "The program should:\n",
    "\n",
    "Take in the size of the array as input.\n",
    "Take in the elements of the array as input.\n",
    "Take in the element to search for as input.\n",
    "Search for the given element in the array and output its position in the array. If the element is not found in the array, output \"Element not found\".\n",
    "Use arrays in C++ to represent the list of integers.\n",
    "\n",
    "Example usage:\n",
    "\n",
    "\n",
    "Enter the size of the array: 5\n",
    "Enter the elements of the array: 2 4 6 8 10\n",
    "Enter the element to search for: 8\n",
    "The element is found at position 4\n",
    "\n",
    "Enter the size of the array: 5\n",
    "Enter the elements of the array: 2 4 6 8 10\n",
    "Enter the element to search for: 12\n",
    "Element not found*/\n",
    "void arraySearch(int size, int array[], int search){\n",
    "    bool found = false;\n",
    "    for(int i = 0; i <= size; i++){\n",
    "        if(search == array[i]){\n",
    "            found = true;\n",
    "            printf(\"%d\",i+1);\n",
    "        }\n",
    "    }\n",
    "    if(found == false){\n",
    "        printf(\"Element not found\");\n",
    "    }\n",
    "}"
   ]
  },
  {
   "cell_type": "code",
   "execution_count": 20,
   "id": "1850e550-e191-4943-8401-12dc7b960e7d",
   "metadata": {
    "tags": []
   },
   "outputs": [
    {
     "name": "stdout",
     "output_type": "stream",
     "text": [
      "Element not found"
     ]
    }
   ],
   "source": [
    "int array[] = {2,4,6,8,10};\n",
    "arraySearch(5, array, 12);"
   ]
  },
  {
   "cell_type": "code",
   "execution_count": 21,
   "id": "2ddf5268-e225-47c8-80c6-47d0cfba4cc0",
   "metadata": {
    "tags": []
   },
   "outputs": [],
   "source": [
    "/*Write a program in C++ to check if a string is equal to another string spelled backwards. \n",
    "For example, \"smart\" is \"trams\" spelled backwards.\n",
    "\n",
    "The program should:\n",
    "\n",
    "Take in 2 strings as input.\n",
    "If they are not equal in length, return false.\n",
    "For each letter in the first string, verify it matches the opposite letter in the other string.\n",
    "Use the string class in C++ to perform the string operations.\n",
    "\n",
    "Example usage:\n",
    "\n",
    "Enter string1: smart\n",
    "Enter string2: trams\n",
    "smart is the same as trams spelled backwards\n",
    "\n",
    "Enter string1: compute\n",
    "Enter string2: erupt\n",
    "compute is not the same as erupt spelled backwards*/\n",
    "#include <iostream>\n",
    "#include <string>\n",
    "using namespace std;"
   ]
  },
  {
   "cell_type": "code",
   "execution_count": 22,
   "id": "0ad74236-71f5-4951-a656-751a93cc627e",
   "metadata": {
    "tags": []
   },
   "outputs": [],
   "source": [
    "bool equalString(string string1, string string2){\n",
    "    if ((string1.length()) != (string2.length())){\n",
    "        cout << string1 << \" is not the same as \" << string2 << \" spelled backwards\";\n",
    "        return false;\n",
    "    }\n",
    "    int i =0; \n",
    "    int j = string1.length() - 1;\n",
    "    while(i <= j){\n",
    "        if (string1[i] != string2[j]){\n",
    "            cout << string1 << \" is not the same as \" << string2 << \" spelled backwards\";\n",
    "            return false;\n",
    "        }\n",
    "        i++;\n",
    "        j--;\n",
    "    }\n",
    "    cout << string1 << \" is the same as \" << string2 << \" spelled backwards\";\n",
    "    return true;\n",
    "}"
   ]
  },
  {
   "cell_type": "code",
   "execution_count": 27,
   "id": "25addb1f-6593-4f68-a41a-74a5e20787a8",
   "metadata": {},
   "outputs": [
    {
     "name": "stdout",
     "output_type": "stream",
     "text": [
      "compute is not the same as erupt spelled backwards"
     ]
    }
   ],
   "source": [
    "equalString(\"compute\", \"erupt\");"
   ]
  },
  {
   "cell_type": "code",
   "execution_count": 23,
   "id": "9fa40bdf-5da2-4849-9b8a-b04408c146b7",
   "metadata": {
    "tags": []
   },
   "outputs": [],
   "source": [
    "/*Write a program in C++ to check if a given string is a palindrome or not. \n",
    "A palindrome is a string that reads the same forwards and backwards.\n",
    "\n",
    "The program should:\n",
    "\n",
    "Take in a string as input.\n",
    "Check if the string is a palindrome.\n",
    "Output \"The string is a palindrome\" if the string is a palindrome, otherwise output \"The string is not a palindrome\".\n",
    "Use the string class in C++ to perform the string operations.\n",
    "\n",
    "Example usage:\n",
    "\n",
    "Enter a string: racecar\n",
    "The string is a palindrome\n",
    "\n",
    "Enter a string: hello\n",
    "The string is not a palindrome*/\n",
    "#include <iostream>\n",
    "#include <string>\n",
    "using namespace std;"
   ]
  },
  {
   "cell_type": "code",
   "execution_count": 24,
   "id": "438f9f8c-891a-4e55-af69-63d60e4280d9",
   "metadata": {
    "tags": []
   },
   "outputs": [],
   "source": [
    "bool checkPalindrome(string palin){\n",
    "    int i = 0; int j = palin.length() - 1;\n",
    "    char temp;\n",
    "    string original = palin;\n",
    "    while (i <= j){\n",
    "        temp = palin[i];\n",
    "        palin[i] = palin[j];\n",
    "        palin[j] = temp;\n",
    "        i++;\n",
    "        j--;\n",
    "    }\n",
    "    if (original == palin){\n",
    "        cout << \"The string is a palindrome\";\n",
    "        return true;\n",
    "    }\n",
    "    cout << \"The string is not a palindrome\";\n",
    "    return false;\n",
    "}"
   ]
  },
  {
   "cell_type": "code",
   "execution_count": 25,
   "id": "10d2577f-7fdd-4326-970b-6315c0979034",
   "metadata": {
    "tags": []
   },
   "outputs": [
    {
     "name": "stdout",
     "output_type": "stream",
     "text": [
      "The string is a palindrome"
     ]
    }
   ],
   "source": [
    "checkPalindrome(\"noon\");"
   ]
  }
 ],
 "metadata": {
  "kernelspec": {
   "display_name": "C++11",
   "language": "C++11",
   "name": "xcpp11"
  },
  "language_info": {
   "codemirror_mode": "text/x-c++src",
   "file_extension": ".cpp",
   "mimetype": "text/x-c++src",
   "name": "c++",
   "version": "11"
  }
 },
 "nbformat": 4,
 "nbformat_minor": 5
}
