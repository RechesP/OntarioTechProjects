{
 "cells": [
  {
   "cell_type": "code",
   "execution_count": 1,
   "id": "5284e53a-49ae-4399-a631-e2baba826974",
   "metadata": {},
   "outputs": [],
   "source": [
    "#include <iostream>\n",
    "using namespace std;"
   ]
  },
  {
   "cell_type": "code",
   "execution_count": 2,
   "id": "8be2593b-1f5f-4055-8875-1bf733cdf13d",
   "metadata": {},
   "outputs": [],
   "source": [
    "/*Create a structure named \"Student\" with members \n",
    "for student name, student number, and grade. \n",
    "Prompt the user to enter information for three students and store the data using the structure. \n",
    "Display the information of each student on the console.*/\n",
    "\n",
    "class Student{\n",
    "    public:\n",
    "    string sName;\n",
    "    int sNumber;\n",
    "    int sGrade;\n",
    "}"
   ]
  },
  {
   "cell_type": "code",
   "execution_count": 3,
   "id": "2b4244ff-18c0-4ac2-8f4e-11ac3bbd7ea8",
   "metadata": {
    "tags": []
   },
   "outputs": [
    {
     "name": "stdout",
     "output_type": "stream",
     "text": [
      "Enter infromation for 3 students\n",
      "Student 1 Name:\n"
     ]
    },
    {
     "name": "stdin",
     "output_type": "stream",
     "text": [
      " John Smith\n"
     ]
    },
    {
     "name": "stdout",
     "output_type": "stream",
     "text": [
      "Student 1 Student Number:\n",
      "Student 1 Grade:\n",
      "Student 2 Name:\n",
      "Student 2 Student Number:\n",
      "Student 2 Grade:\n",
      "Student 3 Name:\n",
      "Student 3 Student Number:\n",
      "Student 3 Grade:\n",
      "Student: John, Student Number: 0, Grade: 0\n",
      "Student: , Student Number: 0, Grade: 0\n",
      "Student: , Student Number: 0, Grade: 0\n"
     ]
    }
   ],
   "source": [
    "cout << \"Enter infromation for 3 students\" << endl;\n",
    "Student sArr [3];\n",
    "for (int i = 0; i < 3; i++){\n",
    "    cout << \"Student \" << i + 1 << \" Name:\" << endl;\n",
    "    cin >> sArr[i].sName;\n",
    "    cout << \"Student \" << i + 1 << \" Student Number:\" << endl;\n",
    "    cin >> sArr[i].sNumber;\n",
    "    cout << \"Student \" << i + 1 << \" Grade:\" << endl;\n",
    "    cin >> sArr[i].sGrade;\n",
    "}\n",
    "for (int i = 0; i < 3; i++){\n",
    "    cout << \"Student: \" << sArr[i].sName << \", Student Number: \" << sArr[i].sNumber << \", Grade: \" << sArr[i].sGrade << endl;\n",
    "}"
   ]
  },
  {
   "cell_type": "code",
   "execution_count": 5,
   "id": "6c8e41bb-e7b8-4d16-8630-ccc64a939f0c",
   "metadata": {
    "tags": []
   },
   "outputs": [
    {
     "data": {
      "text/plain": [
       "9.00000f"
      ]
     },
     "execution_count": 5,
     "metadata": {},
     "output_type": "execute_result"
    }
   ],
   "source": [
    "float j = 9.0;\n",
    "j = (int)(j * 100 + .05) / 100;\n",
    "j"
   ]
  }
 ],
 "metadata": {
  "kernelspec": {
   "display_name": "C++11",
   "language": "C++11",
   "name": "xcpp11"
  },
  "language_info": {
   "codemirror_mode": "text/x-c++src",
   "file_extension": ".cpp",
   "mimetype": "text/x-c++src",
   "name": "c++",
   "version": "11"
  }
 },
 "nbformat": 4,
 "nbformat_minor": 5
}
