{
 "cells": [
  {
   "cell_type": "code",
   "execution_count": 1,
   "id": "16942372-9a59-4d32-bcd0-835faab8cf4d",
   "metadata": {
    "tags": []
   },
   "outputs": [],
   "source": [
    "/*Write a function named \"countCharacters\" that takes a string as a parameter \n",
    "and returns the number of characters in the string. \n",
    "Use the length() method.*/\n",
    "#include <iostream>\n",
    "#include <string>\n",
    "using namespace std;"
   ]
  },
  {
   "cell_type": "code",
   "execution_count": 2,
   "id": "c4c52d63-5b3c-4173-8613-280a22e5e22b",
   "metadata": {
    "tags": []
   },
   "outputs": [],
   "source": [
    "int countCharacters(string word){\n",
    "    return word.length();\n",
    "}"
   ]
  },
  {
   "cell_type": "code",
   "execution_count": 3,
   "id": "17bd893d-ea4c-4eea-84f0-5d28d8e4bc77",
   "metadata": {
    "tags": []
   },
   "outputs": [
    {
     "data": {
      "text/plain": [
       "5"
      ]
     },
     "execution_count": 3,
     "metadata": {},
     "output_type": "execute_result"
    }
   ],
   "source": [
    "string word = \"Hello\";\n",
    "countCharacters(word)"
   ]
  },
  {
   "cell_type": "code",
   "execution_count": 4,
   "id": "2c27519c-a030-4358-a70d-e6fa1a121349",
   "metadata": {
    "tags": []
   },
   "outputs": [],
   "source": [
    "/*Write a function named \"findSubstring\" that takes two strings as parameters: \"mainString\" and \"subString\". \n",
    "The function should return the index of the first occurrence of \"subString\" in \"mainString\". \n",
    "Use the find() method.*/\n",
    "#include <iostream>\n",
    "#include <string>\n",
    "using namespace std;"
   ]
  },
  {
   "cell_type": "code",
   "execution_count": 5,
   "id": "9e8c67f7-41dc-4811-a809-2167b54544e0",
   "metadata": {
    "tags": []
   },
   "outputs": [],
   "source": [
    "int findSubstring(string mainString, string subString){\n",
    "    return mainString.find(subString);\n",
    "}"
   ]
  },
  {
   "cell_type": "code",
   "execution_count": 6,
   "id": "8111ec17-7d31-4772-ae99-5775513a8aa5",
   "metadata": {
    "tags": []
   },
   "outputs": [
    {
     "data": {
      "text/plain": [
       "5"
      ]
     },
     "execution_count": 6,
     "metadata": {},
     "output_type": "execute_result"
    }
   ],
   "source": [
    "string sentence = \"I am cheese\"; string word = \"cheese\";\n",
    "findSubstring(sentence, word)"
   ]
  },
  {
   "cell_type": "code",
   "execution_count": 7,
   "id": "77da1b7d-9980-4057-83bb-3603fc530143",
   "metadata": {},
   "outputs": [],
   "source": [
    "/*Write a function named \"extractSubstring\" \n",
    "that takes a string as a parameter \n",
    "and returns a substring starting from index 3 and having a length of 5. \n",
    "Use the substr() method.*/\n",
    "#include <iostream>\n",
    "#include <string>\n",
    "using namespace std;"
   ]
  },
  {
   "cell_type": "code",
   "execution_count": 8,
   "id": "5d62409e-e768-46cc-9d4e-acb8d71f64dd",
   "metadata": {
    "tags": []
   },
   "outputs": [],
   "source": [
    "void extractSubstring(string string){\n",
    "    cout << string.substr(3,5);\n",
    "}"
   ]
  },
  {
   "cell_type": "code",
   "execution_count": 9,
   "id": "6a00ad10-aff2-4fbe-b835-0d9054255b15",
   "metadata": {
    "tags": []
   },
   "outputs": [
    {
     "name": "stdout",
     "output_type": "stream",
     "text": [
      "there"
     ]
    }
   ],
   "source": [
    "string greeting = \"Hi there\";\n",
    "extractSubstring(greeting)"
   ]
  },
  {
   "cell_type": "code",
   "execution_count": 10,
   "id": "5efb3f8f-d10e-459f-b917-a162c41e7f64",
   "metadata": {},
   "outputs": [],
   "source": [
    "/*Write a function named \"capitalizeFirstLetter\" \n",
    "that takes a string as a parameter \n",
    "and returns a new string with the first letter of each word capitalized. \n",
    "Use the toupper() method.*/\n",
    "#include <iostream>\n",
    "#include <string>\n",
    "using namespace std;"
   ]
  },
  {
   "cell_type": "code",
   "execution_count": 11,
   "id": "d03b440c-0443-47b6-91a9-2e67f0a0b0ef",
   "metadata": {
    "tags": []
   },
   "outputs": [],
   "source": [
    "void capitalizeFirstLetter(string userInput){\n",
    "    for (int i = 0; i < userInput.length(); i++){\n",
    "        if (userInput[i - 1] == ' ' || userInput[i] == userInput[0]){\n",
    "            userInput[i] = toupper(userInput[i]);\n",
    "        }\n",
    "    }\n",
    "    cout << userInput;\n",
    "}"
   ]
  },
  {
   "cell_type": "code",
   "execution_count": 12,
   "id": "5e90a69c-2a6d-4345-8729-f82694f6ffbe",
   "metadata": {
    "tags": []
   },
   "outputs": [
    {
     "name": "stdout",
     "output_type": "stream",
     "text": [
      "These Are Some Words To Test This Input Method"
     ]
    }
   ],
   "source": [
    "string greeting = \"these are some words to test this input method\";\n",
    "capitalizeFirstLetter(greeting)"
   ]
  },
  {
   "cell_type": "code",
   "execution_count": 13,
   "id": "773b6dae-e64e-429d-851d-ae18049717d0",
   "metadata": {
    "tags": []
   },
   "outputs": [],
   "source": [
    "/*Write a function named \"checkPalindrome\" that takes a string as a parameter \n",
    "and returns a boolean indicating whether the string is a palindrome (reads the same forwards and backwards). \n",
    "Ignore spaces and punctuation.*/\n",
    "#include <iostream>\n",
    "#include <string>\n",
    "using namespace std;"
   ]
  },
  {
   "cell_type": "code",
   "execution_count": 14,
   "id": "8cf29b58-9d9b-443b-b511-3672d4d883ab",
   "metadata": {
    "tags": []
   },
   "outputs": [],
   "source": [
    "bool checkPalindrome(string palin){\n",
    "    int i = 0; int j = palin.length() - 1;\n",
    "    char temp;\n",
    "    string original = palin;\n",
    "    while (i <= j){\n",
    "        temp = palin[i];\n",
    "        palin[i] = palin[j];\n",
    "        palin[j] = temp;\n",
    "        i++;\n",
    "        j--;\n",
    "    }\n",
    "    cout << \"orignial is \" << original << \"\\n\";\n",
    "    cout << \"palindrome is \" << palin;\n",
    "    if (original == palin){\n",
    "        return true;\n",
    "    }\n",
    "    return false;\n",
    "}"
   ]
  },
  {
   "cell_type": "code",
   "execution_count": 15,
   "id": "7b84ee90-b62c-4534-896c-a78e0b8f0af8",
   "metadata": {
    "tags": []
   },
   "outputs": [
    {
     "name": "stdout",
     "output_type": "stream",
     "text": [
      "orignial is racecar\n",
      "palindrome is racecar"
     ]
    },
    {
     "data": {
      "text/plain": [
       "true"
      ]
     },
     "execution_count": 15,
     "metadata": {},
     "output_type": "execute_result"
    }
   ],
   "source": [
    "string greeting = \"racecar\";\n",
    "checkPalindrome(greeting)"
   ]
  }
 ],
 "metadata": {
  "kernelspec": {
   "display_name": "C++11",
   "language": "C++11",
   "name": "xcpp11"
  },
  "language_info": {
   "codemirror_mode": "text/x-c++src",
   "file_extension": ".cpp",
   "mimetype": "text/x-c++src",
   "name": "c++",
   "version": "11"
  }
 },
 "nbformat": 4,
 "nbformat_minor": 5
}
