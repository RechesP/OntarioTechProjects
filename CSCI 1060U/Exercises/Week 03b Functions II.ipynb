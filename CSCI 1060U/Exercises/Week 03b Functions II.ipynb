{
 "cells": [
  {
   "cell_type": "code",
   "execution_count": 1,
   "id": "a8445229-afa8-4ba0-b873-271c3cf984ae",
   "metadata": {
    "tags": []
   },
   "outputs": [],
   "source": [
    "/*Write a function named \"squareByValue\" that takes an integer as a parameter \n",
    "and returns the square of that number.\n",
    "The function should use pass by value.*/\n",
    "int squareByValue(int integer){\n",
    "    integer *= integer;\n",
    "    return integer;\n",
    "}"
   ]
  },
  {
   "cell_type": "code",
   "execution_count": 2,
   "id": "bf725732-bb90-4c27-ac47-a7895f49245c",
   "metadata": {
    "tags": []
   },
   "outputs": [
    {
     "data": {
      "text/plain": [
       "4"
      ]
     },
     "execution_count": 2,
     "metadata": {},
     "output_type": "execute_result"
    }
   ],
   "source": [
    "squareByValue(2)"
   ]
  },
  {
   "cell_type": "code",
   "execution_count": 3,
   "id": "b21972b8-7230-41cf-a360-09077a1d4afe",
   "metadata": {
    "tags": []
   },
   "outputs": [],
   "source": [
    "/*Write a function named \"squareByReference\" that takes an integer as a parameter \n",
    "and modifies it to store the square of that number.\n",
    "The function should use pass by reference.*/\n",
    "int squareByReference(int &inte){\n",
    "    inte *= inte;\n",
    "    return inte;\n",
    "}"
   ]
  },
  {
   "cell_type": "code",
   "execution_count": 4,
   "id": "d3c74932-7f5e-48f4-9a4e-ba0a80a783d9",
   "metadata": {
    "tags": []
   },
   "outputs": [
    {
     "data": {
      "text/plain": [
       "16"
      ]
     },
     "execution_count": 4,
     "metadata": {},
     "output_type": "execute_result"
    }
   ],
   "source": [
    "int inte = 4;\n",
    "squareByReference(inte)"
   ]
  },
  {
   "cell_type": "code",
   "execution_count": 5,
   "id": "43e2134f-9111-48ba-8cbe-1614a8b44912",
   "metadata": {},
   "outputs": [],
   "source": [
    "/*In one Jupyter Notebook cell, declare a global variable named \"counter\" and initialize it to 0. In a separate cell, \n",
    "write a function named \"incrementCounter\" that increments the value of \"counter\" by 1. \n",
    "Then, call the function multiple times to observe the changes in the global variable's value.*/\n",
    "int counter = 0;"
   ]
  },
  {
   "cell_type": "code",
   "execution_count": 6,
   "id": "aed5e133-e7c5-423b-ab05-655a37a20836",
   "metadata": {
    "tags": []
   },
   "outputs": [],
   "source": [
    "int incrementCounter(int counter){\n",
    "    counter++;\n",
    "    return counter;\n",
    "}"
   ]
  },
  {
   "cell_type": "code",
   "execution_count": 7,
   "id": "e75740d6-5b8c-49f5-a388-e114c6c096e8",
   "metadata": {
    "tags": []
   },
   "outputs": [
    {
     "data": {
      "text/plain": [
       "1"
      ]
     },
     "execution_count": 7,
     "metadata": {},
     "output_type": "execute_result"
    }
   ],
   "source": [
    "incrementCounter(counter)"
   ]
  },
  {
   "cell_type": "code",
   "execution_count": 8,
   "id": "97644423-2504-4251-a80d-dfbb71ea8dfe",
   "metadata": {
    "tags": []
   },
   "outputs": [
    {
     "data": {
      "text/plain": [
       "1"
      ]
     },
     "execution_count": 8,
     "metadata": {},
     "output_type": "execute_result"
    }
   ],
   "source": [
    "incrementCounter(counter)"
   ]
  },
  {
   "cell_type": "code",
   "execution_count": 9,
   "id": "3e374d33-6004-4378-9f8a-b1d782994d11",
   "metadata": {
    "tags": []
   },
   "outputs": [],
   "source": [
    "/*In one Jupyter Notebook cell, declare a variable named \"x\" and assign it a value.\n",
    "In another cell, write a function named \"printX\" that takes a parameter \"x\" and prints it.\n",
    "Call the function to observe the output.*/\n",
    "int x = 8;"
   ]
  },
  {
   "cell_type": "code",
   "execution_count": 10,
   "id": "77ff4e6c-d128-44ef-8698-09d035c8dc22",
   "metadata": {
    "tags": []
   },
   "outputs": [],
   "source": [
    "void printX(int x){\n",
    "    printf(\"%d\",x);\n",
    "}"
   ]
  },
  {
   "cell_type": "code",
   "execution_count": 11,
   "id": "aa56243e-d8bc-4f8c-9900-1b478fd8bc10",
   "metadata": {
    "tags": []
   },
   "outputs": [
    {
     "name": "stdout",
     "output_type": "stream",
     "text": [
      "8"
     ]
    }
   ],
   "source": [
    "printX(x)"
   ]
  },
  {
   "cell_type": "code",
   "execution_count": 12,
   "id": "3d23f063-22e4-4237-8080-393f56230b68",
   "metadata": {
    "tags": []
   },
   "outputs": [],
   "source": [
    "/*Write a function named \"swapValues\" that takes two integer parameters and swaps their values. \n",
    "The function should use pass by reference to modify the values of the variables.*/\n",
    "void swapValues(int &x, int &y){\n",
    "    printf(\"x = %d\\ny = %d\\n\\n\", x, y);\n",
    "    int z;\n",
    "    z = x;\n",
    "    x = y;\n",
    "    y = z;\n",
    "    printf(\"x = %d\\ny = %d\\n\", x, y);\n",
    "}"
   ]
  },
  {
   "cell_type": "code",
   "execution_count": 13,
   "id": "4da6f2db-cfa4-4f6a-a5e2-927194358bcd",
   "metadata": {
    "tags": []
   },
   "outputs": [
    {
     "name": "stdout",
     "output_type": "stream",
     "text": [
      "x = 8\n",
      "y = 6\n",
      "\n",
      "x = 6\n",
      "y = 8\n"
     ]
    }
   ],
   "source": [
    "int x = 8; int y = 6;\n",
    "swapValues(x, y);"
   ]
  }
 ],
 "metadata": {
  "kernelspec": {
   "display_name": "C++11",
   "language": "C++11",
   "name": "xcpp11"
  },
  "language_info": {
   "codemirror_mode": "text/x-c++src",
   "file_extension": ".cpp",
   "mimetype": "text/x-c++src",
   "name": "c++",
   "version": "11"
  }
 },
 "nbformat": 4,
 "nbformat_minor": 5
}
