{
 "cells": [
  {
   "cell_type": "code",
   "execution_count": null,
   "id": "9d7f7075-203d-4292-b209-f405a1d0e186",
   "metadata": {},
   "outputs": [],
   "source": [
    "/*Reches Pasternak\n",
    "13/09/2023\n",
    "1.0*/"
   ]
  },
  {
   "cell_type": "code",
   "execution_count": 1,
   "id": "c80ffeae-5e2f-4b84-bda3-1b5f28248edb",
   "metadata": {
    "tags": []
   },
   "outputs": [],
   "source": [
    "/*Write an if statement that checks if a variable \"age\" is greater than or equal to 18. \n",
    "If true, print \"You are eligible to vote\" to the console. \n",
    "Otherwise, print \"You are not eligible to vote.\"*/"
   ]
  },
  {
   "cell_type": "code",
   "execution_count": 2,
   "id": "0a505b9b-38c8-4931-b140-197c061b180a",
   "metadata": {
    "tags": []
   },
   "outputs": [
    {
     "name": "stdout",
     "output_type": "stream",
     "text": [
      "You are eligible to vote"
     ]
    }
   ],
   "source": [
    "int age = 20\n",
    "if(age>=18){\n",
    "    printf(\"You are eligible to vote\");\n",
    "}\n",
    "else{\n",
    "    printf(\"You are not eligible to vote.\");\n",
    "}"
   ]
  },
  {
   "cell_type": "code",
   "execution_count": 3,
   "id": "26c38957-7205-4d00-8046-2cf054c392e6",
   "metadata": {
    "tags": []
   },
   "outputs": [],
   "source": [
    "/*Declare a variable \"day\" and assign it a value from 1 to 7, representing the days of the week. \n",
    "Use a switch statement to print the corresponding day name to the console. \n",
    "For example, if \"day\" is 1, print \"Sunday.\"*/"
   ]
  },
  {
   "cell_type": "code",
   "execution_count": 4,
   "id": "4ccb85df-7db8-4e47-a398-cedd866ae828",
   "metadata": {
    "tags": []
   },
   "outputs": [
    {
     "name": "stdout",
     "output_type": "stream",
     "text": [
      "0 is out of the domain for days of the week. Please input a value from 1 to 7."
     ]
    }
   ],
   "source": [
    "int day = 0\n",
    "switch(day){\n",
    "    case 1:\n",
    "        printf(\"Sunday\");\n",
    "        break;\n",
    "    case 2:\n",
    "        printf(\"Monday\");\n",
    "        break;\n",
    "    case 3:\n",
    "        printf(\"Tuesday\");\n",
    "        break;\n",
    "    case 4:\n",
    "        printf(\"Wednesday\");\n",
    "        break;\n",
    "    case 5:\n",
    "        printf(\"Thursday\");\n",
    "        break;\n",
    "    case 6:\n",
    "        printf(\"friday\");\n",
    "        break;\n",
    "    case 7:\n",
    "        printf(\"Saturday\");\n",
    "        break;\n",
    "    default:\n",
    "        printf(\"%d is out of the domain for days of the week. Please input a value from 1 to 7.\", day);\n",
    "        break;\n",
    "}"
   ]
  },
  {
   "cell_type": "code",
   "execution_count": 5,
   "id": "1da9b3c7-070a-4908-a366-3640ca864b57",
   "metadata": {
    "tags": []
   },
   "outputs": [],
   "source": [
    "/*Declare a variable \"score\" and assign it a value between 0 and 100. \n",
    "Write an if-else statement to print \"Pass\" if \"score\" is greater than or equal to 60, \n",
    "and \"Fail\" otherwise.*/"
   ]
  },
  {
   "cell_type": "code",
   "execution_count": 6,
   "id": "91016bb6-ea45-4993-a995-bcbd6cfa6844",
   "metadata": {
    "tags": []
   },
   "outputs": [
    {
     "name": "stdout",
     "output_type": "stream",
     "text": [
      "Fail\n"
     ]
    }
   ],
   "source": [
    "int score = 49\n",
    "if(score>=60){\n",
    "    printf(\"Pass\\n\");\n",
    "}\n",
    "else{\n",
    "    printf(\"Fail\\n\");\n",
    "}"
   ]
  },
  {
   "cell_type": "code",
   "execution_count": 7,
   "id": "69a403b2-fbb0-43b2-b33f-e7ce1f958278",
   "metadata": {
    "tags": []
   },
   "outputs": [],
   "source": [
    "/*Write an if - else_if - else statement to determine the grade of a student based on their \"score\" variable. \n",
    "Assign grades as follows:\n",
    "\n",
    "If \"score\" is greater than or equal to 90, print \"A\".\n",
    "If \"score\" is greater than or equal to 80, print \"B\".\n",
    "If \"score\" is greater than or equal to 70, print \"C\".\n",
    "If \"score\" is greater than or equal to 60, print \"D\".\n",
    "Otherwise, print \"F\".\n",
    "*/"
   ]
  },
  {
   "cell_type": "code",
   "execution_count": 14,
   "id": "aaebac2d-9c7e-4198-92d1-f9e77f31eda6",
   "metadata": {
    "tags": []
   },
   "outputs": [
    {
     "name": "stdout",
     "output_type": "stream",
     "text": [
      "F"
     ]
    }
   ],
   "source": [
    "int score = 7;\n",
    "if(score >= 90){\n",
    "    printf(\"A\");\n",
    "}\n",
    "else if(score >= 80){\n",
    "    printf(\"B\");\n",
    "}\n",
    "else if(score >= 70){\n",
    "    printf(\"C\");\n",
    "}\n",
    "else if(score >= 60){\n",
    "    printf(\"D\");\n",
    "}\n",
    "else{\n",
    "    printf(\"F\");\n",
    "}"
   ]
  },
  {
   "cell_type": "code",
   "execution_count": null,
   "id": "d9ac4d90-6aa7-4da5-a7d7-0fa0c2307a5b",
   "metadata": {},
   "outputs": [],
   "source": [
    "/*Declare a variable \"month\" and assign it a value from 1 to 12, \n",
    "representing the months of the year. \n",
    "Use a switch statement to print the corresponding season to the console. \n",
    "For example, if \"month\" is 3, print \"Spring.\"*/"
   ]
  },
  {
   "cell_type": "code",
   "execution_count": 22,
   "id": "4e76fa9f-c45e-4f68-9b27-80e1f7ae3b54",
   "metadata": {
    "tags": []
   },
   "outputs": [
    {
     "name": "stdout",
     "output_type": "stream",
     "text": [
      "Summer"
     ]
    }
   ],
   "source": [
    "int month = 7;\n",
    "switch(month){\n",
    "    case 1:\n",
    "    case 2:\n",
    "    case 12:\n",
    "        printf(\"Winter\");\n",
    "        break;\n",
    "    case 3:\n",
    "    case 4:\n",
    "    case 5:\n",
    "        printf(\"Spring\");\n",
    "        break;\n",
    "    case 6:\n",
    "    case 7:\n",
    "    case 8:\n",
    "        printf(\"Summer\");\n",
    "        break;\n",
    "    case 9:\n",
    "    case 10:\n",
    "    case 11:\n",
    "        printf(\"Fall\");\n",
    "        break;\n",
    "    default:\n",
    "        printf(\"%d is out of the domain for months of the year. Please input a value from 1 to 12.\", month);\n",
    "        break;\n",
    "}"
   ]
  },
  {
   "cell_type": "code",
   "execution_count": null,
   "id": "d97b0b2a-65f7-4401-b0c9-e30bbd38ad1c",
   "metadata": {},
   "outputs": [],
   "source": []
  }
 ],
 "metadata": {
  "kernelspec": {
   "display_name": "C++11",
   "language": "C++11",
   "name": "xcpp11"
  },
  "language_info": {
   "codemirror_mode": "text/x-c++src",
   "file_extension": ".cpp",
   "mimetype": "text/x-c++src",
   "name": "c++",
   "version": "11"
  }
 },
 "nbformat": 4,
 "nbformat_minor": 5
}
