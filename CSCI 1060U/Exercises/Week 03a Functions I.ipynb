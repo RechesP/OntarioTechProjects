{
 "cells": [
  {
   "cell_type": "code",
   "execution_count": 1,
   "id": "e6faf013-88ee-4b02-b7f1-abdb5c3302a2",
   "metadata": {},
   "outputs": [],
   "source": [
    "/*Write a function named \"printGreeting\" that prints a greeting message to the console. \n",
    "The function should not require any parameters and should not return a value.*/"
   ]
  },
  {
   "cell_type": "code",
   "execution_count": 2,
   "id": "afb15db1-d483-43a9-acfc-a4cb4d0c77b9",
   "metadata": {
    "tags": []
   },
   "outputs": [],
   "source": [
    "void printGreeting(){\n",
    "    printf(\"How you doin'?\");\n",
    "}"
   ]
  },
  {
   "cell_type": "code",
   "execution_count": 3,
   "id": "d1618f98-05ff-49ed-8996-128eb69a7924",
   "metadata": {
    "tags": []
   },
   "outputs": [
    {
     "name": "stdout",
     "output_type": "stream",
     "text": [
      "How you doin'?"
     ]
    }
   ],
   "source": [
    "printGreeting()"
   ]
  },
  {
   "cell_type": "code",
   "execution_count": 4,
   "id": "5a6afa6d-27fd-4233-85f4-51a37eb54264",
   "metadata": {},
   "outputs": [],
   "source": [
    "/*Write a function named \"calculateCircleArea\" that takes the radius of a circle as a parameter and returns the area of the circle. \n",
    "The function should return the calculated area.*/"
   ]
  },
  {
   "cell_type": "code",
   "execution_count": 5,
   "id": "1735284d-f187-470e-8034-a803b4bd303a",
   "metadata": {
    "tags": []
   },
   "outputs": [],
   "source": [
    "#include <cmath>\n",
    "int calculateCircleArea(int radius){\n",
    "    int area = (pow(radius,2)*3.1415926535897);\n",
    "    return area;\n",
    "}"
   ]
  },
  {
   "cell_type": "code",
   "execution_count": 6,
   "id": "e47dca5d-1522-457f-a931-e867f18fbbcf",
   "metadata": {
    "tags": []
   },
   "outputs": [
    {
     "data": {
      "text/plain": [
       "78"
      ]
     },
     "execution_count": 6,
     "metadata": {},
     "output_type": "execute_result"
    }
   ],
   "source": [
    "calculateCircleArea(5)"
   ]
  },
  {
   "cell_type": "code",
   "execution_count": 7,
   "id": "27be8c21-61e0-4111-b55f-5b1c61bd7cbe",
   "metadata": {},
   "outputs": [],
   "source": [
    "/*Write an overloaded function named \"calculateRectangleArea\" that calculates the area of a rectangle. \n",
    "The function should accept two parameters: width and height. \n",
    "Implement the function for both integer and float data types. \n",
    "The function should return the calculated area.*/"
   ]
  },
  {
   "cell_type": "code",
   "execution_count": 8,
   "id": "23cfc405-001a-431a-8fbc-5782e773ad0f",
   "metadata": {
    "tags": []
   },
   "outputs": [],
   "source": [
    "int calculateRectangleArea(int height, int width){\n",
    "    int area = height*width;\n",
    "    return area;\n",
    "}"
   ]
  },
  {
   "cell_type": "code",
   "execution_count": 9,
   "id": "f6e86444-ea07-461b-a979-ce71378e025c",
   "metadata": {
    "tags": []
   },
   "outputs": [],
   "source": [
    "int calculateRectangleArea(float height, float width){\n",
    "    float area = height*width;\n",
    "    return area;\n",
    "}"
   ]
  },
  {
   "cell_type": "code",
   "execution_count": 10,
   "id": "a12f2653-379e-417b-9921-20ef70799ae7",
   "metadata": {
    "tags": []
   },
   "outputs": [
    {
     "data": {
      "text/plain": [
       "33"
      ]
     },
     "execution_count": 10,
     "metadata": {},
     "output_type": "execute_result"
    }
   ],
   "source": [
    "calculateRectangleArea(5.25f,6.35f)"
   ]
  },
  {
   "cell_type": "code",
   "execution_count": 11,
   "id": "8312e3c3-5273-4408-8a75-08e35b6cbf1b",
   "metadata": {
    "tags": []
   },
   "outputs": [
    {
     "data": {
      "text/plain": [
       "30"
      ]
     },
     "execution_count": 11,
     "metadata": {},
     "output_type": "execute_result"
    }
   ],
   "source": [
    "calculateRectangleArea(5,6)"
   ]
  },
  {
   "cell_type": "code",
   "execution_count": 12,
   "id": "b4a6a6b4-8108-4f88-9c0b-8c6fd61103cb",
   "metadata": {},
   "outputs": [],
   "source": [
    "/*Write a function named \"isPrime\" that takes an integer as a parameter and returns a boolean value indicating whether the number is prime or not. \n",
    "The function should return a boolean value.*/"
   ]
  },
  {
   "cell_type": "code",
   "execution_count": 13,
   "id": "e3c04ae5-39d5-4cd4-bfc0-56cb6e88de94",
   "metadata": {
    "tags": []
   },
   "outputs": [],
   "source": [
    "int isPrime(int integer){\n",
    "    int factors = 0;\n",
    "    bool prime = false;\n",
    "    for(int i = 1; i <= integer; i++){\n",
    "        if (integer % i == 0){\n",
    "            factors++;\n",
    "        }\n",
    "    }\n",
    "    if (factors == 2){\n",
    "        prime = true;\n",
    "    }\n",
    "    return prime;\n",
    "}"
   ]
  },
  {
   "cell_type": "code",
   "execution_count": 14,
   "id": "e6eedddf-108c-4a14-827c-9d2e8aa1d716",
   "metadata": {
    "tags": []
   },
   "outputs": [
    {
     "data": {
      "text/plain": [
       "0"
      ]
     },
     "execution_count": 14,
     "metadata": {},
     "output_type": "execute_result"
    }
   ],
   "source": [
    "isPrime(1)"
   ]
  },
  {
   "cell_type": "code",
   "execution_count": 15,
   "id": "b9666757-5071-4469-acaf-b6b08130ddca",
   "metadata": {
    "tags": []
   },
   "outputs": [],
   "source": [
    "/*Write an overloaded function named \"calculatePower\" that calculates the power of a number. \n",
    "The function should accept two parameters: base and exponent. \n",
    "Implement the function for both integer and float data types. \n",
    "The function should return the calculated result.*/"
   ]
  },
  {
   "cell_type": "code",
   "execution_count": 16,
   "id": "7625c3e9-4f00-487e-b762-111938dfcad7",
   "metadata": {
    "tags": []
   },
   "outputs": [],
   "source": [
    "int calculatePower(int base, int exponent){\n",
    "    int result = 1;\n",
    "    for(int i = 0; i < exponent; i++){\n",
    "        result *= base;\n",
    "    }\n",
    "    return result;\n",
    "}"
   ]
  },
  {
   "cell_type": "code",
   "execution_count": 17,
   "id": "f991fa96-8afb-4aca-b203-f1c51d69ccaa",
   "metadata": {
    "tags": []
   },
   "outputs": [
    {
     "data": {
      "text/plain": [
       "8"
      ]
     },
     "execution_count": 17,
     "metadata": {},
     "output_type": "execute_result"
    }
   ],
   "source": [
    "calculatePower(2,3)"
   ]
  },
  {
   "cell_type": "code",
   "execution_count": 18,
   "id": "80c2a6f9-75ed-493c-b877-8762b523cae7",
   "metadata": {
    "tags": []
   },
   "outputs": [],
   "source": [
    "float calculatePower(float base, float exponent){\n",
    "    float result = 1;\n",
    "    for(int i = 0; i < exponent; i ++){\n",
    "        result *= base;\n",
    "    }\n",
    "    return result;\n",
    "}"
   ]
  },
  {
   "cell_type": "code",
   "execution_count": 20,
   "id": "2101ddb8-eb54-436c-bb3d-a5196229c30a",
   "metadata": {
    "tags": []
   },
   "outputs": [
    {
     "data": {
      "text/plain": [
       "410.062f"
      ]
     },
     "execution_count": 20,
     "metadata": {},
     "output_type": "execute_result"
    }
   ],
   "source": [
    "calculatePower(4.5f,4.0f)"
   ]
  },
  {
   "cell_type": "code",
   "execution_count": null,
   "id": "1ae29dc9-753f-45b0-9062-ece9ea7ccd2a",
   "metadata": {},
   "outputs": [],
   "source": []
  }
 ],
 "metadata": {
  "kernelspec": {
   "display_name": "C++11",
   "language": "C++11",
   "name": "xcpp11"
  },
  "language_info": {
   "codemirror_mode": "text/x-c++src",
   "file_extension": ".cpp",
   "mimetype": "text/x-c++src",
   "name": "c++",
   "version": "11"
  }
 },
 "nbformat": 4,
 "nbformat_minor": 5
}
