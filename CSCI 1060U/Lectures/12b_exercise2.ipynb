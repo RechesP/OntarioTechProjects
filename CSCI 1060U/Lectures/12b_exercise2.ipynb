{
 "cells": [
  {
   "cell_type": "code",
   "execution_count": 1,
   "id": "972a27ee-7524-46d6-8159-6a53ceaa70ab",
   "metadata": {
    "tags": []
   },
   "outputs": [],
   "source": [
    "/*Write a function that takes 2 vectors of the same type as parameters. \n",
    "Modify the second vector to add all of the first vector’s elements in order, \n",
    "starting at the front of the vector.\n",
    "E.g. \n",
    "{2,1},{7,9} => {2,1},{2,1,7,9}\n",
    "*/\n",
    "#include <vector>\n",
    "#include <iostream>\n",
    "using namespace std;"
   ]
  },
  {
   "cell_type": "code",
   "execution_count": 2,
   "id": "a35c4418-e19d-4f22-a3fd-308181fd2c8b",
   "metadata": {},
   "outputs": [],
   "source": [
    "vector<int> vec1 = {2,1};\n",
    "vector<int> vec2 = {7,9};"
   ]
  },
  {
   "cell_type": "code",
   "execution_count": 3,
   "id": "dce4987a-f268-44c7-b907-cefccfe6f210",
   "metadata": {
    "tags": []
   },
   "outputs": [],
   "source": [
    "void vectorInser(vector<int> vec1, vector<int> &vec2){\n",
    "    for(vector<int>::iterator iter = vec1.end()-1; iter != vec1.begin()-1; iter--){\n",
    "        vec2.insert(vec2.begin(),*iter);\n",
    "    }\n",
    "}"
   ]
  },
  {
   "cell_type": "code",
   "execution_count": 4,
   "id": "ecfde353-0335-4063-9c88-bea80fd2f794",
   "metadata": {},
   "outputs": [
    {
     "data": {
      "text/plain": [
       "{ 2, 1, 7, 9 }"
      ]
     },
     "execution_count": 4,
     "metadata": {},
     "output_type": "execute_result"
    }
   ],
   "source": [
    "vectorInser(vec1, vec2);\n",
    "vec2"
   ]
  }
 ],
 "metadata": {
  "kernelspec": {
   "display_name": "C++11",
   "language": "C++11",
   "name": "xcpp11"
  },
  "language_info": {
   "codemirror_mode": "text/x-c++src",
   "file_extension": ".cpp",
   "mimetype": "text/x-c++src",
   "name": "c++",
   "version": "11"
  }
 },
 "nbformat": 4,
 "nbformat_minor": 5
}
