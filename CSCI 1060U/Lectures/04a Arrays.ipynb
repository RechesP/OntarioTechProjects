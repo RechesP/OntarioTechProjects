{
 "cells": [
  {
   "cell_type": "code",
   "execution_count": 1,
   "id": "13c71276-39ba-4389-b7b8-3797b1096034",
   "metadata": {
    "tags": []
   },
   "outputs": [
    {
     "data": {
      "text/plain": [
       "{ 1, 2, 3, 4, 5 }"
      ]
     },
     "execution_count": 1,
     "metadata": {},
     "output_type": "execute_result"
    }
   ],
   "source": [
    "/*Create an array of five numbers. \n",
    "Print each number, \n",
    "then print the sum of the numbers.*/\n",
    "\n",
    "int numbers [5] = {1,2,3,4,5};\n",
    "numbers"
   ]
  },
  {
   "cell_type": "code",
   "execution_count": 2,
   "id": "b3756ae7-4df9-4092-a383-2cefb55ea8dc",
   "metadata": {
    "tags": []
   },
   "outputs": [
    {
     "data": {
      "text/plain": [
       "15"
      ]
     },
     "execution_count": 2,
     "metadata": {},
     "output_type": "execute_result"
    }
   ],
   "source": [
    "numbers [0] + numbers [1] + numbers [2] + numbers [3] + numbers [4]"
   ]
  },
  {
   "cell_type": "code",
   "execution_count": 3,
   "id": "87ccc558-a38d-49ea-ab0c-88f1bd353dd6",
   "metadata": {
    "tags": []
   },
   "outputs": [],
   "source": [
    "/*Create an array of five numbers. \n",
    "Print each number, \n",
    "then print the sum of the numbers.*/"
   ]
  },
  {
   "cell_type": "code",
   "execution_count": 4,
   "id": "819f49d9-e713-4856-bd98-5efed49d472d",
   "metadata": {
    "tags": []
   },
   "outputs": [],
   "source": [
    "int digits [5] = {2,4,6,8,10};"
   ]
  },
  {
   "cell_type": "code",
   "execution_count": 5,
   "id": "565a47f2-eebc-443a-885f-09ca6a707dad",
   "metadata": {
    "tags": []
   },
   "outputs": [
    {
     "name": "stdout",
     "output_type": "stream",
     "text": [
      "2\n",
      "4\n",
      "6\n",
      "8\n",
      "10\n",
      "the sum is: 30\n"
     ]
    }
   ],
   "source": [
    "int sum = 0;\n",
    "for (int i = 0; i < 5; i++){\n",
    "    printf(\"%d\\n\", digits [i]);\n",
    "    sum += digits [i];\n",
    "}\n",
    "printf(\"the sum is: %d\\n\", sum);"
   ]
  },
  {
   "cell_type": "code",
   "execution_count": 6,
   "id": "59f0d680-ab97-4cad-98d4-f785046fee22",
   "metadata": {
    "tags": []
   },
   "outputs": [],
   "source": [
    "/*Create an array of five characters. \n",
    "Prompt the user for five letters, and put each letter in the array. \n",
    "Then, identify which letter comes alphabetically last \n",
    "Bonus: ignoring case.*/\n",
    "char letters [5];"
   ]
  },
  {
   "cell_type": "code",
   "execution_count": 7,
   "id": "9e7a02fd-c602-47a7-b6b1-afa115b2fba1",
   "metadata": {
    "tags": []
   },
   "outputs": [],
   "source": [
    "#include <iostream>"
   ]
  },
  {
   "cell_type": "code",
   "execution_count": 8,
   "id": "d701f4ab-87e9-42d4-8d57-a9bad0f841a3",
   "metadata": {
    "tags": []
   },
   "outputs": [
    {
     "name": "stdout",
     "output_type": "stream",
     "text": [
      "enter a character:"
     ]
    },
    {
     "name": "stdin",
     "output_type": "stream",
     "text": [
      " A\n"
     ]
    },
    {
     "name": "stdout",
     "output_type": "stream",
     "text": [
      "enter a character:"
     ]
    },
    {
     "name": "stdin",
     "output_type": "stream",
     "text": [
      " B\n"
     ]
    },
    {
     "name": "stdout",
     "output_type": "stream",
     "text": [
      "enter a character:"
     ]
    },
    {
     "name": "stdin",
     "output_type": "stream",
     "text": [
      " F\n"
     ]
    },
    {
     "name": "stdout",
     "output_type": "stream",
     "text": [
      "enter a character:"
     ]
    },
    {
     "name": "stdin",
     "output_type": "stream",
     "text": [
      " Z\n"
     ]
    },
    {
     "name": "stdout",
     "output_type": "stream",
     "text": [
      "enter a character:"
     ]
    },
    {
     "name": "stdin",
     "output_type": "stream",
     "text": [
      " R\n"
     ]
    },
    {
     "data": {
      "text/plain": [
       "\"ABFZR\""
      ]
     },
     "execution_count": 8,
     "metadata": {},
     "output_type": "execute_result"
    }
   ],
   "source": [
    "char character;\n",
    "for (int i = 0; i < 5; i++){\n",
    "    printf(\"enter a character:\");\n",
    "    std::cin >> character;\n",
    "    letters [i] = character;\n",
    "}\n",
    "letters"
   ]
  },
  {
   "cell_type": "code",
   "execution_count": 9,
   "id": "82c90ffd-85d6-4617-a8bd-294dc66b2a00",
   "metadata": {
    "tags": []
   },
   "outputs": [
    {
     "data": {
      "text/plain": [
       "'Z'"
      ]
     },
     "execution_count": 9,
     "metadata": {},
     "output_type": "execute_result"
    }
   ],
   "source": [
    "char last_letter = letters [0];\n",
    "\n",
    "//consider 'a' is 97 and 'z' is 122\n",
    "\n",
    "for (int i = 0; i < 5; i++){\n",
    "    if (tolower(letters [i]) > tolower(last_letter)){\n",
    "        last_letter = letters [i];\n",
    "    }\n",
    "}\n",
    "last_letter"
   ]
  },
  {
   "cell_type": "code",
   "execution_count": 10,
   "id": "460ff06b-59a1-42c7-b479-30b15fd6c64e",
   "metadata": {
    "tags": []
   },
   "outputs": [],
   "source": [
    "/*Create arrays of various sizes for each of: char, long, int, bool, float. \n",
    "Output the sizeof() for each of your arrays. \n",
    "What do you notice?\n",
    "Figure out how to use the sizeof() each array to determine the actual size. \n",
    "Hint: What does sizeof(int) do?*/\n",
    "int number [1];\n",
    "char characters [1];\n",
    "long longs [1];\n",
    "bool bools [1];\n",
    "float floats [1];"
   ]
  },
  {
   "cell_type": "code",
   "execution_count": 11,
   "id": "53b264c4-3cfd-4707-94e3-81d14471e939",
   "metadata": {
    "tags": []
   },
   "outputs": [],
   "source": [
    "char charArray [5];\n",
    "int intArray [5];\n",
    "bool boolArray [5];\n",
    "long longArray [5];\n",
    "float floatArray [5];\n",
    "double myArray [5];"
   ]
  },
  {
   "cell_type": "code",
   "execution_count": 1,
   "id": "d0adceb9-34b2-46de-8380-67b9fca8e168",
   "metadata": {
    "tags": []
   },
   "outputs": [
    {
     "name": "stderr",
     "output_type": "stream",
     "text": [
      "input_line_7:2:9: error: use of undeclared identifier 'intArray'\n",
      " sizeof(intArray)/4\n",
      "        ^\n"
     ]
    },
    {
     "ename": "Interpreter Error",
     "evalue": "",
     "output_type": "error",
     "traceback": [
      "Interpreter Error: "
     ]
    }
   ],
   "source": [
    "sizeof(intArray)"
   ]
  },
  {
   "cell_type": "code",
   "execution_count": 13,
   "id": "7bbb4785-8a1a-47ee-9031-677f1d9665b4",
   "metadata": {
    "tags": []
   },
   "outputs": [
    {
     "data": {
      "text/plain": [
       "4"
      ]
     },
     "execution_count": 13,
     "metadata": {},
     "output_type": "execute_result"
    }
   ],
   "source": [
    "sizeof(int)"
   ]
  },
  {
   "cell_type": "code",
   "execution_count": 14,
   "id": "6c79b739-78a3-416a-822e-5dc892ae48d9",
   "metadata": {
    "tags": []
   },
   "outputs": [
    {
     "data": {
      "text/plain": [
       "2"
      ]
     },
     "execution_count": 14,
     "metadata": {},
     "output_type": "execute_result"
    }
   ],
   "source": [
    "sizeof(intArray)/sizeof(myArray [0])"
   ]
  },
  {
   "cell_type": "code",
   "execution_count": 15,
   "id": "c2d0b951-dcc6-4ca4-b3e2-8d81d38c8adf",
   "metadata": {
    "tags": []
   },
   "outputs": [
    {
     "data": {
      "text/plain": [
       "{ { 11, 22 }, { 33, 44 }, { 55, 66 } }"
      ]
     },
     "execution_count": 15,
     "metadata": {},
     "output_type": "execute_result"
    }
   ],
   "source": [
    "/*Create two 3x2 arrays of integers, representing matrices. \n",
    "Add the matrices together (by adding together each element in the same position in each matrix) \n",
    "and store the result in a new matrix.*/\n",
    "int matrix1 [3][2] = {\n",
    "    {1,2},\n",
    "    {3,4},\n",
    "    {5,6}\n",
    "};\n",
    "int matrix2 [3][2] = {\n",
    "    {10,20},\n",
    "    {30,40},\n",
    "    {50,60}\n",
    "};\n",
    "int matrix3 [3][2];\n",
    "\n",
    "for (int i = 0; i < 3; i++){\n",
    "    for (int j = 0; j < 2; j++){\n",
    "        matrix3[i][j] = matrix1[i][j] + matrix2[i][j];\n",
    "    }\n",
    "}\n",
    "matrix3"
   ]
  }
 ],
 "metadata": {
  "kernelspec": {
   "display_name": "C++11",
   "language": "C++11",
   "name": "xcpp11"
  },
  "language_info": {
   "codemirror_mode": "text/x-c++src",
   "file_extension": ".cpp",
   "mimetype": "text/x-c++src",
   "name": "c++",
   "version": "11"
  }
 },
 "nbformat": 4,
 "nbformat_minor": 5
}
