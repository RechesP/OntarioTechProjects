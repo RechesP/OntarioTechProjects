{
 "cells": [
  {
   "cell_type": "code",
   "execution_count": 1,
   "id": "af0b395a-6125-439b-b0da-325bd8031e7c",
   "metadata": {},
   "outputs": [],
   "source": [
    "/*Write a program with a function called twoTimes that takes an integer parameter value, \n",
    "doubles it, then prints that value. \n",
    "In another cell, call twoTimes(num), \n",
    "then print the integer again.*/"
   ]
  },
  {
   "cell_type": "code",
   "execution_count": 2,
   "id": "f6077f3a-5a18-42d4-a4b0-f9258ad522e5",
   "metadata": {},
   "outputs": [],
   "source": [
    "void twoTimes(int num){\n",
    "    num *= 2;\n",
    "    printf(\"%d\\n\", num);\n",
    "}"
   ]
  },
  {
   "cell_type": "code",
   "execution_count": 3,
   "id": "158eb399-33c2-4beb-a645-d29b226b9995",
   "metadata": {
    "tags": []
   },
   "outputs": [
    {
     "name": "stdout",
     "output_type": "stream",
     "text": [
      "10\n"
     ]
    }
   ],
   "source": [
    "int num = 5;\n",
    "twoTimes(num);"
   ]
  },
  {
   "cell_type": "code",
   "execution_count": 4,
   "id": "6768e172-9d37-4547-914f-3d686432f1f7",
   "metadata": {
    "tags": []
   },
   "outputs": [
    {
     "data": {
      "text/plain": [
       "5"
      ]
     },
     "execution_count": 4,
     "metadata": {},
     "output_type": "execute_result"
    }
   ],
   "source": [
    "num"
   ]
  },
  {
   "cell_type": "code",
   "execution_count": 5,
   "id": "a36ed041-903c-41bb-81bf-6d41c6e2a071",
   "metadata": {},
   "outputs": [],
   "source": [
    "/*Use C++’s built-in sizeof() function to determine \n",
    "the size of some common variable types (e.g. sizeof(int)).*/"
   ]
  },
  {
   "cell_type": "code",
   "execution_count": 6,
   "id": "39be8b6b-d33a-48a0-8aa7-18047e10f01f",
   "metadata": {
    "tags": []
   },
   "outputs": [
    {
     "data": {
      "text/plain": [
       "8"
      ]
     },
     "execution_count": 6,
     "metadata": {},
     "output_type": "execute_result"
    }
   ],
   "source": [
    "sizeof(int); //4 bytes e.g. 10010010 10010010 10010010 10010010\n",
    "sizeof(long); // 8 bytes\n",
    "sizeof(char); // 1 bytes\n",
    "sizeof(short); // 2 bytes\n",
    "sizeof(float); // 4 bytes\n",
    "sizeof(bool); // 1 bytes\n",
    "sizeof(double); // 8 bytes"
   ]
  },
  {
   "cell_type": "code",
   "execution_count": 7,
   "id": "c417574c-4f2e-482f-9614-328c6a02c928",
   "metadata": {},
   "outputs": [],
   "source": [
    "/*Then create two variables of the same type \n",
    "and print their addresses.*/"
   ]
  },
  {
   "cell_type": "code",
   "execution_count": 8,
   "id": "af44fc17-f64e-43c4-acda-c565b18905b9",
   "metadata": {
    "tags": []
   },
   "outputs": [
    {
     "data": {
      "text/plain": [
       "@0x7ffd725897b8"
      ]
     },
     "execution_count": 8,
     "metadata": {},
     "output_type": "execute_result"
    }
   ],
   "source": [
    "int num = 7;\n",
    "//int vari = 9;\n",
    "&num"
   ]
  },
  {
   "cell_type": "code",
   "execution_count": 9,
   "id": "397aea53-c041-4d08-a933-60de4b6c618b",
   "metadata": {
    "tags": []
   },
   "outputs": [
    {
     "data": {
      "text/plain": [
       "@0x7ffd725897b8"
      ]
     },
     "execution_count": 9,
     "metadata": {},
     "output_type": "execute_result"
    }
   ],
   "source": [
    "int vari = 9;\n",
    "&vari"
   ]
  },
  {
   "cell_type": "code",
   "execution_count": 10,
   "id": "1c72ddd1-017d-434f-91c1-890751156877",
   "metadata": {
    "tags": []
   },
   "outputs": [
    {
     "name": "stdout",
     "output_type": "stream",
     "text": [
      "0x7f3befc4f02c\n",
      "0x7f3befc4f030\n"
     ]
    }
   ],
   "source": [
    "printf(\"%p\\n\",&num);\n",
    "printf(\"%p\\n\",&vari);"
   ]
  },
  {
   "cell_type": "code",
   "execution_count": 11,
   "id": "234ac132-ab2d-463c-af89-ba7ec582b1c0",
   "metadata": {
    "tags": []
   },
   "outputs": [
    {
     "data": {
      "text/plain": [
       "16"
      ]
     },
     "execution_count": 11,
     "metadata": {},
     "output_type": "execute_result"
    }
   ],
   "source": [
    "0x10 // 16 base hex"
   ]
  },
  {
   "cell_type": "code",
   "execution_count": 12,
   "id": "dbf88c51-5b92-4e94-ac67-92c075b91b36",
   "metadata": {
    "tags": []
   },
   "outputs": [
    {
     "name": "stdout",
     "output_type": "stream",
     "text": [
      "0x7f3befc4f034\n",
      "0x7f3befc4f035\n"
     ]
    }
   ],
   "source": [
    "// everytime you run the cell new memory is allocated for char1 and char2\n",
    "char char1 = 'm';\n",
    "char char2 = 'n';\n",
    "printf(\"%p\\n\",&char1);\n",
    "printf(\"%p\\n\",&char2);"
   ]
  },
  {
   "cell_type": "code",
   "execution_count": 13,
   "id": "0f34c21d-1e98-4a58-9408-0b85f7f46a05",
   "metadata": {
    "tags": []
   },
   "outputs": [
    {
     "name": "stdout",
     "output_type": "stream",
     "text": [
      "0x7f3befc4f038\n",
      "0x7f3befc4f040\n"
     ]
    }
   ],
   "source": [
    "long num1 = 1651616;\n",
    "long num2 = 621611;\n",
    "printf(\"%p\\n\",&num1);\n",
    "printf(\"%p\\n\",&num2);"
   ]
  },
  {
   "cell_type": "code",
   "execution_count": 14,
   "id": "523ca981-e7b9-4cc4-b4ea-c5ea41298ff2",
   "metadata": {
    "tags": []
   },
   "outputs": [
    {
     "data": {
      "text/plain": [
       "72"
      ]
     },
     "execution_count": 14,
     "metadata": {},
     "output_type": "execute_result"
    }
   ],
   "source": [
    "0x48"
   ]
  },
  {
   "cell_type": "code",
   "execution_count": 15,
   "id": "5cd32f63-988c-4f16-b64d-9fd31ed3958f",
   "metadata": {
    "tags": []
   },
   "outputs": [
    {
     "data": {
      "text/plain": [
       "64"
      ]
     },
     "execution_count": 15,
     "metadata": {},
     "output_type": "execute_result"
    }
   ],
   "source": [
    "0x40"
   ]
  },
  {
   "cell_type": "code",
   "execution_count": 16,
   "id": "c71cdd7c-3893-4fba-8492-705c0eb198ce",
   "metadata": {
    "tags": []
   },
   "outputs": [
    {
     "data": {
      "text/plain": [
       "80"
      ]
     },
     "execution_count": 16,
     "metadata": {},
     "output_type": "execute_result"
    }
   ],
   "source": [
    "0x50"
   ]
  },
  {
   "cell_type": "code",
   "execution_count": 17,
   "id": "91a9dc41-9180-4b76-bc39-446bc6e78e97",
   "metadata": {
    "tags": []
   },
   "outputs": [],
   "source": [
    "int double_and_sum(int &a, int &b){\n",
    "    a = 2*a;\n",
    "    b = 2*b;\n",
    "    return a+b;\n",
    "}\n"
   ]
  },
  {
   "cell_type": "code",
   "execution_count": 18,
   "id": "37386935-eb47-4cda-b55f-9395227fd7c3",
   "metadata": {
    "tags": []
   },
   "outputs": [
    {
     "data": {
      "text/plain": [
       "60"
      ]
     },
     "execution_count": 18,
     "metadata": {},
     "output_type": "execute_result"
    }
   ],
   "source": [
    "int a = 10;\n",
    "int b = 20;\n",
    "double_and_sum(a,b)"
   ]
  },
  {
   "cell_type": "code",
   "execution_count": 19,
   "id": "a27caff3-e64c-4923-830a-bfa9a789b8db",
   "metadata": {
    "tags": []
   },
   "outputs": [
    {
     "name": "stdout",
     "output_type": "stream",
     "text": [
      "Give me an integer"
     ]
    },
    {
     "name": "stdin",
     "output_type": "stream",
     "text": [
      " 8\n"
     ]
    }
   ],
   "source": [
    "/*Write a program that gets an integer from the user. \n",
    "Then, write a Pass-By-Value function that takes the integer as a parameter, \n",
    "prints its address, squares the integer, and returns it. \n",
    "Repeat this process with a Pass-By-Reference function.*/\n",
    "#include <iostream>\n",
    "int User_input;\n",
    "printf(\"Give me an integer\");\n",
    "std::cin >> User_input;"
   ]
  },
  {
   "cell_type": "code",
   "execution_count": 20,
   "id": "261f3c3c-cee9-47dd-8609-8a469dc0b49d",
   "metadata": {},
   "outputs": [],
   "source": [
    "int user_integer(int User_input){\n",
    "    printf(\"%p\\n\", &User_input);\n",
    "    User_input *= User_input;\n",
    "    return User_input;\n",
    "}"
   ]
  },
  {
   "cell_type": "code",
   "execution_count": 21,
   "id": "3bbc7389-bc1c-4af7-a83e-fb50e1091906",
   "metadata": {
    "tags": []
   },
   "outputs": [
    {
     "name": "stdout",
     "output_type": "stream",
     "text": [
      "0x7ffd7258976c\n"
     ]
    }
   ],
   "source": [
    "user_integer(User_input);"
   ]
  },
  {
   "cell_type": "code",
   "execution_count": 22,
   "id": "b4ebc2e1-26fe-46cf-8bd2-2e926d066247",
   "metadata": {
    "tags": []
   },
   "outputs": [
    {
     "data": {
      "text/plain": [
       "8"
      ]
     },
     "execution_count": 22,
     "metadata": {},
     "output_type": "execute_result"
    }
   ],
   "source": [
    "User_input"
   ]
  },
  {
   "cell_type": "code",
   "execution_count": 23,
   "id": "a23cb67a-deb3-4e1d-9edf-81de86e31021",
   "metadata": {
    "tags": []
   },
   "outputs": [],
   "source": [
    "int userintegerB(int &User_input){\n",
    "    printf(\"%p\\n\", &User_input);\n",
    "    User_input *= User_input;\n",
    "    return User_input;\n",
    "}"
   ]
  },
  {
   "cell_type": "code",
   "execution_count": 24,
   "id": "d8c6c3f0-bf19-4a25-a25e-9977410fe8dd",
   "metadata": {
    "tags": []
   },
   "outputs": [
    {
     "name": "stdout",
     "output_type": "stream",
     "text": [
      "0x7f3befc4f054\n"
     ]
    },
    {
     "data": {
      "text/plain": [
       "64"
      ]
     },
     "execution_count": 24,
     "metadata": {},
     "output_type": "execute_result"
    }
   ],
   "source": [
    "userintegerB(User_input)"
   ]
  },
  {
   "cell_type": "code",
   "execution_count": 25,
   "id": "af72b148-8c23-4815-8dd9-e7f9053a7e66",
   "metadata": {
    "tags": []
   },
   "outputs": [
    {
     "data": {
      "text/plain": [
       "64"
      ]
     },
     "execution_count": 25,
     "metadata": {},
     "output_type": "execute_result"
    }
   ],
   "source": [
    "User_input"
   ]
  },
  {
   "cell_type": "code",
   "execution_count": null,
   "id": "f5e804be-da55-4900-8506-eb794e9d71b1",
   "metadata": {},
   "outputs": [],
   "source": []
  }
 ],
 "metadata": {
  "kernelspec": {
   "display_name": "C++11",
   "language": "C++11",
   "name": "xcpp11"
  },
  "language_info": {
   "codemirror_mode": "text/x-c++src",
   "file_extension": ".cpp",
   "mimetype": "text/x-c++src",
   "name": "c++",
   "version": "11"
  }
 },
 "nbformat": 4,
 "nbformat_minor": 5
}
