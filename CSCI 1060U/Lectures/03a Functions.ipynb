{
 "cells": [
  {
   "cell_type": "code",
   "execution_count": 1,
   "id": "c0568670-46e4-4e20-90c4-f1b587e38667",
   "metadata": {
    "tags": []
   },
   "outputs": [],
   "source": [
    "// functions that adds first n integers and returns result\n",
    "int sum_of_numbers(int n){\n",
    "    int answer = 0;\n",
    "    for (int i = 0; i <= n; i++){\n",
    "        answer = answer + i;\n",
    "    }\n",
    "    return answer;\n",
    "}"
   ]
  },
  {
   "cell_type": "code",
   "execution_count": 2,
   "id": "3c035cb0-f9e3-41ff-a527-1443e94e5107",
   "metadata": {
    "tags": []
   },
   "outputs": [
    {
     "data": {
      "text/plain": [
       "55"
      ]
     },
     "execution_count": 2,
     "metadata": {},
     "output_type": "execute_result"
    }
   ],
   "source": [
    "sum_of_numbers(10)"
   ]
  },
  {
   "cell_type": "code",
   "execution_count": 31,
   "id": "67f47c80-ef5e-476a-9ae9-43a524ec431b",
   "metadata": {},
   "outputs": [],
   "source": [
    "/*Write a program that contains a function called helloWorlds(int myInteger), \n",
    "which prints “Hello World!” myInteger times*/\n",
    "void HelloWorlds(int myInteger){\n",
    "    for(int i = 0; i < myInteger; i++){\n",
    "        printf(\"Hello World!\\n\");\n",
    "    }\n",
    "}"
   ]
  },
  {
   "cell_type": "code",
   "execution_count": 4,
   "id": "7f151a49-3314-4389-a281-b5853f969a7d",
   "metadata": {
    "tags": []
   },
   "outputs": [
    {
     "name": "stdout",
     "output_type": "stream",
     "text": [
      "Hello World!\n",
      "Hello World!\n",
      "Hello World!\n",
      "Hello World!\n",
      "Hello World!\n",
      "Hello World!\n",
      "Hello World!\n",
      "Hello World!\n",
      "Hello World!\n",
      "Hello World!\n"
     ]
    }
   ],
   "source": [
    "HelloWorlds(11)"
   ]
  },
  {
   "cell_type": "code",
   "execution_count": 5,
   "id": "8c84f95c-9f19-4cb6-8856-a95ed5af91d1",
   "metadata": {
    "tags": []
   },
   "outputs": [],
   "source": [
    "#include <ctime>\n",
    "#include <cmath>\n",
    "#include <iostream>"
   ]
  },
  {
   "cell_type": "code",
   "execution_count": 14,
   "id": "6a4dfbca-1b35-4a80-89f9-7c4917048a4b",
   "metadata": {
    "tags": []
   },
   "outputs": [
    {
     "data": {
      "text/plain": [
       "2"
      ]
     },
     "execution_count": 14,
     "metadata": {},
     "output_type": "execute_result"
    }
   ],
   "source": [
    "//srand & rand\n",
    "srand(time(NULL));\n",
    "rand()%4"
   ]
  },
  {
   "cell_type": "code",
   "execution_count": 7,
   "id": "a941fe96-98a9-496f-b984-c4d88a8c93ae",
   "metadata": {
    "tags": []
   },
   "outputs": [
    {
     "data": {
      "text/plain": [
       "1695156516"
      ]
     },
     "execution_count": 7,
     "metadata": {},
     "output_type": "execute_result"
    }
   ],
   "source": [
    "time(NULL)"
   ]
  },
  {
   "cell_type": "code",
   "execution_count": 8,
   "id": "56e59aff-0cee-49bb-9794-d4ad70b89a14",
   "metadata": {
    "tags": []
   },
   "outputs": [
    {
     "data": {
      "text/plain": [
       "10.000000"
      ]
     },
     "execution_count": 8,
     "metadata": {},
     "output_type": "execute_result"
    }
   ],
   "source": [
    "//floor and ceiling\n",
    "floor(10.5)"
   ]
  },
  {
   "cell_type": "code",
   "execution_count": 9,
   "id": "286e7839-4305-49a5-b632-8fd7e83446d2",
   "metadata": {
    "tags": []
   },
   "outputs": [
    {
     "data": {
      "text/plain": [
       "11.000000"
      ]
     },
     "execution_count": 9,
     "metadata": {},
     "output_type": "execute_result"
    }
   ],
   "source": [
    "ceil(10.5)"
   ]
  },
  {
   "cell_type": "code",
   "execution_count": 10,
   "id": "fac5b600-f7f1-4da3-8c12-4b3aafc530b1",
   "metadata": {
    "tags": []
   },
   "outputs": [
    {
     "data": {
      "text/plain": [
       "0.85090352"
      ]
     },
     "execution_count": 10,
     "metadata": {},
     "output_type": "execute_result"
    }
   ],
   "source": [
    "sin(45)"
   ]
  },
  {
   "cell_type": "code",
   "execution_count": 11,
   "id": "9bca030f-2c79-4d10-9917-d80892278d06",
   "metadata": {
    "tags": []
   },
   "outputs": [
    {
     "data": {
      "text/plain": [
       "4.0865633"
      ]
     },
     "execution_count": 11,
     "metadata": {},
     "output_type": "execute_result"
    }
   ],
   "source": [
    "sqrt(16.7)"
   ]
  },
  {
   "cell_type": "code",
   "execution_count": 12,
   "id": "081198bd-f1c1-46d0-8a47-50aeeb5dd83c",
   "metadata": {
    "tags": []
   },
   "outputs": [
    {
     "name": "stdout",
     "output_type": "stream",
     "text": [
      "enter a number:"
     ]
    },
    {
     "name": "stdin",
     "output_type": "stream",
     "text": [
      " 3\n"
     ]
    }
   ],
   "source": [
    "int number;\n",
    "printf(\"enter a number:\");\n",
    "std::cin >> number;"
   ]
  },
  {
   "cell_type": "code",
   "execution_count": 13,
   "id": "4ff4bfb4-2a38-43c2-a589-356cc9f29cd5",
   "metadata": {
    "tags": []
   },
   "outputs": [
    {
     "data": {
      "text/plain": [
       "3"
      ]
     },
     "execution_count": 13,
     "metadata": {},
     "output_type": "execute_result"
    }
   ],
   "source": [
    "number"
   ]
  },
  {
   "cell_type": "code",
   "execution_count": 14,
   "id": "a64682b3-bab4-4bb5-a860-187057e5c051",
   "metadata": {
    "tags": []
   },
   "outputs": [],
   "source": [
    "/*Using the cmath library, write a program that shows whether or not the sqrt() function behaves differently with integers and floats. \n",
    "Then, figure out what the pow(base, exp) function does, then make your own function to do the same thing.*/\n",
    "#include <cmath>"
   ]
  },
  {
   "cell_type": "code",
   "execution_count": 15,
   "id": "f10a8c0d-0eab-4c51-a3ed-9a7f150a0e23",
   "metadata": {
    "tags": []
   },
   "outputs": [
    {
     "name": "stdout",
     "output_type": "stream",
     "text": [
      "sqrt(float) = 2.097618\n",
      "sqrt(integer) = 2.000000\n"
     ]
    }
   ],
   "source": [
    "float floatNum = 4.4;\n",
    "int integer = 4;\n",
    "printf(\"sqrt(float) = %f\\nsqrt(integer) = %f\\n\", sqrt(floatNum),sqrt(integer));"
   ]
  },
  {
   "cell_type": "code",
   "execution_count": 16,
   "id": "5c71fa5c-9837-4794-a2ab-d6b9ed80941a",
   "metadata": {
    "tags": []
   },
   "outputs": [],
   "source": [
    "/*Then, figure out what the pow(base, exp) function does, \n",
    "then make your own function to do the same thing.*/"
   ]
  },
  {
   "cell_type": "code",
   "execution_count": 17,
   "id": "2ddbb31e-5ece-429d-b9da-fe6761290d08",
   "metadata": {
    "tags": []
   },
   "outputs": [
    {
     "data": {
      "text/plain": [
       "1.0000000"
      ]
     },
     "execution_count": 17,
     "metadata": {},
     "output_type": "execute_result"
    }
   ],
   "source": [
    "pow(2,0)"
   ]
  },
  {
   "cell_type": "code",
   "execution_count": 18,
   "id": "5c97068b-98a5-4d27-ba9c-690c6f7c38d1",
   "metadata": {
    "tags": []
   },
   "outputs": [],
   "source": [
    "int my_power_function(double base, double exp){\n",
    "    int product = 1;\n",
    "    for (int i = 0; i < exp; i++){\n",
    "        product *= base;\n",
    "    }\n",
    "    return product;\n",
    "}"
   ]
  },
  {
   "cell_type": "code",
   "execution_count": 19,
   "id": "a278bd85-975b-4ac8-b472-78f0232d56ce",
   "metadata": {
    "tags": []
   },
   "outputs": [
    {
     "data": {
      "text/plain": [
       "1"
      ]
     },
     "execution_count": 19,
     "metadata": {},
     "output_type": "execute_result"
    }
   ],
   "source": [
    "my_power_function(2,-1)"
   ]
  },
  {
   "cell_type": "code",
   "execution_count": 20,
   "id": "5d8c0751-66e2-49e6-bdc5-e36f1e2c3cc4",
   "metadata": {},
   "outputs": [],
   "source": [
    "/*Using ctime and iostream, write a program that prompts the user for a number, \n",
    "then generates and prints that many random numbers between 1000 and 2000.\n",
    "You will need to use:\n",
    "srand() [random initializer]\n",
    "time(NULL) [srand parameter]\n",
    "rand() % X [random generator]*/"
   ]
  },
  {
   "cell_type": "code",
   "execution_count": 21,
   "id": "9a70273c-ae89-45c0-bf79-53259125d3cc",
   "metadata": {
    "tags": []
   },
   "outputs": [],
   "source": [
    "# include <ctime>\n",
    "# include <iostream>\n",
    "srand(time(NULL));"
   ]
  },
  {
   "cell_type": "code",
   "execution_count": 22,
   "id": "fa4f6d8b-de89-4987-a173-95ecf1507110",
   "metadata": {
    "tags": []
   },
   "outputs": [
    {
     "name": "stdout",
     "output_type": "stream",
     "text": [
      "Enter a number of random values to generate:"
     ]
    },
    {
     "name": "stdin",
     "output_type": "stream",
     "text": [
      " 12\n"
     ]
    },
    {
     "name": "stdout",
     "output_type": "stream",
     "text": [
      "1757\n",
      "1099\n",
      "1535\n",
      "1112\n",
      "1650\n",
      "1361\n",
      "1359\n",
      "1164\n",
      "1514\n",
      "1944\n",
      "1488\n",
      "1059\n"
     ]
    }
   ],
   "source": [
    "int UserNum;\n",
    "printf(\"Enter a number of random values to generate:\");\n",
    "std::cin >> UserNum;\n",
    "for(int i = 0; i < UserNum; i++){\n",
    "    int RandNum = rand() % 1001 + 1000;\n",
    "    printf(\"%d\\n\",RandNum);\n",
    "}"
   ]
  },
  {
   "cell_type": "code",
   "execution_count": null,
   "id": "b8b4ff27-9844-464e-808e-5a8f53059f52",
   "metadata": {},
   "outputs": [],
   "source": [
    "/*Go back to your first program, and overload the helloWorlds function to print a different greeting \n",
    "if the function is given an integer and two initials (char variables).*/"
   ]
  },
  {
   "cell_type": "code",
   "execution_count": 28,
   "id": "654a658a-7090-4c00-b74d-616ad0bf0e17",
   "metadata": {
    "tags": []
   },
   "outputs": [],
   "source": [
    "void HelloWorlds(int myInteger, char firI, char secI){\n",
    "    for(int i = 0; i < myInteger; i++){\n",
    "        printf(\"Hello %c.%c.\\n\", firI, secI);\n",
    "    }\n",
    "}"
   ]
  },
  {
   "cell_type": "code",
   "execution_count": 32,
   "id": "283f065c-1b6d-47b6-9a92-09b51768ac44",
   "metadata": {
    "tags": []
   },
   "outputs": [
    {
     "name": "stdout",
     "output_type": "stream",
     "text": [
      "Hello World!\n",
      "Hello World!\n",
      "Hello World!\n"
     ]
    }
   ],
   "source": [
    "HelloWorlds(3)"
   ]
  },
  {
   "cell_type": "code",
   "execution_count": 29,
   "id": "2d4e12ac-83ff-4ab0-a20c-8cc57efd7caa",
   "metadata": {
    "tags": []
   },
   "outputs": [
    {
     "name": "stdout",
     "output_type": "stream",
     "text": [
      "Hello R.P.\n",
      "Hello R.P.\n",
      "Hello R.P.\n"
     ]
    }
   ],
   "source": [
    "HelloWorlds(3,'R','P')"
   ]
  }
 ],
 "metadata": {
  "kernelspec": {
   "display_name": "C++11",
   "language": "C++11",
   "name": "xcpp11"
  },
  "language_info": {
   "codemirror_mode": "text/x-c++src",
   "file_extension": ".cpp",
   "mimetype": "text/x-c++src",
   "name": "c++",
   "version": "11"
  }
 },
 "nbformat": 4,
 "nbformat_minor": 5
}
