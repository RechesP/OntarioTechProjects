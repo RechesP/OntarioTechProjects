{
 "cells": [
  {
   "cell_type": "code",
   "execution_count": 1,
   "id": "0e9ddd31-f5f4-45fe-ab83-abe1f8c0f8b9",
   "metadata": {},
   "outputs": [],
   "source": [
    "#include <iostream>\n",
    "#include <vector>\n",
    "using namespace std;"
   ]
  },
  {
   "cell_type": "code",
   "execution_count": 2,
   "id": "2898f650-a592-4e02-a5c6-77c43f2b6c4c",
   "metadata": {},
   "outputs": [],
   "source": [
    "string wordarray[] = {\"Hello\", \"How\", \"are\", \"you?\"};\n",
    "//string* strptr = &wordarray[1];\n",
    "string* strptr = wordarray+1;"
   ]
  },
  {
   "cell_type": "code",
   "execution_count": 3,
   "id": "178b9a47-60c8-4ec2-a72b-24c81a944cf8",
   "metadata": {},
   "outputs": [
    {
     "data": {
      "text/plain": [
       "\"How\""
      ]
     },
     "execution_count": 3,
     "metadata": {},
     "output_type": "execute_result"
    }
   ],
   "source": [
    "*strptr"
   ]
  },
  {
   "cell_type": "code",
   "execution_count": 4,
   "id": "62d605e3-1dc3-4c11-826a-d635fd9ec9d0",
   "metadata": {},
   "outputs": [],
   "source": [
    "vector<string> wordvec = {\"Hello\", \"How\", \"are\", \"you?\"};"
   ]
  },
  {
   "cell_type": "code",
   "execution_count": 5,
   "id": "17b72444-6cde-491c-9440-c47d2702c638",
   "metadata": {
    "tags": []
   },
   "outputs": [
    {
     "data": {
      "text/plain": [
       "\"How\""
      ]
     },
     "execution_count": 5,
     "metadata": {},
     "output_type": "execute_result"
    }
   ],
   "source": [
    "//string* strvecptr = wordvec+1; NO GOOD\n",
    "vector<string>::iterator striter = wordvec.begin()+1;\n",
    "*striter"
   ]
  }
 ],
 "metadata": {
  "kernelspec": {
   "display_name": "C++11",
   "language": "C++11",
   "name": "xcpp11"
  },
  "language_info": {
   "codemirror_mode": "text/x-c++src",
   "file_extension": ".cpp",
   "mimetype": "text/x-c++src",
   "name": "c++",
   "version": "11"
  }
 },
 "nbformat": 4,
 "nbformat_minor": 5
}
