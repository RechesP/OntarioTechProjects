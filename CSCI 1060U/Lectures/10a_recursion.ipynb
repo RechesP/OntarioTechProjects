{
 "cells": [
  {
   "cell_type": "code",
   "execution_count": 1,
   "id": "609470bd-e1f8-4c16-ac33-db112d82997a",
   "metadata": {},
   "outputs": [],
   "source": [
    "#include <iostream>\n",
    "using namespace std;"
   ]
  },
  {
   "cell_type": "code",
   "execution_count": 2,
   "id": "c8c95023-06c7-4ffe-b4c3-531af9a9cba0",
   "metadata": {},
   "outputs": [],
   "source": [
    "int factorial(int n){\n",
    "    \n",
    "    if (n == 1) return n;\n",
    "    \n",
    "    return n * factorial(n-1);\n",
    "}"
   ]
  },
  {
   "cell_type": "code",
   "execution_count": 3,
   "id": "d773a3e0-1c75-4462-9179-63a65918c1fe",
   "metadata": {},
   "outputs": [
    {
     "data": {
      "text/plain": [
       "24"
      ]
     },
     "execution_count": 3,
     "metadata": {},
     "output_type": "execute_result"
    }
   ],
   "source": [
    "factorial(4)"
   ]
  },
  {
   "cell_type": "code",
   "execution_count": 4,
   "id": "f5cade88-441b-4857-b35a-492379d1f9d6",
   "metadata": {},
   "outputs": [],
   "source": [
    "int fib(int n){\n",
    "    //return the nth fibonacci number\n",
    "    //fn1 = 0, fn2 = 1, fn3 = 1, fn4 = 2...\n",
    "    \n",
    "    if (n == 1) return 0;\n",
    "    if (n == 2) return 1;\n",
    "    \n",
    "    return fib(n-1) + fib(n-2);\n",
    "}"
   ]
  },
  {
   "cell_type": "code",
   "execution_count": 5,
   "id": "3f0c1c83-8126-4e1b-afb3-5cfe7b7689b3",
   "metadata": {
    "tags": []
   },
   "outputs": [
    {
     "data": {
      "text/plain": [
       "2"
      ]
     },
     "execution_count": 5,
     "metadata": {},
     "output_type": "execute_result"
    }
   ],
   "source": [
    "fib(4)"
   ]
  },
  {
   "cell_type": "code",
   "execution_count": 6,
   "id": "b53c3acc-96e4-4f95-bce7-f577369e4a92",
   "metadata": {},
   "outputs": [],
   "source": [
    "bool binarySearchWrapped(int* nums, int target, int start, int end){\n",
    "    \n",
    "    //if theres is only one element left to check, just check that\n",
    "    if (end <= start) {\n",
    "        return target == nums[start];\n",
    "    } \n",
    "    \n",
    "    // recursive call\n",
    "    int mid = (start+end)/2;\n",
    "    if (nums[mid] == target){\n",
    "        return true;\n",
    "    }\n",
    "    if (nums[mid] > target){\n",
    "        return binarySearchWrapped(nums,target, start, mid-1);\n",
    "    } \n",
    "    //if nnums[mid] < target\n",
    "    return binarySearchWrapped(nums,target, mid + 1, end);\n",
    "}"
   ]
  },
  {
   "cell_type": "code",
   "execution_count": 7,
   "id": "e4be5977-529e-48cd-98f0-7fa0dd4e0a11",
   "metadata": {
    "tags": []
   },
   "outputs": [],
   "source": [
    "bool binarySearch(int *nums, int size, int target){\n",
    "    //given a list of nums numbers, find the target inside\n",
    "    //there are size nums\n",
    "    \n",
    "    return binarySearchWrapped(nums,target,0,size-1);\n",
    "}"
   ]
  },
  {
   "cell_type": "code",
   "execution_count": 8,
   "id": "faeca8eb-e495-4bee-b973-50dcb2b5544c",
   "metadata": {},
   "outputs": [],
   "source": [
    "int* nums = new int[5];\n",
    "for (int i = 0; i < 5 ; i ++){\n",
    "    nums[i] = i*10;\n",
    "}"
   ]
  },
  {
   "cell_type": "code",
   "execution_count": 9,
   "id": "e93a00a4-ff74-4533-adb5-f27420d08103",
   "metadata": {
    "tags": []
   },
   "outputs": [
    {
     "data": {
      "text/plain": [
       "true"
      ]
     },
     "execution_count": 9,
     "metadata": {},
     "output_type": "execute_result"
    }
   ],
   "source": [
    "binarySearch(nums,5,30)"
   ]
  },
  {
   "cell_type": "code",
   "execution_count": 10,
   "id": "5327743b-5729-4876-9fe5-b35d98774ba8",
   "metadata": {},
   "outputs": [],
   "source": [
    "bool isPalindrome(string word){\n",
    "    //base case\n",
    "    if (word.length() <= 1) return true;\n",
    "    \n",
    "    //recursive call\n",
    "    //if the first and last letters Don't match, it's not a palindrome\n",
    "    if (word[0] != word[word.length() - 1]) return false;\n",
    "    \n",
    "    //check if the remaining letters are a palindrome\n",
    "    return isPalindrome(word.substr(1, word.length() - 2));\n",
    "}"
   ]
  },
  {
   "cell_type": "code",
   "execution_count": 11,
   "id": "7427fac7-d4c7-4dae-9084-d760038ed60e",
   "metadata": {
    "tags": []
   },
   "outputs": [
    {
     "data": {
      "text/plain": [
       "true"
      ]
     },
     "execution_count": 11,
     "metadata": {},
     "output_type": "execute_result"
    }
   ],
   "source": [
    "isPalindrome(\"RADAR\")"
   ]
  },
  {
   "cell_type": "code",
   "execution_count": 12,
   "id": "299a1675-f27f-47a0-9941-b25097fb7dc0",
   "metadata": {
    "tags": []
   },
   "outputs": [],
   "source": [
    "/*Write a recursive function to sum the digits of a positive integer. You may not use any loops.*/\n",
    "int sumDigits(int myInteger){\n",
    "    if (myInteger < 10) return myInteger;\n",
    "    int lastDig = myInteger % 10;\n",
    "    return lastDig + sumDigits(myInteger/10);\n",
    "}"
   ]
  },
  {
   "cell_type": "code",
   "execution_count": 13,
   "id": "79a647d0-9e89-48cb-a704-0b3cb339b170",
   "metadata": {
    "tags": []
   },
   "outputs": [
    {
     "data": {
      "text/plain": [
       "12"
      ]
     },
     "execution_count": 13,
     "metadata": {},
     "output_type": "execute_result"
    }
   ],
   "source": [
    "sumDigits(426)"
   ]
  },
  {
   "cell_type": "code",
   "execution_count": 14,
   "id": "56586de1-9d69-4487-a8f9-26b320496064",
   "metadata": {},
   "outputs": [],
   "source": [
    "/*Write a recursive function repeat(string s, int t) that prints out the string s a total of t times. You may not use any loops.*/\n",
    "void repeat(string s, int t){\n",
    "    if (t < 1) return 0;\n",
    "    cout << s << endl;\n",
    "    return repeat(s, t - 1);\n",
    "}"
   ]
  },
  {
   "cell_type": "code",
   "execution_count": 22,
   "id": "396082a4-d0b9-403f-9e21-b759c3cec689",
   "metadata": {
    "tags": []
   },
   "outputs": [
    {
     "name": "stdout",
     "output_type": "stream",
     "text": [
      "HOE\n",
      "HOE\n",
      "HOE\n"
     ]
    }
   ],
   "source": [
    "repeat(\"HOE\",3)"
   ]
  },
  {
   "cell_type": "code",
   "execution_count": 16,
   "id": "4dcba88e-d494-4386-b94e-36f42c1897c0",
   "metadata": {
    "tags": []
   },
   "outputs": [],
   "source": [
    "/*Write a recursive function that performs a linear search. You may not use any loops.*/\n",
    "bool LinearSearchWrapped(int target, int intArr[], int start, int end){\n",
    "    if (end == start) return intArr[start] == target;\n",
    "    if (intArr[start] == target) return true;\n",
    "    return LinearSearchWrapped(target, intArr, start + 1 ,end);\n",
    "}"
   ]
  },
  {
   "cell_type": "code",
   "execution_count": 17,
   "id": "1c3d4083-f41b-4775-bc04-6bcf55b9cf6e",
   "metadata": {},
   "outputs": [],
   "source": [
    "bool LinearSearch(int intArr[], int size, int target){\n",
    "    return LinearSearchWrapped(target, intArr, 0, size - 1);\n",
    "}"
   ]
  },
  {
   "cell_type": "code",
   "execution_count": 18,
   "id": "4c0a53e6-20a5-4800-a12a-97e2824bb543",
   "metadata": {},
   "outputs": [],
   "source": [
    "int intArr[10];\n",
    "for(int i = 0; i < 10; i++){\n",
    "    intArr[i] = i + 1;\n",
    "}"
   ]
  },
  {
   "cell_type": "code",
   "execution_count": 19,
   "id": "a620b7c5-4440-48de-921f-572f9cbe6151",
   "metadata": {
    "tags": []
   },
   "outputs": [
    {
     "data": {
      "text/plain": [
       "true"
      ]
     },
     "execution_count": 19,
     "metadata": {},
     "output_type": "execute_result"
    }
   ],
   "source": [
    "LinearSearch(intArr,10,5)"
   ]
  }
 ],
 "metadata": {
  "kernelspec": {
   "display_name": "C++11",
   "language": "C++11",
   "name": "xcpp11"
  },
  "language_info": {
   "codemirror_mode": "text/x-c++src",
   "file_extension": ".cpp",
   "mimetype": "text/x-c++src",
   "name": "c++",
   "version": "11"
  }
 },
 "nbformat": 4,
 "nbformat_minor": 5
}
