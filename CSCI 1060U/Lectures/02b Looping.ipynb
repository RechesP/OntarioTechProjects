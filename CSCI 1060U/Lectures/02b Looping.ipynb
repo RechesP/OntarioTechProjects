{
 "cells": [
  {
   "cell_type": "code",
   "execution_count": 1,
   "id": "e3ddb255-e4b5-4151-873c-47c140e5d995",
   "metadata": {
    "tags": []
   },
   "outputs": [
    {
     "data": {
      "text/plain": [
       "0"
      ]
     },
     "execution_count": 1,
     "metadata": {},
     "output_type": "execute_result"
    }
   ],
   "source": [
    "int i = 0;\n",
    "i"
   ]
  },
  {
   "cell_type": "code",
   "execution_count": 2,
   "id": "ec5c1552-a1ca-4b0d-9af5-b28d4220c7e9",
   "metadata": {
    "tags": []
   },
   "outputs": [
    {
     "data": {
      "text/plain": [
       "1"
      ]
     },
     "execution_count": 2,
     "metadata": {},
     "output_type": "execute_result"
    }
   ],
   "source": [
    "i++;\n",
    "i"
   ]
  },
  {
   "cell_type": "code",
   "execution_count": 3,
   "id": "6d600cfb-6a19-4f22-8bdc-f8aa1c6328d3",
   "metadata": {
    "tags": []
   },
   "outputs": [
    {
     "data": {
      "text/plain": [
       "2"
      ]
     },
     "execution_count": 3,
     "metadata": {},
     "output_type": "execute_result"
    }
   ],
   "source": [
    "i++;\n",
    "i"
   ]
  },
  {
   "cell_type": "code",
   "execution_count": 4,
   "id": "b09ef038-b41b-4530-a5a4-6500d04e72c8",
   "metadata": {
    "tags": []
   },
   "outputs": [
    {
     "data": {
      "text/plain": [
       "3"
      ]
     },
     "execution_count": 4,
     "metadata": {},
     "output_type": "execute_result"
    }
   ],
   "source": [
    "++i"
   ]
  },
  {
   "cell_type": "code",
   "execution_count": 5,
   "id": "06a083d0-bdbb-47eb-b7b6-fe2f9930a478",
   "metadata": {
    "tags": []
   },
   "outputs": [
    {
     "data": {
      "text/plain": [
       "5"
      ]
     },
     "execution_count": 5,
     "metadata": {},
     "output_type": "execute_result"
    }
   ],
   "source": [
    "i+=2;\n",
    "i"
   ]
  },
  {
   "cell_type": "code",
   "execution_count": 6,
   "id": "29d08285-dae8-4e5d-b9f9-fc9a2d10ce4f",
   "metadata": {
    "tags": []
   },
   "outputs": [
    {
     "name": "stdout",
     "output_type": "stream",
     "text": [
      "The sum of all the even numbers between 0 and 20000 is 100010000.\n"
     ]
    }
   ],
   "source": [
    "int sum_even = 0;\n",
    "for(int counter = 0; counter < 20001; counter++){\n",
    "    if ((counter % 2) == 0){\n",
    "        sum_even = sum_even + counter;\n",
    "    }\n",
    "}\n",
    "printf(\"The sum of all the even numbers between 0 and 20000 is %d.\\n\", sum_even);"
   ]
  },
  {
   "cell_type": "code",
   "execution_count": 7,
   "id": "9d97be1b-ee26-436c-84f9-1ad9537d61cc",
   "metadata": {
    "tags": []
   },
   "outputs": [
    {
     "data": {
      "text/plain": [
       "100010000"
      ]
     },
     "execution_count": 7,
     "metadata": {},
     "output_type": "execute_result"
    }
   ],
   "source": [
    "int sum = 0;\n",
    "for(int i = 0; i <= 20000; i++){\n",
    "    if ((i % 2) == 0){\n",
    "        sum = sum + i;\n",
    "    }\n",
    "}\n",
    "sum"
   ]
  },
  {
   "cell_type": "code",
   "execution_count": 8,
   "id": "554bc18f-e33b-4984-bcec-4c8d67e6cd7d",
   "metadata": {
    "tags": []
   },
   "outputs": [
    {
     "data": {
      "text/plain": [
       "100010000"
      ]
     },
     "execution_count": 8,
     "metadata": {},
     "output_type": "execute_result"
    }
   ],
   "source": [
    "int sum = 0;\n",
    "for(int i = 0; i <= 20000; i+= 2){\n",
    "    if ((i % 2) == 0){\n",
    "        sum = sum + i;\n",
    "    }\n",
    "}\n",
    "sum"
   ]
  },
  {
   "cell_type": "code",
   "execution_count": 9,
   "id": "ea666d3f-5c7d-44f5-bf60-cb2591e2bd31",
   "metadata": {
    "tags": []
   },
   "outputs": [
    {
     "data": {
      "text/plain": [
       "100010000"
      ]
     },
     "execution_count": 9,
     "metadata": {},
     "output_type": "execute_result"
    }
   ],
   "source": [
    "int sum = 0;\n",
    "for(int i = 20000; i > 0; i--){\n",
    "    if ((i % 2) == 0){\n",
    "        sum = sum + i;\n",
    "    }\n",
    "}\n",
    "sum"
   ]
  },
  {
   "cell_type": "code",
   "execution_count": 14,
   "id": "826b6444-0fe4-43e5-a998-9827e74a2e67",
   "metadata": {
    "tags": []
   },
   "outputs": [
    {
     "data": {
      "text/plain": [
       "100"
      ]
     },
     "execution_count": 14,
     "metadata": {},
     "output_type": "execute_result"
    }
   ],
   "source": [
    "int x = 100; int y = 2; int z;\n",
    "int i = 0;\n",
    "while( i < x){\n",
    "    if ((i % y) == 0){\n",
    "        z = i;\n",
    "    }\n",
    "    i++;\n",
    "}\n",
    "i"
   ]
  },
  {
   "cell_type": "code",
   "execution_count": 16,
   "id": "5c2071d8-d443-443a-a241-e2bbd25bf72e",
   "metadata": {
    "tags": []
   },
   "outputs": [
    {
     "name": "stdout",
     "output_type": "stream",
     "text": [
      "999999996 is the largest number smaller than 1000000000 divisible by 4"
     ]
    }
   ],
   "source": [
    "int x = 1000000000;\n",
    "int y = 4;\n",
    "int z = x;\n",
    "x--;\n",
    "while(x % y != 0){\n",
    "    x--;\n",
    "}\n",
    "printf(\"%d is the largest number smaller than %d divisible by %d\", x, z, y);"
   ]
  },
  {
   "cell_type": "code",
   "execution_count": 19,
   "id": "b23904d9-afe1-4aa7-b2ea-d3af62c0dc77",
   "metadata": {
    "tags": []
   },
   "outputs": [
    {
     "name": "stdout",
     "output_type": "stream",
     "text": [
      "999999996 is the largest number smaller than 1000000000 divisible by 4"
     ]
    }
   ],
   "source": [
    "int x = 1000000000;\n",
    "int y = 4;\n",
    "int z = x;\n",
    "z--;\n",
    "while(z % y != 0){\n",
    "    z--;\n",
    "}\n",
    "printf(\"%d is the largest number smaller than %d divisible by %d\", z, x, y);\n",
    "\n",
    "//cannot modify below line\n",
    "int my_bank_account = x;"
   ]
  },
  {
   "cell_type": "code",
   "execution_count": 20,
   "id": "456690b7-a630-4c40-b369-ddd28f06a792",
   "metadata": {
    "tags": []
   },
   "outputs": [
    {
     "data": {
      "text/plain": [
       "100010000"
      ]
     },
     "execution_count": 20,
     "metadata": {},
     "output_type": "execute_result"
    }
   ],
   "source": [
    "int i = 0;\n",
    "int sum = 0;\n",
    "while(i <= 20000){\n",
    "    if ((i % 2) == 0){\n",
    "        sum = sum + i;\n",
    "    }\n",
    "    i++;\n",
    "}\n",
    "sum"
   ]
  },
  {
   "cell_type": "code",
   "execution_count": 32,
   "id": "dbf6c03b-38e4-453f-a7d0-7e3a0339cbfa",
   "metadata": {
    "tags": []
   },
   "outputs": [
    {
     "name": "stdout",
     "output_type": "stream",
     "text": [
      "50\n",
      "25\n",
      "12\n",
      "6\n",
      "3\n",
      "1\n",
      "0\n"
     ]
    }
   ],
   "source": [
    "int x = 100;\n",
    "do{\n",
    "    //x /= 2;\n",
    "    x = (x/2);\n",
    "    printf(\"%d\\n\",x);\n",
    "}while(x != 0);\n",
    "x;"
   ]
  },
  {
   "cell_type": "code",
   "execution_count": null,
   "id": "3d5c3f21-b106-4507-9241-7dff5c9cba2b",
   "metadata": {},
   "outputs": [],
   "source": []
  }
 ],
 "metadata": {
  "kernelspec": {
   "display_name": "C++11",
   "language": "C++11",
   "name": "xcpp11"
  },
  "language_info": {
   "codemirror_mode": "text/x-c++src",
   "file_extension": ".cpp",
   "mimetype": "text/x-c++src",
   "name": "c++",
   "version": "11"
  }
 },
 "nbformat": 4,
 "nbformat_minor": 5
}
