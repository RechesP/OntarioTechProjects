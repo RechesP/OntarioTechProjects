{
 "cells": [
  {
   "cell_type": "code",
   "execution_count": 1,
   "id": "7a250251-5172-4df4-b7bc-2cfd92b9f738",
   "metadata": {},
   "outputs": [
    {
     "data": {
      "text/plain": [
       "5"
      ]
     },
     "execution_count": 1,
     "metadata": {},
     "output_type": "execute_result"
    }
   ],
   "source": [
    "5"
   ]
  },
  {
   "cell_type": "code",
   "execution_count": 2,
   "id": "2b300e0e-9ffd-4735-ba2e-6054022bace4",
   "metadata": {
    "tags": []
   },
   "outputs": [
    {
     "data": {
      "text/plain": [
       "\"Hello world, \"I am here\"\""
      ]
     },
     "execution_count": 2,
     "metadata": {},
     "output_type": "execute_result"
    }
   ],
   "source": [
    "\"Hello world, \\\"I am here\\\"\""
   ]
  },
  {
   "cell_type": "code",
   "execution_count": 3,
   "id": "d515701d-7fb6-4975-b879-2283b441e346",
   "metadata": {},
   "outputs": [
    {
     "name": "stderr",
     "output_type": "stream",
     "text": [
      "input_line_13:2:5: warning: use of logical '||' with constant operand [-Wconstant-logical-operand]\n",
      " 53 || 75\n",
      "    ^  ~~\n",
      "input_line_13:2:5: note: use '|' for a bitwise operation\n",
      " 53 || 75\n",
      "    ^~\n",
      "    |\n"
     ]
    },
    {
     "data": {
      "text/plain": [
       "true"
      ]
     },
     "execution_count": 3,
     "metadata": {},
     "output_type": "execute_result"
    }
   ],
   "source": [
    "53 || 75"
   ]
  },
  {
   "cell_type": "code",
   "execution_count": 4,
   "id": "9140980b-84b0-4f94-9fb5-a8e8404538d9",
   "metadata": {},
   "outputs": [
    {
     "data": {
      "text/plain": [
       "8"
      ]
     },
     "execution_count": 4,
     "metadata": {},
     "output_type": "execute_result"
    }
   ],
   "source": [
    "(36-7)/3-1"
   ]
  },
  {
   "cell_type": "code",
   "execution_count": 5,
   "id": "587191cf-eb59-45e1-ab65-1d289cb2c76d",
   "metadata": {
    "tags": []
   },
   "outputs": [
    {
     "name": "stdout",
     "output_type": "stream",
     "text": [
      "6+7"
     ]
    }
   ],
   "source": [
    "printf(\"6+7\");"
   ]
  },
  {
   "cell_type": "code",
   "execution_count": 6,
   "id": "f920ba2c-bc7d-40cd-9830-e7b14df29f09",
   "metadata": {
    "tags": []
   },
   "outputs": [
    {
     "name": "stdout",
     "output_type": "stream",
     "text": [
      "Hello! My initials are R.P, I am 20 years old, and my high school average was 88.700000%."
     ]
    }
   ],
   "source": [
    "char f = 'R';\n",
    "char s = 'P';\n",
    "int age = 20;\n",
    "double ave = 88.7;\n",
    "char p = '%';\n",
    "    \n",
    "printf(\"Hello! My initials are %c.%c, I am %d years old, and my high school average was %f%c.\", f, s, age, ave, p);"
   ]
  },
  {
   "cell_type": "code",
   "execution_count": 2,
   "id": "e8bf0037-7fec-462d-895b-8c4a7b0a81f0",
   "metadata": {
    "tags": []
   },
   "outputs": [
    {
     "name": "stdout",
     "output_type": "stream",
     "text": [
      "78"
     ]
    }
   ],
   "source": [
    "char a = 'N';\n",
    "int v = int(a);\n",
    "printf(\"%d\", v);"
   ]
  },
  {
   "cell_type": "code",
   "execution_count": 8,
   "id": "20cd7f00-1d36-4c5c-b764-b1f965161245",
   "metadata": {
    "tags": []
   },
   "outputs": [
    {
     "name": "stdout",
     "output_type": "stream",
     "text": [
      "1\n",
      "1.500000"
     ]
    }
   ],
   "source": [
    "int a,b,c;\n",
    "float d,e,f;\n",
    "a=3;\n",
    "b=2;\n",
    "c= a/b;\n",
    "d=3;\n",
    "e=2;\n",
    "f=d/e;\n",
    "printf(\"%d\\n\",c);\n",
    "printf(\"%f\",f);"
   ]
  },
  {
   "cell_type": "code",
   "execution_count": 1,
   "id": "1356a88d-0436-4333-88f4-bc6ff9581414",
   "metadata": {
    "tags": []
   },
   "outputs": [
    {
     "data": {
      "text/plain": [
       "4"
      ]
     },
     "execution_count": 1,
     "metadata": {},
     "output_type": "execute_result"
    }
   ],
   "source": []
  }
 ],
 "metadata": {
  "kernelspec": {
   "display_name": "C++11",
   "language": "C++11",
   "name": "xcpp11"
  },
  "language_info": {
   "codemirror_mode": "text/x-c++src",
   "file_extension": ".cpp",
   "mimetype": "text/x-c++src",
   "name": "c++",
   "version": "11"
  }
 },
 "nbformat": 4,
 "nbformat_minor": 5
}
