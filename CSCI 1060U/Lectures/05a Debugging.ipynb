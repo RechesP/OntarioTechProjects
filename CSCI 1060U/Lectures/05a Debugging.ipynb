{
 "cells": [
  {
   "cell_type": "code",
   "execution_count": null,
   "id": "059428b8-feb3-4200-b961-dc8e419f93e0",
   "metadata": {},
   "outputs": [],
   "source": [
    "/*get two random numbers, \n",
    "One from 0-4 and another from 5-9\n",
    "int num1 = rand()%5;\n",
    "int num2 = rand()%5+5;\n",
    "int sum = num1 + num2;\n",
    "***int diff = num1 - num2;***\n",
    "printf (\"The sum of %d and %d is %d\\n\", num1, num2, sum);\n",
    "****printf (\"%d is %d more than %d\\n\", num1, diff, num2);*****/"
   ]
  },
  {
   "cell_type": "code",
   "execution_count": null,
   "id": "d7cb58be-2425-4f33-83a1-3599631909e6",
   "metadata": {},
   "outputs": [],
   "source": [
    "/*Suppose someone is going to give you a function called squareRoot \n",
    "that calculates and returns the floor of the square root of a number. \n",
    "Write test cases that will verify the code is correct.*/"
   ]
  },
  {
   "cell_type": "code",
   "execution_count": null,
   "id": "3e05d30e-4fe2-432e-8bc0-b59b45752107",
   "metadata": {},
   "outputs": [],
   "source": [
    "squareRoot(-1); //should return flase\n",
    "squareRoot(2.25); //should return 1\n",
    "squareRoot(10000); //should return 100\n",
    "squareRoot(0.016); //should retur\n"
   ]
  },
  {
   "cell_type": "code",
   "execution_count": null,
   "id": "7eb8e59a-62e4-45f7-997f-bf3dfe3a73d2",
   "metadata": {},
   "outputs": [],
   "source": [
    "/*Take the sample code from the public folder and inject print statements to help you find the bug.*/"
   ]
  },
  {
   "cell_type": "code",
   "execution_count": 14,
   "id": "36ea3fe6-91c5-46db-af6a-a75d97ea3b92",
   "metadata": {
    "tags": []
   },
   "outputs": [],
   "source": [
    "#include <iostream>\n",
    "\n",
    "void flawedSort(int arr[], int size) {\n",
    "    int i = 0;\n",
    "    while (i < size - 1) {\n",
    "        int minIndex = i;\n",
    "        int j = i + 1;\n",
    "        while (j < size) {\n",
    "            if (arr[j] < arr[minIndex]) {\n",
    "                minIndex = j;\n",
    "            }\n",
    "            j++;\n",
    "        }\n",
    "        int temp = arr[i];\n",
    "        arr[i] = arr[minIndex];\n",
    "        arr[minIndex] = temp;\n",
    "        i++;\n",
    "        \n",
    "        for (int i = 0; i < size; i++){\n",
    "            printf(\"%d \", arr[i]);\n",
    "        }\n",
    "        printf(\"\\n\");\n",
    "    }\n",
    "}"
   ]
  },
  {
   "cell_type": "code",
   "execution_count": 15,
   "id": "b68bd33e-4d7f-41b0-865f-ecd0cde6f24a",
   "metadata": {
    "tags": []
   },
   "outputs": [
    {
     "name": "stdout",
     "output_type": "stream",
     "text": [
      "1 3 4 1 5 9 2 6 5 3 5 \n",
      "1 1 4 3 5 9 2 6 5 3 5 \n",
      "1 1 2 3 5 9 4 6 5 3 5 \n",
      "1 1 2 3 5 9 4 6 5 3 5 \n",
      "1 1 2 3 3 9 4 6 5 5 5 \n",
      "1 1 2 3 3 4 9 6 5 5 5 \n",
      "1 1 2 3 3 4 5 6 9 5 5 \n",
      "1 1 2 3 3 4 5 5 9 6 5 \n",
      "1 1 2 3 3 4 5 5 5 6 9 \n",
      "1 1 2 3 3 4 5 5 5 6 9 \n"
     ]
    }
   ],
   "source": [
    "int arr[] = {3, 1, 4, 1, 5, 9, 2, 6, 5, 3, 5};\n",
    "int size = sizeof(arr) / sizeof(arr[0]);\n",
    "flawedSort(arr, size);"
   ]
  },
  {
   "cell_type": "code",
   "execution_count": null,
   "id": "81807328-df98-4471-95de-fb298352eed2",
   "metadata": {},
   "outputs": [],
   "source": [
    "/*Look for the file in the public folder. \n",
    "Use a divide-and-conquer strategy to figure out which cell has an error, \n",
    "then find the error."
   ]
  }
 ],
 "metadata": {
  "kernelspec": {
   "display_name": "C++11",
   "language": "C++11",
   "name": "xcpp11"
  },
  "language_info": {
   "codemirror_mode": "text/x-c++src",
   "file_extension": ".cpp",
   "mimetype": "text/x-c++src",
   "name": "c++",
   "version": "11"
  }
 },
 "nbformat": 4,
 "nbformat_minor": 5
}
