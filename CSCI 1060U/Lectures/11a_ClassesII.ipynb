{
 "cells": [
  {
   "cell_type": "code",
   "execution_count": 1,
   "id": "f47965db-4710-4540-b49e-bc9435203641",
   "metadata": {},
   "outputs": [],
   "source": [
    "/*Complete the accessor (‘getter’) \n",
    "and mutator (‘setter’) functions from the movie class. \n",
    "Movie titles generally start with a capital letter; \n",
    "use your mutator function to ensure this property is maintained.\n",
    "*/\n",
    "#include <iostream>\n",
    "using namespace std;"
   ]
  },
  {
   "cell_type": "code",
   "execution_count": 2,
   "id": "404899d4-a190-4172-83c9-1d149fe505d5",
   "metadata": {},
   "outputs": [],
   "source": [
    "/*Continuing from the previous exercise, \n",
    "add two constructors to the movie class: \n",
    "one that requires no parameters and assigns a blank title, \n",
    "and one that requires the title.\n",
    "Then add a deconstructor that prints a message. \n",
    "No other deconstructor code is needed.\n",
    "*/"
   ]
  },
  {
   "cell_type": "code",
   "execution_count": 3,
   "id": "6be9fd5b-ce42-4fb0-a6c5-a641ca412e47",
   "metadata": {},
   "outputs": [],
   "source": [
    "class Movie {\n",
    "    private:\n",
    "        string title;\n",
    "    public:\n",
    "        Movie();\n",
    "        Movie(string t);\n",
    "        ~Movie(){cout << \"And just like that the movie's gone.\" << endl;};\n",
    "        string getTitle(){return title;} //accessor\n",
    "        void setTitle(string t); //mutator\n",
    "        void watchMovie();\n",
    "};\n"
   ]
  },
  {
   "cell_type": "code",
   "execution_count": 4,
   "id": "809dfb0c-7af7-486c-b256-47863a83496c",
   "metadata": {},
   "outputs": [],
   "source": [
    "Movie::Movie(){\n",
    "    title = \"\";\n",
    "}"
   ]
  },
  {
   "cell_type": "code",
   "execution_count": 5,
   "id": "356c3d64-1f32-4c2d-8c03-a4c9e2887d0a",
   "metadata": {},
   "outputs": [],
   "source": [
    "Movie::Movie(string t){\n",
    "    this->setTitle(t);\n",
    "}"
   ]
  },
  {
   "cell_type": "code",
   "execution_count": 6,
   "id": "f6074c41-e67f-4c0c-9f29-2b3df43b65ba",
   "metadata": {},
   "outputs": [],
   "source": [
    "void Movie::watchMovie(){\n",
    "    cout << \"Damn \" << title << \" is awesome!\" << endl;\n",
    "}"
   ]
  },
  {
   "cell_type": "code",
   "execution_count": 7,
   "id": "8022967b-2294-4540-b3f9-f1c1079d89cd",
   "metadata": {},
   "outputs": [],
   "source": [
    "void Movie::setTitle(string t){\n",
    "    title = t;\n",
    "    title[0] = toupper(t[0]);\n",
    "}"
   ]
  },
  {
   "cell_type": "code",
   "execution_count": 8,
   "id": "7ee3eaa3-d5a0-46dd-aef3-e26ba7d868a5",
   "metadata": {
    "tags": []
   },
   "outputs": [
    {
     "name": "stdout",
     "output_type": "stream",
     "text": [
      "Damn The Terminator is awesome!\n"
     ]
    }
   ],
   "source": [
    "Movie m;\n",
    "m.setTitle(\"the Terminator\");\n",
    "m.watchMovie();"
   ]
  },
  {
   "cell_type": "code",
   "execution_count": 9,
   "id": "eb2bdbef-3181-4626-8f72-9093ef62a8b0",
   "metadata": {},
   "outputs": [
    {
     "name": "stdout",
     "output_type": "stream",
     "text": [
      "Damn The Terminator is awesome!\n"
     ]
    }
   ],
   "source": [
    "Movie m = Movie(\"the Terminator\");\n",
    "m.watchMovie();"
   ]
  },
  {
   "cell_type": "code",
   "execution_count": 10,
   "id": "5868d8f8-5efc-42c6-ba61-c5c1e15c5f45",
   "metadata": {},
   "outputs": [
    {
     "name": "stdout",
     "output_type": "stream",
     "text": [
      "Damn  is awesome!\n"
     ]
    }
   ],
   "source": [
    "Movie m2 = Movie();\n",
    "//m2.setTitle(\"the Terminator\");\n",
    "m2.watchMovie();"
   ]
  },
  {
   "cell_type": "code",
   "execution_count": 11,
   "id": "29167368-a1a7-41b1-afc5-20ab9dee79b2",
   "metadata": {},
   "outputs": [],
   "source": [
    "void foo(){\n",
    "    Movie m = Movie();\n",
    "}"
   ]
  },
  {
   "cell_type": "code",
   "execution_count": 12,
   "id": "73e09373-16c9-4fed-8a6d-49aa50e948b9",
   "metadata": {
    "tags": []
   },
   "outputs": [
    {
     "name": "stdout",
     "output_type": "stream",
     "text": [
      "And just like that the movie's gone.\n"
     ]
    }
   ],
   "source": [
    "foo()"
   ]
  },
  {
   "cell_type": "code",
   "execution_count": 13,
   "id": "071fac40-1a5f-40cc-b4b7-b83950106cd1",
   "metadata": {},
   "outputs": [],
   "source": [
    "/*Continuing from the previous exercise, \n",
    "ask the user for a number of movies they want to create. \n",
    "Make a function that creates that many movies and asks \n",
    "the user to give each a title. \n",
    "Your function should return a pointer \n",
    "to an array that contains the movies.\n",
    "*/"
   ]
  },
  {
   "cell_type": "code",
   "execution_count": 14,
   "id": "6cab0395-4918-46fc-aca4-35b76c6724fa",
   "metadata": {},
   "outputs": [
    {
     "name": "stdout",
     "output_type": "stream",
     "text": [
      "How many movies do you want to name?\n"
     ]
    },
    {
     "name": "stdin",
     "output_type": "stream",
     "text": [
      " 3\n"
     ]
    }
   ],
   "source": [
    "cout << \"How many movies do you want to name?\" << endl;\n",
    "int num;\n",
    "cin >> num;"
   ]
  },
  {
   "cell_type": "code",
   "execution_count": 15,
   "id": "3876c59b-b749-47ec-96c5-2c1bd04dd801",
   "metadata": {},
   "outputs": [],
   "source": [
    "Movie* createMovieList(int num){\n",
    "    Movie* movieList = new Movie[num];\n",
    "    for (int i = 0; i < num; i++){\n",
    "        cout << \"ENTER MOVIE TITLE\" << endl;\n",
    "        string title;\n",
    "        getline(cin, title);\n",
    "        \n",
    "        movieList[i].setTitle(title);\n",
    "    }\n",
    "    return movieList;\n",
    "}"
   ]
  },
  {
   "cell_type": "code",
   "execution_count": 16,
   "id": "b9c58d56-dbfa-4305-9fe0-08abc4e68357",
   "metadata": {},
   "outputs": [
    {
     "name": "stdout",
     "output_type": "stream",
     "text": [
      "ENTER MOVIE TITLE\n"
     ]
    },
    {
     "name": "stdin",
     "output_type": "stream",
     "text": [
      " hottub Time Machine\n"
     ]
    },
    {
     "name": "stdout",
     "output_type": "stream",
     "text": [
      "ENTER MOVIE TITLE\n"
     ]
    },
    {
     "name": "stdin",
     "output_type": "stream",
     "text": [
      " chitee Chitee Bang Bang\n"
     ]
    },
    {
     "name": "stdout",
     "output_type": "stream",
     "text": [
      "ENTER MOVIE TITLE\n"
     ]
    },
    {
     "name": "stdin",
     "output_type": "stream",
     "text": [
      " the Three Mousekateers\n"
     ]
    },
    {
     "name": "stdout",
     "output_type": "stream",
     "text": [
      "Damn Hottub Time Machine is awesome!\n"
     ]
    }
   ],
   "source": [
    "Movie* dynamic_array = createMovieList(num);\n",
    "dynamic_array[0].watchMovie();"
   ]
  },
  {
   "cell_type": "code",
   "execution_count": 17,
   "id": "b520a992-ed7d-4107-bcfe-e464c147b952",
   "metadata": {},
   "outputs": [
    {
     "name": "stdout",
     "output_type": "stream",
     "text": [
      "Damn Chitee Chitee Bang Bang is awesome!\n"
     ]
    }
   ],
   "source": [
    "dynamic_array[1].watchMovie();"
   ]
  },
  {
   "cell_type": "code",
   "execution_count": 18,
   "id": "a9fe54b6-1448-412b-94cc-371f91d9b8fe",
   "metadata": {
    "tags": []
   },
   "outputs": [
    {
     "name": "stdout",
     "output_type": "stream",
     "text": [
      "Damn The Three Mousekateers is awesome!\n"
     ]
    }
   ],
   "source": [
    "dynamic_array[2].watchMovie();"
   ]
  },
  {
   "cell_type": "code",
   "execution_count": 19,
   "id": "8a71c350-89d5-4708-81ac-1789d7366f05",
   "metadata": {},
   "outputs": [],
   "source": [
    "/*\n",
    "Continuing from the previous exercise,\n",
    "output the titles of the movies \n",
    "then ask the user for a movie to delete. \n",
    "Resize the array, \n",
    "then delete that movie. \n",
    "Then print out all the movie titles that remain.\n",
    "*/"
   ]
  },
  {
   "cell_type": "code",
   "execution_count": 20,
   "id": "8746a363-2884-4eee-aa0e-644dce1f4ad2",
   "metadata": {
    "tags": []
   },
   "outputs": [
    {
     "name": "stdout",
     "output_type": "stream",
     "text": [
      "Hottub Time Machine\n",
      "Chitee Chitee Bang Bang\n",
      "The Three Mousekateers\n",
      "Which movie should we delete?\n"
     ]
    },
    {
     "name": "stdin",
     "output_type": "stream",
     "text": [
      " Chitee Chitee Bang Bang\n"
     ]
    }
   ],
   "source": [
    "for(int i = 0; i < num; i++){\n",
    "    cout << dynamic_array[i].getTitle() << endl;\n",
    "}\n",
    "cout << \"Which movie should we delete?\" << endl;\n",
    "string del;\n",
    "getline(cin,del);\n"
   ]
  },
  {
   "cell_type": "code",
   "execution_count": 23,
   "id": "fee662fa-4e06-484a-bc4e-41ab9e98325e",
   "metadata": {
    "tags": []
   },
   "outputs": [
    {
     "name": "stdout",
     "output_type": "stream",
     "text": [
      "And just like that the movie's gone.\n",
      "And just like that the movie's gone.\n",
      "And just like that the movie's gone.\n",
      "Hottub Time Machine\n",
      "The Three Mousekateers\n"
     ]
    }
   ],
   "source": [
    "Movie* new_dynamic_array = new Movie[num-1];\n",
    "int j = 0;\n",
    "for (int i = 0; i < num; i++){\n",
    "    if (dynamic_array[i].getTitle() != del){\n",
    "        new_dynamic_array[j].setTitle(dynamic_array[i].getTitle());\n",
    "        j++;\n",
    "    }\n",
    "}\n",
    "delete[] dynamic_array;\n",
    "dynamic_array = new_dynamic_array;\n",
    "num--;\n",
    "for (int i = 0; i < num; i++){\n",
    "    cout << dynamic_array[i].getTitle() << endl;\n",
    "}"
   ]
  }
 ],
 "metadata": {
  "kernelspec": {
   "display_name": "C++11",
   "language": "C++11",
   "name": "xcpp11"
  },
  "language_info": {
   "codemirror_mode": "text/x-c++src",
   "file_extension": ".cpp",
   "mimetype": "text/x-c++src",
   "name": "c++",
   "version": "11"
  }
 },
 "nbformat": 4,
 "nbformat_minor": 5
}
