{
 "cells": [
  {
   "cell_type": "code",
   "execution_count": 1,
   "id": "8c0ade7e-0394-41e6-81af-0813e696dc85",
   "metadata": {},
   "outputs": [
    {
     "data": {
      "text/plain": [
       "\"henlo\""
      ]
     },
     "execution_count": 1,
     "metadata": {},
     "output_type": "execute_result"
    }
   ],
   "source": [
    "#include <iostream>\n",
    "//#include <string>\n",
    "std::string greeting = \"hello\";\n",
    "greeting[2] = 'n';\n",
    "greeting"
   ]
  },
  {
   "cell_type": "code",
   "execution_count": 2,
   "id": "076d8fc0-e24c-4a2b-87b7-b60366d4e66c",
   "metadata": {},
   "outputs": [],
   "source": [
    "// \"hello\" + \" hello\";"
   ]
  },
  {
   "cell_type": "code",
   "execution_count": 3,
   "id": "162d43b2-c6a6-4782-a14c-6328e7fcec44",
   "metadata": {},
   "outputs": [
    {
     "data": {
      "text/plain": [
       "\"henlo hello\""
      ]
     },
     "execution_count": 3,
     "metadata": {},
     "output_type": "execute_result"
    }
   ],
   "source": [
    "greeting + \" hello\""
   ]
  },
  {
   "cell_type": "code",
   "execution_count": 4,
   "id": "a0f9eccc-da41-40be-995e-522416609c7a",
   "metadata": {
    "tags": []
   },
   "outputs": [],
   "source": [
    "/*Write a function \n",
    "which takes as a parameter a string \n",
    "in the form of a logical expression, such as \"2>5\" or \"1!=5\", \n",
    "and returns true if the statement is true and false otherwise. \n",
    "Assume the only operators are ==, !=, <, and >,\n",
    "and each value is a single positive digit.*/\n",
    "#include <iostream>\n",
    "#include <string>\n",
    "using namespace std;"
   ]
  },
  {
   "cell_type": "code",
   "execution_count": 5,
   "id": "8d349470-e8f5-47fe-8db3-8a7840827276",
   "metadata": {
    "tags": []
   },
   "outputs": [],
   "source": [
    "bool figurOut(string log_expr){\n",
    "    //4 possibilities: ==, !=, <, >\n",
    "    // some expressions might be \"2>5\" or \"1!=5\"\n",
    "    switch(log_expr[1]){\n",
    "        case '>':\n",
    "            return log_expr[0] > log_expr[2];\n",
    "        case '<':\n",
    "            return log_expr[0] < log_expr[2];\n",
    "        case '=':\n",
    "            return log_expr[0] == log_expr[3];\n",
    "        case '!':\n",
    "            return log_expr[0] != log_expr[3];\n",
    "        default:\n",
    "            //something weird happens\n",
    "            return false;\n",
    "    }\n",
    "    return false;\n",
    "}"
   ]
  },
  {
   "cell_type": "code",
   "execution_count": 6,
   "id": "11826782-43be-4abf-b8aa-d6fc350f6d39",
   "metadata": {
    "tags": []
   },
   "outputs": [
    {
     "data": {
      "text/plain": [
       "true"
      ]
     },
     "execution_count": 6,
     "metadata": {},
     "output_type": "execute_result"
    }
   ],
   "source": [
    "figurOut(\"9!=5\")"
   ]
  },
  {
   "cell_type": "code",
   "execution_count": 7,
   "id": "d2912482-5c8a-44c4-a671-ea3e1155f685",
   "metadata": {
    "tags": []
   },
   "outputs": [],
   "source": [
    "/*Write a program that takes a word as input from the user, \n",
    "and calculates the number of capital letters in the word. \n",
    "What happens if the user tries to enter a string with multiple words?*/\n",
    "#include <iostream>\n",
    "#include <string>\n",
    "using namespace std;"
   ]
  },
  {
   "cell_type": "code",
   "execution_count": 8,
   "id": "f5677e07-47ac-4e8d-900e-a3dfc308707d",
   "metadata": {
    "tags": []
   },
   "outputs": [
    {
     "name": "stdout",
     "output_type": "stream",
     "text": [
      "Please enter a word:"
     ]
    },
    {
     "name": "stdin",
     "output_type": "stream",
     "text": [
      " HHHHH\n"
     ]
    }
   ],
   "source": [
    "string word = \"\";\n",
    "cout << \"Please enter a word:\";\n",
    "//cin >> word; wont work for more than one word\n",
    "getline(cin,word);"
   ]
  },
  {
   "cell_type": "code",
   "execution_count": 9,
   "id": "df9a7e5f-3e06-496c-b246-207fb7e5aa27",
   "metadata": {
    "tags": []
   },
   "outputs": [],
   "source": [
    "int counter = 0;\n",
    "for(int i = 0; i < word.length(); i++){\n",
    "    if (isupper(word[i])){\n",
    "        counter++;\n",
    "    }\n",
    "}\n"
   ]
  },
  {
   "cell_type": "code",
   "execution_count": 10,
   "id": "f8b0a433-e497-44f1-9dd4-5720c6f97101",
   "metadata": {
    "tags": []
   },
   "outputs": [
    {
     "data": {
      "text/plain": [
       "5"
      ]
     },
     "execution_count": 10,
     "metadata": {},
     "output_type": "execute_result"
    }
   ],
   "source": [
    "counter"
   ]
  },
  {
   "cell_type": "code",
   "execution_count": 18,
   "id": "2a7f1eba-4a69-4252-995b-f05e1c5a508a",
   "metadata": {
    "tags": []
   },
   "outputs": [],
   "source": [
    "/*Write a program to get individual words from the user until they enter the word “STOP”. \n",
    "Then, output a string containing each word the user typed separated by spaces.*/\n",
    "#include <iostream>\n",
    "#include <string>\n",
    "using namespace std;"
   ]
  },
  {
   "cell_type": "code",
   "execution_count": 19,
   "id": "598ba013-52ee-4ff2-b138-7fb0e632e556",
   "metadata": {
    "tags": []
   },
   "outputs": [
    {
     "name": "stdout",
     "output_type": "stream",
     "text": [
      "Please enter a word:"
     ]
    },
    {
     "name": "stdin",
     "output_type": "stream",
     "text": [
      " Cheese\n"
     ]
    },
    {
     "name": "stdout",
     "output_type": "stream",
     "text": [
      "Please enter a word:"
     ]
    },
    {
     "name": "stdin",
     "output_type": "stream",
     "text": [
      " is tasty,\n"
     ]
    },
    {
     "name": "stdout",
     "output_type": "stream",
     "text": [
      "Please enter a word:"
     ]
    },
    {
     "name": "stdin",
     "output_type": "stream",
     "text": [
      " get me some.\n"
     ]
    },
    {
     "name": "stdout",
     "output_type": "stream",
     "text": [
      "Please enter a word:"
     ]
    },
    {
     "name": "stdin",
     "output_type": "stream",
     "text": [
      " NOW.\n"
     ]
    },
    {
     "name": "stdout",
     "output_type": "stream",
     "text": [
      "Please enter a word:"
     ]
    },
    {
     "name": "stdin",
     "output_type": "stream",
     "text": [
      " STOP\n"
     ]
    },
    {
     "name": "stdout",
     "output_type": "stream",
     "text": [
      "The combined words are: Cheese is tasty, get me some. NOW. "
     ]
    }
   ],
   "source": [
    "string words = \"\";\n",
    "string word = \"\";\n",
    "do{\n",
    "    cout << \"Please enter a word:\";\n",
    "    // cin >> word;\n",
    "    getline(cin, word);\n",
    "    if (word != \"STOP\"){\n",
    "        words.append(word + \" \");\n",
    "    }\n",
    "}while ( word != \"STOP\");\n",
    "\n",
    "cout << \"The combined words are: \" << words;"
   ]
  },
  {
   "cell_type": "code",
   "execution_count": 20,
   "id": "32c75c19-d800-4c4e-9d14-40f2bbffc511",
   "metadata": {
    "tags": []
   },
   "outputs": [],
   "source": [
    "/*Write a function void delChar(string word, char letter) \n",
    "that transforms word by deleting all instances of letter from it. \n",
    "For example, delChar(\"aardvark\", 'a') would change the word to “rdvrk”.*/\n",
    "\n",
    "/*string.erase(index, length)\n",
    "Deletes length letters starting from the index in the string\n",
    "string name = \"Michael M\";\n",
    "name.erase(1,6); //name is now “M M”*/\n",
    "\n",
    "#include <iostream>\n",
    "#include <string>\n",
    "using namespace std;"
   ]
  },
  {
   "cell_type": "code",
   "execution_count": 21,
   "id": "80fa9ebe-0579-4efd-b1dd-6a008b3d5e9d",
   "metadata": {
    "tags": []
   },
   "outputs": [],
   "source": [
    "void delChar(string &word, char letter){\n",
    "    // for (int i = 0; i < word.length(); i++){\n",
    "    //     cout << \"The word right now is: \" << word << endl;\n",
    "    //     if (word[i] == letter){\n",
    "    //         word.erase(i,1);\n",
    "    //         i--;\n",
    "    //     }\n",
    "    // }\n",
    "    int i = 0;\n",
    "    while (i < word.length()){\n",
    "        if (word[i] == letter){\n",
    "            word.erase(i,1);\n",
    "        } else{\n",
    "            i++;\n",
    "        }\n",
    "    }\n",
    "}"
   ]
  },
  {
   "cell_type": "code",
   "execution_count": 22,
   "id": "77810109-dc7e-4c15-bc83-ed434c61f2b9",
   "metadata": {
    "tags": []
   },
   "outputs": [
    {
     "data": {
      "text/plain": [
       "\"rdvrk\""
      ]
     },
     "execution_count": 22,
     "metadata": {},
     "output_type": "execute_result"
    }
   ],
   "source": [
    "string word = \"aardvark\";\n",
    "delChar(word, 'a');\n",
    "word"
   ]
  },
  {
   "cell_type": "code",
   "execution_count": null,
   "id": "9e5ee502-7d2f-4d20-9e5d-ec8c1387a28e",
   "metadata": {},
   "outputs": [],
   "source": []
  }
 ],
 "metadata": {
  "kernelspec": {
   "display_name": "C++11",
   "language": "C++11",
   "name": "xcpp11"
  },
  "language_info": {
   "codemirror_mode": "text/x-c++src",
   "file_extension": ".cpp",
   "mimetype": "text/x-c++src",
   "name": "c++",
   "version": "11"
  }
 },
 "nbformat": 4,
 "nbformat_minor": 5
}
