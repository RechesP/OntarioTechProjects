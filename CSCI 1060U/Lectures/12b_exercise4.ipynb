{
 "cells": [
  {
   "cell_type": "code",
   "execution_count": 1,
   "id": "972a27ee-7524-46d6-8159-6a53ceaa70ab",
   "metadata": {
    "tags": []
   },
   "outputs": [],
   "source": [
    "/*Write a function that prompts \n",
    "the user to continuously enter pairs of names \n",
    "(strings) and grades (int) until \n",
    "they enter “STOP” as a name. \n",
    "Store these names and grades in two vectors, \n",
    "then output each pair.\n",
    "*/\n",
    "#include <vector>\n",
    "#include <iostream>\n",
    "using namespace std;"
   ]
  },
  {
   "cell_type": "code",
   "execution_count": 2,
   "id": "a35c4418-e19d-4f22-a3fd-308181fd2c8b",
   "metadata": {},
   "outputs": [],
   "source": [
    "void getNamesAndGrades(){\n",
    "    string name;\n",
    "    int grade;\n",
    "    vector<string> names;\n",
    "    vector<int> grades;\n",
    "    \n",
    "    while (true){\n",
    "        cout << \"Give a name (STOP to stop): \" << endl;\n",
    "        cin >> name;\n",
    "        \n",
    "        if (name == \"STOP\"){\n",
    "            break;\n",
    "        }\n",
    "        cout << \"Give a grade: \" << endl;\n",
    "        cin >> grade;\n",
    "        \n",
    "        names.push_back(name);\n",
    "        grades.push_back(grade);\n",
    "    }\n",
    "    \n",
    "    for (int i = 0; i < names.size(); i++){\n",
    "        cout << \"Name: \" << names.at(i) << endl;\n",
    "        cout << \"Grade: \" << grades.at(i) << endl;\n",
    "        cout << endl;\n",
    "    }\n",
    "}"
   ]
  },
  {
   "cell_type": "code",
   "execution_count": 3,
   "id": "b031a32c-28ac-4642-8561-36c19e13f95c",
   "metadata": {
    "tags": []
   },
   "outputs": [
    {
     "name": "stdout",
     "output_type": "stream",
     "text": [
      "Give a name (STOP to stop): \n"
     ]
    },
    {
     "name": "stdin",
     "output_type": "stream",
     "text": [
      " John\n"
     ]
    },
    {
     "name": "stdout",
     "output_type": "stream",
     "text": [
      "Give a grade: \n"
     ]
    },
    {
     "name": "stdin",
     "output_type": "stream",
     "text": [
      " 57\n"
     ]
    },
    {
     "name": "stdout",
     "output_type": "stream",
     "text": [
      "Give a name (STOP to stop): \n"
     ]
    },
    {
     "name": "stdin",
     "output_type": "stream",
     "text": [
      " Richard\n"
     ]
    },
    {
     "name": "stdout",
     "output_type": "stream",
     "text": [
      "Give a grade: \n"
     ]
    },
    {
     "name": "stdin",
     "output_type": "stream",
     "text": [
      " 98\n"
     ]
    },
    {
     "name": "stdout",
     "output_type": "stream",
     "text": [
      "Give a name (STOP to stop): \n"
     ]
    },
    {
     "name": "stdin",
     "output_type": "stream",
     "text": [
      " Sam\n"
     ]
    },
    {
     "name": "stdout",
     "output_type": "stream",
     "text": [
      "Give a grade: \n"
     ]
    },
    {
     "name": "stdin",
     "output_type": "stream",
     "text": [
      " 54\n"
     ]
    },
    {
     "name": "stdout",
     "output_type": "stream",
     "text": [
      "Give a name (STOP to stop): \n"
     ]
    },
    {
     "name": "stdin",
     "output_type": "stream",
     "text": [
      " Greg\n"
     ]
    },
    {
     "name": "stdout",
     "output_type": "stream",
     "text": [
      "Give a grade: \n"
     ]
    },
    {
     "name": "stdin",
     "output_type": "stream",
     "text": [
      " 75\n"
     ]
    },
    {
     "name": "stdout",
     "output_type": "stream",
     "text": [
      "Give a name (STOP to stop): \n"
     ]
    },
    {
     "name": "stdin",
     "output_type": "stream",
     "text": [
      " STOP\n"
     ]
    },
    {
     "name": "stdout",
     "output_type": "stream",
     "text": [
      "Name: John\n",
      "Grade: 57\n",
      "\n",
      "Name: Richard\n",
      "Grade: 98\n",
      "\n",
      "Name: Sam\n",
      "Grade: 54\n",
      "\n",
      "Name: Greg\n",
      "Grade: 75\n",
      "\n"
     ]
    }
   ],
   "source": [
    "getNamesAndGrades()"
   ]
  }
 ],
 "metadata": {
  "kernelspec": {
   "display_name": "C++11",
   "language": "C++11",
   "name": "xcpp11"
  },
  "language_info": {
   "codemirror_mode": "text/x-c++src",
   "file_extension": ".cpp",
   "mimetype": "text/x-c++src",
   "name": "c++",
   "version": "11"
  }
 },
 "nbformat": 4,
 "nbformat_minor": 5
}
