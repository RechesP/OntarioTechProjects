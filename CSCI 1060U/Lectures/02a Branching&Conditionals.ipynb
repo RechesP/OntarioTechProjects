{
 "cells": [
  {
   "cell_type": "code",
   "execution_count": 1,
   "id": "29d81cff-25dd-4778-9edc-216159a16654",
   "metadata": {},
   "outputs": [],
   "source": [
    "int x = 1;\n",
    "int y = 2;\n",
    "int z = 3;"
   ]
  },
  {
   "cell_type": "code",
   "execution_count": 2,
   "id": "8ffc202a-5089-471f-b042-e62f977a662a",
   "metadata": {
    "tags": []
   },
   "outputs": [
    {
     "data": {
      "text/plain": [
       "false"
      ]
     },
     "execution_count": 2,
     "metadata": {},
     "output_type": "execute_result"
    }
   ],
   "source": [
    "(x == y)"
   ]
  },
  {
   "cell_type": "code",
   "execution_count": 3,
   "id": "4b4afbf9-ed52-4bca-8fbb-442b48b3bcc8",
   "metadata": {
    "tags": []
   },
   "outputs": [
    {
     "data": {
      "text/plain": [
       "true"
      ]
     },
     "execution_count": 3,
     "metadata": {},
     "output_type": "execute_result"
    }
   ],
   "source": [
    "x<y<z"
   ]
  },
  {
   "cell_type": "code",
   "execution_count": 19,
   "id": "f8405bfe-d192-41aa-9733-92b82341e9ea",
   "metadata": {
    "tags": []
   },
   "outputs": [],
   "source": [
    "char letter = 'c';\n",
    "//(int(letter) >= int('A')) && (int(letter) <= int('Z'));\n",
    "(letter >= 'A') && (letter <= 'Z');"
   ]
  },
  {
   "cell_type": "code",
   "execution_count": 20,
   "id": "a69ab250-e062-475c-ade8-a50d8e073003",
   "metadata": {
    "tags": []
   },
   "outputs": [
    {
     "data": {
      "text/plain": [
       "false"
      ]
     },
     "execution_count": 20,
     "metadata": {},
     "output_type": "execute_result"
    }
   ],
   "source": [
    "bool result = isupper(letter);\n",
    "result"
   ]
  },
  {
   "cell_type": "code",
   "execution_count": 24,
   "id": "3b3cf029-922b-42a7-be8c-75f9fac2a179",
   "metadata": {
    "tags": []
   },
   "outputs": [
    {
     "name": "stdout",
     "output_type": "stream",
     "text": [
      "Your character C is an uppercase letter. Well done!"
     ]
    }
   ],
   "source": [
    "char letter = 'C';\n",
    "if((letter >= 'A') && (letter <= 'Z'))\n",
    "{\n",
    "    printf(\"Your character %c is an uppercase letter. Well done!\",letter);\n",
    "}"
   ]
  },
  {
   "cell_type": "code",
   "execution_count": 33,
   "id": "8dc1ee8b-f258-4b10-9e9e-3572baf8a65f",
   "metadata": {
    "tags": []
   },
   "outputs": [
    {
     "name": "stdout",
     "output_type": "stream",
     "text": [
      "10 is greater than 7.\n",
      "The difference between 10 and 7 is less than 4.\n"
     ]
    }
   ],
   "source": [
    "int x = 10;\n",
    "int y = 7;\n",
    "if(y>x){\n",
    "    printf(\"%d is less than %d.\\n\", x, y);\n",
    "}\n",
    "else if((x>y)&&((x-y)<4)){\n",
    "    printf(\"%d is greater than %d.\\n\", x, y);\n",
    "    printf(\"The difference between %d and %d is less than 4.\\n\",x,y);\n",
    "}\n",
    "else if(x>y){\n",
    "    printf(\"%d is greater than %d.\\n\", x, y);\n",
    "}\n",
    "else{\n",
    "    printf(\"%d and %d are the same.\\n\", x, y);\n",
    "}"
   ]
  },
  {
   "cell_type": "code",
   "execution_count": null,
   "id": "e0b30468-c654-4ebe-9ee3-3b064c5aaf7b",
   "metadata": {},
   "outputs": [],
   "source": [
    "int x = 10;\n",
    "int y = 7;\n",
    "if(y>x){\n",
    "    printf(\"%d is less than %d.\\n\", x, y);\n",
    "}\n",
    "else{\n",
    "    printf(\"%d is greater than %d.\\n\", x, y);\n",
    "    if((x-y)<4){\n",
    "        printf(\"The difference between %d and %d is less than 4.\\n\",x,y);\n",
    "    }\n",
    "}"
   ]
  },
  {
   "cell_type": "code",
   "execution_count": 38,
   "id": "e34c3082-1545-4cb4-b1e5-8ce405698222",
   "metadata": {
    "tags": []
   },
   "outputs": [
    {
     "name": "stdout",
     "output_type": "stream",
     "text": [
      "You have a C\n"
     ]
    }
   ],
   "source": [
    "char grade = 'c';\n",
    "switch(toupper(grade)){\n",
    "    case 'A':\n",
    "        printf(\"You have an A\\n\");\n",
    "        break;\n",
    "    \n",
    "    case 'B':\n",
    "        printf(\"You have a B\\n\");\n",
    "        break;\n",
    "    \n",
    "    case 'C':\n",
    "        printf(\"You have a C\\n\");\n",
    "        break;\n",
    "    \n",
    "    case 'D':\n",
    "        printf(\"You have a D\\n\");\n",
    "        break;\n",
    "    \n",
    "    case 'F':\n",
    "        printf(\"You have an F\\n\");\n",
    "        break;\n",
    "        \n",
    "    default:\n",
    "        printf(\"Sorry but that is not an acutual grade\\n\");\n",
    "        break;\n",
    "}"
   ]
  },
  {
   "cell_type": "code",
   "execution_count": null,
   "id": "1e7ab4bd-f68f-4b3a-8bf2-19c05ddcfc6d",
   "metadata": {},
   "outputs": [],
   "source": []
  }
 ],
 "metadata": {
  "kernelspec": {
   "display_name": "C++11",
   "language": "C++11",
   "name": "xcpp11"
  },
  "language_info": {
   "codemirror_mode": "text/x-c++src",
   "file_extension": ".cpp",
   "mimetype": "text/x-c++src",
   "name": "c++",
   "version": "11"
  }
 },
 "nbformat": 4,
 "nbformat_minor": 5
}
