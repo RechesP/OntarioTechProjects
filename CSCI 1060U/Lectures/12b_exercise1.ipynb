{
 "cells": [
  {
   "cell_type": "code",
   "execution_count": 1,
   "id": "972a27ee-7524-46d6-8159-6a53ceaa70ab",
   "metadata": {
    "tags": []
   },
   "outputs": [],
   "source": [
    "/*Write a for loop that uses an iterator to \n",
    "pass through each element of a vector \n",
    "and print them.*/\n",
    "#include <vector>\n",
    "#include <iostream>\n",
    "using namespace std;"
   ]
  },
  {
   "cell_type": "code",
   "execution_count": 2,
   "id": "ecfde353-0335-4063-9c88-bea80fd2f794",
   "metadata": {},
   "outputs": [],
   "source": [
    "vector<int> vec = {1,2,3,4,5};"
   ]
  },
  {
   "cell_type": "code",
   "execution_count": 3,
   "id": "dce4987a-f268-44c7-b907-cefccfe6f210",
   "metadata": {
    "tags": []
   },
   "outputs": [
    {
     "name": "stdout",
     "output_type": "stream",
     "text": [
      "1\n",
      "2\n",
      "3\n",
      "4\n",
      "5\n"
     ]
    }
   ],
   "source": [
    "for(vector<int>::iterator iter = vec.begin(); iter < vec.end(); iter++){\n",
    "    cout << *iter << endl;\n",
    "}"
   ]
  },
  {
   "cell_type": "code",
   "execution_count": 4,
   "id": "12503b3d-39fa-4400-9e13-24bc614a4222",
   "metadata": {},
   "outputs": [],
   "source": [
    "void displayPattern(vector<int> v)\n",
    "{\n",
    "    int y = 1;\n",
    "    for (vector<int>::iterator i = v.begin(); i < v.end(); i++)\n",
    "    {\n",
    "        for (int j = 0; j < *i; j++)\n",
    "        {\n",
    "            cout << y;\n",
    "        }\n",
    "        cout << endl << endl;\n",
    "        y++;\n",
    "    }\n",
    "}\n"
   ]
  },
  {
   "cell_type": "code",
   "execution_count": 5,
   "id": "6b762b19-33cd-402e-a6d0-92d6137d0d70",
   "metadata": {
    "tags": []
   },
   "outputs": [
    {
     "name": "stdout",
     "output_type": "stream",
     "text": [
      "1\n",
      "\n",
      "22\n",
      "\n",
      "333\n",
      "\n",
      "44444\n",
      "\n",
      "5555555\n",
      "\n",
      "6666666666\n",
      "\n"
     ]
    }
   ],
   "source": [
    "vector<int> vec = {1, 2, 3, 5, 7, 10};\n",
    "displayPattern(vec);"
   ]
  }
 ],
 "metadata": {
  "kernelspec": {
   "display_name": "C++11",
   "language": "C++11",
   "name": "xcpp11"
  },
  "language_info": {
   "codemirror_mode": "text/x-c++src",
   "file_extension": ".cpp",
   "mimetype": "text/x-c++src",
   "name": "c++",
   "version": "11"
  }
 },
 "nbformat": 4,
 "nbformat_minor": 5
}
