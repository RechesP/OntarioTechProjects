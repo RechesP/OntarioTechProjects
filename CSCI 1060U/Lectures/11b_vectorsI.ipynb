{
 "cells": [
  {
   "cell_type": "code",
   "execution_count": 1,
   "id": "2e7d6f8f-5713-4cba-ae0a-1f42c0d3c955",
   "metadata": {},
   "outputs": [],
   "source": [
    "/*Initialize a vector with string values, \n",
    "and then create a function that iterates through the vector and \n",
    "prints each element. \n",
    "In your function, also use vector.size() and vector.capacity() to \n",
    "print the size and capacity of the vector after printing.*/\n",
    "#include <vector>\n",
    "#include <iostream>\n",
    "using namespace std;"
   ]
  },
  {
   "cell_type": "code",
   "execution_count": 2,
   "id": "26f5fcf5-931c-4f52-a49c-d671a52c9091",
   "metadata": {},
   "outputs": [],
   "source": [
    "vector<string> strVector = {\"Hello\", \"how\", \"are\", \"you?\"};"
   ]
  },
  {
   "cell_type": "code",
   "execution_count": 3,
   "id": "e87b2ecf-73e0-4bfc-ae3a-9ea562acd2a1",
   "metadata": {},
   "outputs": [],
   "source": [
    "void vectorFunc(vector<string> strVector){\n",
    "    for (string s : strVector){\n",
    "        cout << s << endl;\n",
    "        \n",
    "    }\n",
    "    cout << \"size: \" << strVector.size() << endl;\n",
    "    cout << \"capacity: \" << strVector.capacity() << endl;\n",
    "}"
   ]
  },
  {
   "cell_type": "code",
   "execution_count": 4,
   "id": "9b1c39d7-ac78-432d-8967-c6af33347aee",
   "metadata": {
    "tags": []
   },
   "outputs": [
    {
     "name": "stdout",
     "output_type": "stream",
     "text": [
      "Hello\n",
      "how\n",
      "are\n",
      "you?\n",
      "size: 4\n",
      "capacity: 4\n"
     ]
    }
   ],
   "source": [
    "vectorFunc(strVector);"
   ]
  },
  {
   "cell_type": "code",
   "execution_count": 5,
   "id": "a0790a2e-f58c-4307-933e-d148ea577ff1",
   "metadata": {},
   "outputs": [],
   "source": [
    "/*Continuing from the previous exercise, \n",
    "use push_back() to add 2 new elements to the vector, \n",
    "then pop_back() to take away 3 elements. \n",
    "When you call your printing function, \n",
    "what do you notice about size and capacity?*/\n",
    "#include <vector>\n",
    "#include <iostream>\n",
    "using namespace std;"
   ]
  },
  {
   "cell_type": "code",
   "execution_count": 6,
   "id": "c47f2c8e-26e2-41de-ab4f-68b127e377e4",
   "metadata": {},
   "outputs": [],
   "source": [
    "vector<string> strVector = {\"Hello\", \"how\", \"are\", \"you?\"};"
   ]
  },
  {
   "cell_type": "code",
   "execution_count": 7,
   "id": "0987881f-d500-42a3-9603-e867025a23eb",
   "metadata": {},
   "outputs": [],
   "source": [
    "void vectorFunc(vector<string> strVector){\n",
    "    for (string s : strVector){\n",
    "        cout << s << endl;\n",
    "        \n",
    "    }\n",
    "    cout << \"size: \" << strVector.size() << endl;\n",
    "    cout << \"capacity: \" << strVector.capacity() << endl;\n",
    "}"
   ]
  },
  {
   "cell_type": "code",
   "execution_count": 8,
   "id": "c8ca287f-d07a-42f5-80d7-b83e0c18ceb9",
   "metadata": {},
   "outputs": [
    {
     "name": "stdout",
     "output_type": "stream",
     "text": [
      "Hello\n",
      "how\n",
      "are\n",
      "you?\n",
      "size: 4\n",
      "capacity: 4\n"
     ]
    }
   ],
   "source": [
    "vectorFunc(strVector);"
   ]
  },
  {
   "cell_type": "code",
   "execution_count": 9,
   "id": "8fb3dd3c-6b28-4a09-b5fc-7f662069c4f4",
   "metadata": {},
   "outputs": [],
   "source": [
    "strVector.push_back(\"good\");\n",
    "strVector.push_back(\"bye\");\n",
    "strVector.pop_back();\n",
    "strVector.pop_back();\n",
    "strVector.pop_back();"
   ]
  },
  {
   "cell_type": "code",
   "execution_count": 10,
   "id": "98ef554d-7da1-4da9-b049-9bde5a5392e0",
   "metadata": {
    "tags": []
   },
   "outputs": [
    {
     "name": "stdout",
     "output_type": "stream",
     "text": [
      "Hello\n",
      "how\n",
      "are\n",
      "size: 3\n",
      "capacity: 3\n"
     ]
    }
   ],
   "source": [
    "vectorFunc(strVector);"
   ]
  },
  {
   "cell_type": "code",
   "execution_count": 11,
   "id": "50e5b362-f5e7-4724-8f0b-07ee4406cba2",
   "metadata": {},
   "outputs": [],
   "source": [
    "/*Complete the following:\n",
    "noOdds() - given a vector<int>, increment each odd element in the vector\n",
    "expand() - given a vector<int> and an int n > vector.size(), expand the vector to size n and fill the new elements with the same value as the front(\n",
    ", increment each odd element in the vector\n",
    "expand() - given a vector<int> and an int n > vector.size(), \n",
    "expand the vector to size n and fill the new elements with the same value as the front()\n",
    "*/"
   ]
  },
  {
   "cell_type": "code",
   "execution_count": 12,
   "id": "f66455c0-91f3-4023-8047-6a7e3d73a6b7",
   "metadata": {
    "tags": []
   },
   "outputs": [],
   "source": [
    "void noOdds(vector<int> &vector){\n",
    "    for (int i = 0; i < vector.size(); i++){\n",
    "        if ((vector.at(i)%2) != 0){\n",
    "             vector.at(i)++;\n",
    "        }\n",
    "    }\n",
    "}"
   ]
  },
  {
   "cell_type": "code",
   "execution_count": 13,
   "id": "0c6d86c5-4ce1-4285-8bf4-9bb7965fcb5b",
   "metadata": {},
   "outputs": [],
   "source": [
    "void expand(vector<int> &vector, int n){\n",
    "    vector.resize(n,vector.at(0));\n",
    "}"
   ]
  },
  {
   "cell_type": "code",
   "execution_count": 14,
   "id": "68bbc00b-5b7b-4c84-b520-535ead4527fb",
   "metadata": {},
   "outputs": [
    {
     "data": {
      "text/plain": [
       "{ 2, 2, 4, 4, 6 }"
      ]
     },
     "execution_count": 14,
     "metadata": {},
     "output_type": "execute_result"
    }
   ],
   "source": [
    "vector<int> intVector {1,2,3,4,5};\n",
    "noOdds(intVector);\n",
    "intVector"
   ]
  },
  {
   "cell_type": "code",
   "execution_count": 15,
   "id": "224cefe0-ae9a-4a9a-92f6-e8471a61ff79",
   "metadata": {
    "tags": []
   },
   "outputs": [
    {
     "data": {
      "text/plain": [
       "{ 1, 2, 3, 4, 5, 1, 1 }"
      ]
     },
     "execution_count": 15,
     "metadata": {},
     "output_type": "execute_result"
    }
   ],
   "source": [
    "vector<int> intVector {1,2,3,4,5};\n",
    "expand(intVector, 7);\n",
    "intVector"
   ]
  },
  {
   "cell_type": "code",
   "execution_count": 16,
   "id": "5a6a1d20-dc40-49ce-a56d-538637112ebe",
   "metadata": {},
   "outputs": [],
   "source": [
    "/*Complete the following:\n",
    "onlyNums() - given a vector<string>, return a new vector that only contains the strings with a number in them\n",
    "delThree() - given a vector<string>, return a new vector with the same elements excluding the first three\n",
    "*/\n",
    "#include <vector>\n",
    "#include <iostream>\n",
    "using namespace std;"
   ]
  },
  {
   "cell_type": "code",
   "execution_count": 20,
   "id": "bacf7d83-5bb3-4fb1-9a8d-baf279fb0e32",
   "metadata": {},
   "outputs": [],
   "source": [
    "bool hasNum(string s){\n",
    "    for (int i = 0; i < s.length(); i++){\n",
    "        if (isdigit(s[i]))return true;\n",
    "    }\n",
    "    return false;\n",
    "}"
   ]
  },
  {
   "cell_type": "code",
   "execution_count": 18,
   "id": "2fdf458f-744c-4898-b81d-56e69e600b6b",
   "metadata": {
    "tags": []
   },
   "outputs": [
    {
     "name": "stderr",
     "output_type": "stream",
     "text": [
      "input_line_32:2:45: error: function definition is not allowed here\n",
      " vector<string> onlyNums(vector<string> vec){\n",
      "                                            ^\n"
     ]
    },
    {
     "ename": "Interpreter Error",
     "evalue": "",
     "output_type": "error",
     "traceback": [
      "Interpreter Error: "
     ]
    }
   ],
   "source": [
    "vector<string> onlyNums(vector<string> vec){\n",
    "    vector<string> vec2\n",
    "    for (int i = 0; i < vec.size(); i++){\n",
    "        if (hasNum(vec.at(i))){\n",
    "            vec2.push_back(vec.at(i));\n",
    "        }\n",
    "    }\n",
    "    return vec2;\n",
    "}"
   ]
  }
 ],
 "metadata": {
  "kernelspec": {
   "display_name": "C++11",
   "language": "C++11",
   "name": "xcpp11"
  },
  "language_info": {
   "codemirror_mode": "text/x-c++src",
   "file_extension": ".cpp",
   "mimetype": "text/x-c++src",
   "name": "c++",
   "version": "11"
  }
 },
 "nbformat": 4,
 "nbformat_minor": 5
}
