{
 "cells": [
  {
   "cell_type": "code",
   "execution_count": 1,
   "id": "972a27ee-7524-46d6-8159-6a53ceaa70ab",
   "metadata": {
    "tags": []
   },
   "outputs": [],
   "source": [
    "/*Write a for loop that uses an iterator to go through a vector starting at the beginning \n",
    "and erase the element pointed to by the iterator in each loop. \n",
    "Does this delete all of the elements?\n",
    "*/\n",
    "#include <vector>\n",
    "#include <iostream>\n",
    "using namespace std;"
   ]
  },
  {
   "cell_type": "code",
   "execution_count": 2,
   "id": "a35c4418-e19d-4f22-a3fd-308181fd2c8b",
   "metadata": {},
   "outputs": [
    {
     "data": {
      "text/plain": [
       "{}"
      ]
     },
     "execution_count": 2,
     "metadata": {},
     "output_type": "execute_result"
    }
   ],
   "source": [
    "vector<int> vec1 = {1,2,3,4,5};\n",
    "for(vector<int>::iterator iter = vec1.begin(); iter < vec1.end();){\n",
    "    vec1.erase(iter);\n",
    "}\n",
    "vec1"
   ]
  }
 ],
 "metadata": {
  "kernelspec": {
   "display_name": "C++11",
   "language": "C++11",
   "name": "xcpp11"
  },
  "language_info": {
   "codemirror_mode": "text/x-c++src",
   "file_extension": ".cpp",
   "mimetype": "text/x-c++src",
   "name": "c++",
   "version": "11"
  }
 },
 "nbformat": 4,
 "nbformat_minor": 5
}
