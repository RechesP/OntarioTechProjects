{
 "cells": [
  {
   "cell_type": "code",
   "execution_count": 1,
   "metadata": {},
   "outputs": [],
   "source": [
    "import numpy as np\n",
    "import pandas as pd\n",
    "\n",
    "d = pd.DataFrame({'Mon': [68, 89, np.nan], \n",
    "\n",
    " 'Wed': [71, 93, 48], \n",
    "\n",
    " 'Fri': [66, 82, 104],\n",
    "\n",
    " 'Tue': [75, 97, 43], \n",
    "\n",
    " 'Thu': [62, np.nan, 89]}, \n",
    "\n",
    " index = [\"day1\",\"day2\",\"day3\"]).T"
   ]
  },
  {
   "cell_type": "code",
   "execution_count": 2,
   "metadata": {},
   "outputs": [
    {
     "name": "stdout",
     "output_type": "stream",
     "text": [
      "      day3  day2  day1\n",
      "Mon    NaN  89.0  68.0\n",
      "Tue   43.0  97.0  75.0\n",
      "Wed   48.0  93.0  71.0\n",
      "Thu   89.0   NaN  62.0\n",
      "Fri  104.0  82.0  66.0\n",
      "Sat    NaN   NaN   NaN\n",
      "Sun    NaN   NaN   NaN\n"
     ]
    }
   ],
   "source": [
    "# 1. Reindex 'd' so row indices read chronologically, and include Sat and Sun. \n",
    "# That is, \"Mon\", \"Tue\", ..., \"Sat', \"Sun\", and the columns indices read day3, day2, day1. \n",
    "# Print d to the console.\n",
    "d = d.reindex(index=[\"Mon\",\"Tue\",\"Wed\",\"Thu\",\"Fri\",\"Sat\",\"Sun\"],columns = ['day3','day2','day1'])\n",
    "print(d)"
   ]
  },
  {
   "cell_type": "code",
   "execution_count": 3,
   "metadata": {},
   "outputs": [
    {
     "name": "stdout",
     "output_type": "stream",
     "text": [
      "     day3  day2\n",
      "Tue  43.0  97.0\n",
      "Thu  89.0   NaN\n"
     ]
    }
   ],
   "source": [
    "# 2. Print to the console the following elements: Tuesday and Thursday, for day3 and day2.\n",
    "print(d.loc[[\"Tue\",\"Thu\"],['day3','day2']])"
   ]
  },
  {
   "cell_type": "code",
   "execution_count": 4,
   "metadata": {},
   "outputs": [
    {
     "name": "stdout",
     "output_type": "stream",
     "text": [
      "Tue    71.667\n",
      "Wed    70.667\n",
      "Fri    84.000\n",
      "dtype: float64\n"
     ]
    }
   ],
   "source": [
    "# 3. Using only two lines of code: \n",
    "# A) Drop rows containing na’s\n",
    "# B) print the mean temperature for each day of the week to the console, rounding values to 3 decimal places.\n",
    "d = d.dropna()\n",
    "print(round(d.T.mean(),3))"
   ]
  },
  {
   "cell_type": "code",
   "execution_count": 5,
   "metadata": {},
   "outputs": [],
   "source": [
    "d = pd.read_csv('https://vincentarelbundock.github.io/Rdatasets/csv/ggplot2/mpg.csv')"
   ]
  },
  {
   "cell_type": "code",
   "execution_count": 6,
   "metadata": {},
   "outputs": [
    {
     "name": "stdout",
     "output_type": "stream",
     "text": [
      "class\n",
      "2seater       15.40\n",
      "compact       20.13\n",
      "midsize       18.76\n",
      "minivan       15.82\n",
      "pickup        13.00\n",
      "subcompact    20.37\n",
      "suv           13.50\n",
      "Name: cty, dtype: float64\n"
     ]
    }
   ],
   "source": [
    "# 4. Calculate the mean city (cty) mileage for each class of vehicle, \n",
    "# rounded to two decimal places, printing the result to the console.\n",
    "cls = d['cty'].groupby([d['class']])\n",
    "print(round(cls.mean(),2))"
   ]
  },
  {
   "cell_type": "code",
   "execution_count": 7,
   "metadata": {},
   "outputs": [
    {
     "data": {
      "text/html": [
       "<div>\n",
       "<style scoped>\n",
       "    .dataframe tbody tr th:only-of-type {\n",
       "        vertical-align: middle;\n",
       "    }\n",
       "\n",
       "    .dataframe tbody tr th {\n",
       "        vertical-align: top;\n",
       "    }\n",
       "\n",
       "    .dataframe thead th {\n",
       "        text-align: right;\n",
       "    }\n",
       "</style>\n",
       "<table border=\"1\" class=\"dataframe\">\n",
       "  <thead>\n",
       "    <tr style=\"text-align: right;\">\n",
       "      <th>drv</th>\n",
       "      <th>4</th>\n",
       "      <th>f</th>\n",
       "      <th>r</th>\n",
       "    </tr>\n",
       "    <tr>\n",
       "      <th>cyl</th>\n",
       "      <th></th>\n",
       "      <th></th>\n",
       "      <th></th>\n",
       "    </tr>\n",
       "  </thead>\n",
       "  <tbody>\n",
       "    <tr>\n",
       "      <th>4</th>\n",
       "      <td>23.0</td>\n",
       "      <td>58.0</td>\n",
       "      <td>NaN</td>\n",
       "    </tr>\n",
       "    <tr>\n",
       "      <th>5</th>\n",
       "      <td>NaN</td>\n",
       "      <td>4.0</td>\n",
       "      <td>NaN</td>\n",
       "    </tr>\n",
       "    <tr>\n",
       "      <th>6</th>\n",
       "      <td>32.0</td>\n",
       "      <td>43.0</td>\n",
       "      <td>4.0</td>\n",
       "    </tr>\n",
       "    <tr>\n",
       "      <th>8</th>\n",
       "      <td>48.0</td>\n",
       "      <td>1.0</td>\n",
       "      <td>21.0</td>\n",
       "    </tr>\n",
       "  </tbody>\n",
       "</table>\n",
       "</div>"
      ],
      "text/plain": [
       "drv     4     f     r\n",
       "cyl                  \n",
       "4    23.0  58.0   NaN\n",
       "5     NaN   4.0   NaN\n",
       "6    32.0  43.0   4.0\n",
       "8    48.0   1.0  21.0"
      ]
     },
     "metadata": {},
     "output_type": "display_data"
    }
   ],
   "source": [
    "# 5. Group 'd' by cylinders (cyl) and type of drive train (drv). \n",
    "# Calculate the number of models per group. \n",
    "# Convert the result into a DataFrame, and print to the console\n",
    "cyldrv = d['cyl'].groupby([d['cyl'],d['drv']]).count()\n",
    "display(cyldrv.unstack())"
   ]
  }
 ],
 "metadata": {
  "kernelspec": {
   "display_name": "numpy",
   "language": "python",
   "name": "numpy"
  },
  "language_info": {
   "codemirror_mode": {
    "name": "ipython",
    "version": 3
   },
   "file_extension": ".py",
   "mimetype": "text/x-python",
   "name": "python",
   "nbconvert_exporter": "python",
   "pygments_lexer": "ipython3",
   "version": "3.11.4"
  }
 },
 "nbformat": 4,
 "nbformat_minor": 2
}
