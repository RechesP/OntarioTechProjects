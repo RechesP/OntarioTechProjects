{
 "cells": [
  {
   "cell_type": "code",
   "execution_count": 15,
   "metadata": {},
   "outputs": [
    {
     "name": "stdout",
     "output_type": "stream",
     "text": [
      "c:\\Users\\reche\\OneDrive\\Documents\\School\\2024 3 - Fall\\CSCI 2000\\Worksheets\n"
     ]
    }
   ],
   "source": [
    "# 1. Print your current working directory to the console\n",
    "import os\n",
    "import numpy as np\n",
    "print(os.getcwd())"
   ]
  },
  {
   "cell_type": "code",
   "execution_count": 16,
   "metadata": {},
   "outputs": [],
   "source": [
    "# 2. Create 'd', a nested list that contains 5 other lists. \n",
    "# The first list should contain the four string values: ID, Age, is_part_time, salary. \n",
    "# The next 4 lists should contain date of types: int, int, boolean, int. \n",
    "# For example [3, 35, False, 72000]. \n",
    "# Populate these 4 remaining lists with your own made-up data.\n",
    "d = [['ID', 'Age', 'is_part_time', 'salary'],[47,25,True,35000],[68,39,False,90000],[52,67,True,50000],[98,49,False,100000]]"
   ]
  },
  {
   "cell_type": "code",
   "execution_count": 17,
   "metadata": {},
   "outputs": [],
   "source": [
    "# 3. Using Python's csv module, write 'd' to disk as ‘data.csv’. \n",
    "# Use the method writerows() to write the nested list structure.\n",
    "import csv\n",
    "with open('data.csv', mode='w', newline='') as emp_file:\n",
    "    writer = csv.writer(emp_file)\n",
    "    writer.writerows(d)"
   ]
  },
  {
   "cell_type": "code",
   "execution_count": 18,
   "metadata": {},
   "outputs": [
    {
     "name": "stdout",
     "output_type": "stream",
     "text": [
      "   ID  Age  is_part_time  salary\n",
      "0  47   25          True   35000\n",
      "1  68   39         False   90000\n",
      "2  52   67          True   50000\n",
      "3  98   49         False  100000\n"
     ]
    }
   ],
   "source": [
    "# 4. Using pandas, module, load the same csv file into 'd2', and print d2.\n",
    "import pandas as pd\n",
    "d2 = pd.read_csv('data.csv')\n",
    "print(d2)"
   ]
  },
  {
   "cell_type": "code",
   "execution_count": 19,
   "metadata": {},
   "outputs": [],
   "source": [
    "# 5. Create a Series 'd' containing 5 values, 0 through 4 inclusive, in increments of 1, with indexes 'a' through 'e', inclusive.\n",
    "d = pd.Series([0,1,2,3,4], index=['a','b','c','d','e'])"
   ]
  },
  {
   "cell_type": "code",
   "execution_count": 20,
   "metadata": {},
   "outputs": [],
   "source": [
    "# 6. Create a 'd2' containing 5 values, 5 through 9 inclusive, with indexes: a,b,c,d,z.\n",
    "d2 = pd.Series([5,6,7,8,9], index=['a','b','c','d','z'])"
   ]
  },
  {
   "cell_type": "code",
   "execution_count": 21,
   "metadata": {},
   "outputs": [
    {
     "name": "stdout",
     "output_type": "stream",
     "text": [
      "a     5.0\n",
      "b     7.0\n",
      "c     9.0\n",
      "d    11.0\n",
      "e     NaN\n",
      "z     NaN\n",
      "dtype: float64\n"
     ]
    }
   ],
   "source": [
    "# 7. Arithmetically add d and d2, save in 'd3', and print d3 to console. You should see two NaN values at the end of d3.\n",
    "d3 = d + d2\n",
    "print(d3)"
   ]
  },
  {
   "cell_type": "code",
   "execution_count": 22,
   "metadata": {},
   "outputs": [
    {
     "name": "stdout",
     "output_type": "stream",
     "text": [
      "e   NaN\n",
      "z   NaN\n",
      "dtype: float64\n"
     ]
    }
   ],
   "source": [
    "# 8. Using a Panda's method, identify which values in d3 contain NaN. \n",
    "# Using that information, print only those NaN values in d3 to console.\n",
    "pd.isna(d3)\n",
    "print(d3.loc[pd.isna(d3)])"
   ]
  },
  {
   "cell_type": "code",
   "execution_count": 23,
   "metadata": {},
   "outputs": [],
   "source": [
    "# Create a dictionary with the following code:\n",
    "d4 = {'A': np.random.randint(low=1, high=100, size=10), 'B': np.random.normal(loc=0, scale=1, size=10)}"
   ]
  },
  {
   "cell_type": "code",
   "execution_count": 24,
   "metadata": {},
   "outputs": [
    {
     "name": "stdout",
     "output_type": "stream",
     "text": [
      "    A         B\n",
      "0  26  0.529812\n",
      "1  98  0.592850\n",
      "2  85  0.740597\n",
      "3  64  0.873906\n",
      "4  39 -0.505901\n",
      "5  34 -1.751647\n",
      "6  74  0.151009\n",
      "7  33  0.593070\n",
      "8   5 -0.243795\n",
      "9  73  1.869348\n"
     ]
    }
   ],
   "source": [
    "# 9. Convert d4 into a DataFrame and print d4 to console. \n",
    "# Determine which elements in column 'A' are greater than 50 and store the result in a new column in d4 called 'greater'.\n",
    "d4 = pd.DataFrame(d4)\n",
    "print(d4)\n",
    "d4[\"greater\"] = d4['A'] > 50"
   ]
  },
  {
   "cell_type": "code",
   "execution_count": 25,
   "metadata": {},
   "outputs": [
    {
     "name": "stdout",
     "output_type": "stream",
     "text": [
      "    A         B  greater\n",
      "1  98  0.592850     True\n",
      "2  85  0.740597     True\n",
      "3  64  0.873906     True\n",
      "6  74  0.151009     True\n",
      "9  73  1.869348     True\n"
     ]
    }
   ],
   "source": [
    "# 10. Using Boolean indexing, print only the rows in d4 where the Greater condition is True.\n",
    "print(d4[d4['greater'] == True])"
   ]
  }
 ],
 "metadata": {
  "kernelspec": {
   "display_name": "numpy",
   "language": "python",
   "name": "numpy"
  },
  "language_info": {
   "codemirror_mode": {
    "name": "ipython",
    "version": 3
   },
   "file_extension": ".py",
   "mimetype": "text/x-python",
   "name": "python",
   "nbconvert_exporter": "python",
   "pygments_lexer": "ipython3",
   "version": "3.11.4"
  }
 },
 "nbformat": 4,
 "nbformat_minor": 2
}
