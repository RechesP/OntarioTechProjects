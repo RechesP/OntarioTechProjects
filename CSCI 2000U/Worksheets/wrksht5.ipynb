{
 "cells": [
  {
   "cell_type": "markdown",
   "metadata": {},
   "source": [
    "Worksheet 5"
   ]
  },
  {
   "cell_type": "markdown",
   "metadata": {
    "slideshow": {
     "slide_type": "subslide"
    }
   },
   "source": [
    "\n",
    "This worksheet covers L13. Use numpy array syntax only; do not use for loops."
   ]
  },
  {
   "cell_type": "code",
   "execution_count": 1,
   "metadata": {},
   "outputs": [],
   "source": [
    "# 1. Using the function arange, create an array of 10 integers 'd' from -20 to 25 (inclusive), in steps of 5.\n",
    "import numpy as np\n",
    "d = np.arange(start=-20, stop=26, step=5)"
   ]
  },
  {
   "cell_type": "code",
   "execution_count": 2,
   "metadata": {},
   "outputs": [],
   "source": [
    "# 2. Multiply all values in d by 10, storing the result in d2.\n",
    "d2 = d*10"
   ]
  },
  {
   "cell_type": "code",
   "execution_count": 3,
   "metadata": {},
   "outputs": [
    {
     "name": "stdout",
     "output_type": "stream",
     "text": [
      "[-220 -165 -110  -55    0   55  110  165  220  275]\n"
     ]
    }
   ],
   "source": [
    "# 3. Add the values stored in d and d2, element-wise, printing the result to the console\n",
    "print(d+d2)"
   ]
  },
  {
   "cell_type": "code",
   "execution_count": 4,
   "metadata": {},
   "outputs": [],
   "source": [
    "# 4. Resize (not reshape) d2 into a 5x2 array.\n",
    "d2.resize(5,2)"
   ]
  },
  {
   "cell_type": "code",
   "execution_count": 5,
   "metadata": {},
   "outputs": [],
   "source": [
    "# 5. Create an array d3, containing the integers 1,2,3,4,5.\n",
    "d3 = np.array([1,2,3,4,5])"
   ]
  },
  {
   "cell_type": "code",
   "execution_count": 6,
   "metadata": {},
   "outputs": [
    {
     "name": "stdout",
     "output_type": "stream",
     "text": [
      "[[-200 -150]\n",
      " [-200 -100]\n",
      " [   0  150]\n",
      " [ 400  600]\n",
      " [1000 1250]]\n"
     ]
    }
   ],
   "source": [
    "# 6. Reshape d3 into the necessary shape such that d2*d3 succeeds (hint: broadcasting). \n",
    "# Save the result of d2*d3 into d4 and print d4 to the console.\n",
    "d3 = np.reshape(d3,(5,1))\n",
    "d4 = d2*d3\n",
    "print(d4)"
   ]
  },
  {
   "cell_type": "code",
   "execution_count": 7,
   "metadata": {},
   "outputs": [
    {
     "name": "stdout",
     "output_type": "stream",
     "text": [
      "[[-200 -150]\n",
      " [   0  150]\n",
      " [1000 1250]]\n"
     ]
    }
   ],
   "source": [
    "# 7. In a single line of code, print to the console the 1st, 3rd and 5th rows, both columns, of d4.\n",
    "print(d4[[0,2,4],:]) "
   ]
  },
  {
   "cell_type": "code",
   "execution_count": 8,
   "metadata": {},
   "outputs": [
    {
     "name": "stdout",
     "output_type": "stream",
     "text": [
      "d4 id: 2941428326320 = d5 id: 2941428327088?\tFalse\n"
     ]
    }
   ],
   "source": [
    "# 8. Create a deep copy of d4, storing in d5. \n",
    "# Print a comparison of d4 and d5 object IDs to show the two are not equal.\n",
    "d5 = d4.copy()\n",
    "print(f\"d4 id: {id(d4)} = d5 id: {id(d5)}?\\t{id(d4) == id(d5)}\")"
   ]
  },
  {
   "cell_type": "code",
   "execution_count": 9,
   "metadata": {},
   "outputs": [],
   "source": [
    "# 9. Resize (not reshape) d4 into a 2x5 array.\n",
    "d4.resize(2,5)"
   ]
  },
  {
   "cell_type": "code",
   "execution_count": 10,
   "metadata": {},
   "outputs": [
    {
     "name": "stdout",
     "output_type": "stream",
     "text": [
      "[-200 -150 -200 -100    0  150  400  600 1000 1250] \n",
      "__________\n",
      "\n",
      "[[-200 -150]\n",
      " [-200 -100]\n",
      " [   0  150]\n",
      " [ 400  600]\n",
      " [1000 1250]]\n"
     ]
    }
   ],
   "source": [
    "# 10. Flatten (not reshape) d4 back into a 10x1 array. \n",
    "# Print the result to the console. Your output should match: [-200 -150 -200 -100 0 150 400 600 1000 1250]. \n",
    "# Next, print d5 to the console. The shapes of the two arrays should be different\n",
    "d4 = d4.flatten()\n",
    "print(d4,\"\\n__________\\n\")\n",
    "print(d5)"
   ]
  }
 ],
 "metadata": {
  "kernelspec": {
   "display_name": "numpy",
   "language": "python",
   "name": "numpy"
  },
  "language_info": {
   "codemirror_mode": {
    "name": "ipython",
    "version": 3
   },
   "file_extension": ".py",
   "mimetype": "text/x-python",
   "name": "python",
   "nbconvert_exporter": "python",
   "pygments_lexer": "ipython3",
   "version": "3.11.4"
  }
 },
 "nbformat": 4,
 "nbformat_minor": 2
}
