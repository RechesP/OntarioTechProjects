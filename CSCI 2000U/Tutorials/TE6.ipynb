{
 "cells": [
  {
   "cell_type": "code",
   "execution_count": 21,
   "metadata": {},
   "outputs": [
    {
     "name": "stdout",
     "output_type": "stream",
     "text": [
      "apple\n",
      "elderberry\n",
      "['banana', 'cherry']\n",
      "['apple', 'blueberry', 'cherry', 'date', 'elderberry']\n",
      "['apple', 'blueberry', 'cherry', 'date']\n",
      "['apple', 'blueberry', 'cherry', 'date', 'fig']\n"
     ]
    }
   ],
   "source": [
    "fruits =  ['apple', 'banana', 'cherry', 'date', 'elderberry']\n",
    "print(fruits[0])\n",
    "print(fruits[len(fruits)-1])\n",
    "print(fruits[1:3])\n",
    "fruits[1] = 'blueberry'\n",
    "print(fruits)\n",
    "fruits.pop()\n",
    "print(fruits)\n",
    "fruits.append('fig')\n",
    "print(fruits)"
   ]
  },
  {
   "cell_type": "code",
   "execution_count": 22,
   "metadata": {},
   "outputs": [
    {
     "name": "stdout",
     "output_type": "stream",
     "text": [
      "[1, 2, 3, 4, 5, 6]\n",
      "[1, 2, 3, 1, 2, 3, 1, 2, 3]\n",
      "1\n"
     ]
    }
   ],
   "source": [
    "list1 = [1,2,3]\n",
    "list2 = [4,5,6]\n",
    "print(list1 + list2)\n",
    "print(list1*3)\n",
    "print(list2.index(5))"
   ]
  },
  {
   "cell_type": "code",
   "execution_count": 23,
   "metadata": {},
   "outputs": [
    {
     "name": "stdout",
     "output_type": "stream",
     "text": [
      "[1, 2, 5, 5, 6, 9]\n",
      "[9, 6, 5, 5, 2, 1]\n"
     ]
    }
   ],
   "source": [
    "numbers = [5, 2, 9, 1, 5, 6]\n",
    "numbers.sort()\n",
    "print(numbers)\n",
    "numbers.sort(reverse=True)\n",
    "print(numbers)"
   ]
  },
  {
   "cell_type": "code",
   "execution_count": 24,
   "metadata": {},
   "outputs": [
    {
     "name": "stdout",
     "output_type": "stream",
     "text": [
      "['apple', 'banana', 'cherry', 'date']\n",
      "['date', 'cherry', 'banana', 'apple']\n"
     ]
    }
   ],
   "source": [
    "words = ['banana', 'apple', 'cherry', 'date']\n",
    "words.sort()\n",
    "print(words)\n",
    "words.reverse()\n",
    "print(words)"
   ]
  },
  {
   "cell_type": "code",
   "execution_count": 25,
   "metadata": {},
   "outputs": [
    {
     "name": "stdout",
     "output_type": "stream",
     "text": [
      "['apple', 'cherry', 'date']\n",
      "['apple', 'cherry']\n",
      "[]\n"
     ]
    }
   ],
   "source": [
    "fruits = ['apple', 'banana', 'cherry', 'date']\n",
    "fruits.remove('banana')\n",
    "print(fruits)\n",
    "fruits.pop()\n",
    "print(fruits)\n",
    "fruits.clear()\n",
    "print(fruits)"
   ]
  },
  {
   "cell_type": "code",
   "execution_count": 26,
   "metadata": {},
   "outputs": [
    {
     "name": "stdout",
     "output_type": "stream",
     "text": [
      "20\n",
      "(20, 30, 40)\n",
      "2\n"
     ]
    }
   ],
   "source": [
    "numbers = (10, 20, 30, 40, 50)\n",
    "print(numbers[1])\n",
    "print(numbers[1:4])\n",
    "print(numbers.index(30))"
   ]
  },
  {
   "cell_type": "code",
   "execution_count": 28,
   "metadata": {},
   "outputs": [
    {
     "name": "stdout",
     "output_type": "stream",
     "text": [
      "{1, 2, 3, 4, 5, 6, 7, 8}\n",
      "{4, 5}\n",
      "{1, 2, 3}\n",
      "False\n"
     ]
    }
   ],
   "source": [
    "set_a = {1, 2, 3, 4, 5}\n",
    "set_b = {4, 5, 6, 7, 8}\n",
    "print(set_a.union(set_b))\n",
    "print(set_a.intersection(set_b))\n",
    "print(set_a.difference(set_b))\n",
    "print(set_a.issubset(set_b))"
   ]
  },
  {
   "cell_type": "code",
   "execution_count": 29,
   "metadata": {},
   "outputs": [
    {
     "name": "stdout",
     "output_type": "stream",
     "text": [
      "{'name': 'Alice', 'age': 24, 'grade': 'A'}\n",
      "Alice\n",
      "{'name': 'Alice', 'age': 24, 'grade': 'A', 'major': 'Computer Science'}\n",
      "{'name': 'Alice', 'age': 24, 'grade': 'A+', 'major': 'Computer Science'}\n",
      "{'name': 'Alice', 'grade': 'A+', 'major': 'Computer Science'}\n"
     ]
    }
   ],
   "source": [
    "student = {'name' : 'Alice', 'age' : 24, 'grade' : 'A'}\n",
    "print(student)\n",
    "print(student['name'])\n",
    "student['major'] = 'Computer Science'\n",
    "print(student)\n",
    "student['grade'] = 'A+'\n",
    "print(student)\n",
    "del student['age']\n",
    "print(student)"
   ]
  },
  {
   "cell_type": "code",
   "execution_count": 31,
   "metadata": {},
   "outputs": [
    {
     "name": "stdout",
     "output_type": "stream",
     "text": [
      "apple 0.5\n",
      "banana 0.3\n",
      "cherry 1.0\n",
      "date 1.5\n",
      "Total 3.3\n"
     ]
    }
   ],
   "source": [
    "prices = {'apple': 0.50, 'banana': 0.30, 'cherry': 1.00, 'date': 1.50}\n",
    "sum = 0\n",
    "for k,v in prices.items():\n",
    "    print(k,v)\n",
    "    sum = sum+v\n",
    "print(f\"Total {sum}\")"
   ]
  },
  {
   "cell_type": "code",
   "execution_count": 33,
   "metadata": {},
   "outputs": [
    {
     "name": "stdout",
     "output_type": "stream",
     "text": [
      "Alice 85\n",
      "Bob 92\n",
      "Charlie 78\n",
      "David 90\n",
      "\n",
      "David 90\n",
      "Charlie 78\n",
      "Bob 92\n",
      "Alice 85\n"
     ]
    }
   ],
   "source": [
    "students = {'Alice': 85, 'Bob': 92, 'Charlie': 78, 'David': 90}\n",
    "for k,v in sorted(students.items()):\n",
    "    print(k,v)\n",
    "print()\n",
    "for k,v in sorted(students.items(), reverse=True):\n",
    "    print(k,v)"
   ]
  }
 ],
 "metadata": {
  "kernelspec": {
   "display_name": "numpy",
   "language": "python",
   "name": "numpy"
  },
  "language_info": {
   "codemirror_mode": {
    "name": "ipython",
    "version": 3
   },
   "file_extension": ".py",
   "mimetype": "text/x-python",
   "name": "python",
   "nbconvert_exporter": "python",
   "pygments_lexer": "ipython3",
   "version": "3.11.4"
  }
 },
 "nbformat": 4,
 "nbformat_minor": 2
}
