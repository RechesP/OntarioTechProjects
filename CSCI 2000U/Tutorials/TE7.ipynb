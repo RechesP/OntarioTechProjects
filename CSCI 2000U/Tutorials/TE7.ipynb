{
 "cells": [
  {
   "cell_type": "code",
   "execution_count": 1,
   "metadata": {},
   "outputs": [
    {
     "name": "stdout",
     "output_type": "stream",
     "text": [
      "[[0.87822398 0.01723547 0.96328283 0.16954031 0.81349307]\n",
      " [0.98386301 0.09728886 0.60611149 0.15276771 0.81101434]\n",
      " [0.61141851 0.98521829 0.96819731 0.58722265 0.29703408]\n",
      " [0.00977116 0.21704314 0.65315908 0.57198788 0.82991907]\n",
      " [0.58015781 0.12897566 0.89425463 0.71351642 0.22471522]]\n",
      "Mean: 0.5506164788990834\n"
     ]
    }
   ],
   "source": [
    "# Generate a 5x5 array with random values between 0 and 1 and calculate the mean of the array\n",
    "import numpy as np\n",
    "from numpy import random\n",
    "ra1 = np.random.rand(5,5)\n",
    "print(ra1)\n",
    "print(f\"Mean: {ra1.mean()}\")"
   ]
  },
  {
   "cell_type": "code",
   "execution_count": 2,
   "metadata": {},
   "outputs": [
    {
     "data": {
      "text/plain": [
       "array([[0.57822078, 0.13527759, 0.00297718, 0.70995166, 0.55701385,\n",
       "        0.27836099, 0.57816682, 0.77405876, 0.0368219 , 0.47191992,\n",
       "        0.40405044, 0.66314845, 0.68985548, 0.58977383, 0.74132722,\n",
       "        0.41853626, 0.66663026, 0.44592582, 0.23122306, 0.62668151],\n",
       "       [0.89569863, 0.07593886, 0.01547361, 0.74470403, 0.67338094,\n",
       "        0.50614858, 0.34903837, 0.35940727, 0.31149513, 0.45249334,\n",
       "        0.45254376, 0.08350295, 0.16685072, 0.16653389, 0.69452249,\n",
       "        0.13472852, 0.61513482, 0.7122658 , 0.85192224, 0.41438926],\n",
       "       [0.18411662, 0.25689293, 0.06659029, 0.64080088, 0.51479859,\n",
       "        0.99643291, 0.67316856, 0.14417728, 0.21330963, 0.65498403,\n",
       "        0.31545386, 0.60660632, 0.38050917, 0.4915373 , 0.11873789,\n",
       "        0.0112094 , 0.37205325, 0.94476649, 0.63091497, 0.14220029],\n",
       "       [0.17245876, 0.85951627, 0.58832829, 0.05775288, 0.50982605,\n",
       "        0.18100986, 0.95369187, 0.32515976, 0.85692184, 0.46432051,\n",
       "        0.48391567, 0.2920804 , 0.12790106, 0.57445111, 0.2841871 ,\n",
       "        0.18480259, 0.57317185, 0.37951306, 0.63651553, 0.98162692],\n",
       "       [0.77886706, 0.37721452, 0.80344446, 0.23382161, 0.75886152,\n",
       "        0.25147305, 0.66196594, 0.13968735, 0.80402044, 0.70067473,\n",
       "        0.02310468, 0.44942632, 0.36825921, 0.72673157, 0.13248312,\n",
       "        0.59129508, 0.48654218, 0.77744627, 0.32357104, 0.20750273]])"
      ]
     },
     "execution_count": 2,
     "metadata": {},
     "output_type": "execute_result"
    }
   ],
   "source": [
    "# Generate a one-dimensional array with 100 random numbers and reshape it into a 5x20 matrix.\n",
    "np.random.rand(100).reshape(5,20)"
   ]
  },
  {
   "cell_type": "code",
   "execution_count": 3,
   "metadata": {},
   "outputs": [
    {
     "data": {
      "text/plain": [
       "array([[0, 0, 0, 0],\n",
       "       [0, 0, 0, 0],\n",
       "       [0, 0, 0, 0],\n",
       "       [0, 0, 0, 0]])"
      ]
     },
     "execution_count": 3,
     "metadata": {},
     "output_type": "execute_result"
    }
   ],
   "source": [
    "# Create a 4x4 array filled with zeros.\n",
    "np.full((4,4), 0)"
   ]
  },
  {
   "cell_type": "code",
   "execution_count": 4,
   "metadata": {},
   "outputs": [
    {
     "data": {
      "text/plain": [
       "array([ 2,  4,  6,  8, 10, 12, 14, 16, 18, 20])"
      ]
     },
     "execution_count": 4,
     "metadata": {},
     "output_type": "execute_result"
    }
   ],
   "source": [
    "# Generate a 1-dimensional array containing even numbers from 2 to 20.\n",
    "np.arange(start=2, stop=21, step=2)"
   ]
  },
  {
   "cell_type": "code",
   "execution_count": 5,
   "metadata": {},
   "outputs": [
    {
     "data": {
      "text/plain": [
       "array([[0., 1., 2.],\n",
       "       [3., 4., 5.],\n",
       "       [6., 7., 8.]])"
      ]
     },
     "execution_count": 5,
     "metadata": {},
     "output_type": "execute_result"
    }
   ],
   "source": [
    "# Create a 3x3 matrix where the values range from 0 to 8.\n",
    "np.linspace(start=0, stop=8, num=9).reshape(3,3)"
   ]
  },
  {
   "cell_type": "code",
   "execution_count": 7,
   "metadata": {},
   "outputs": [
    {
     "name": "stdout",
     "output_type": "stream",
     "text": [
      "Column sum: [3.06343446 1.44576141 4.08500534 2.19503497 2.97617579]\n"
     ]
    }
   ],
   "source": [
    "# Calculate the sum of elements in each column of the array in question 1\n",
    "print(f\"Column sum: {ra1.sum(axis=0)}\")"
   ]
  },
  {
   "cell_type": "code",
   "execution_count": 8,
   "metadata": {},
   "outputs": [
    {
     "data": {
      "text/plain": [
       "32"
      ]
     },
     "execution_count": 8,
     "metadata": {},
     "output_type": "execute_result"
    }
   ],
   "source": [
    "# Given two vectors, calculate their dot product.\n",
    "vec1 = np.array([1, 2, 3]) \n",
    "vec2 = np.array([4, 5, 6])\n",
    "np.dot(vec1, vec2)"
   ]
  },
  {
   "cell_type": "code",
   "execution_count": 9,
   "metadata": {},
   "outputs": [
    {
     "data": {
      "text/plain": [
       "0.3318834923075939"
      ]
     },
     "execution_count": 9,
     "metadata": {},
     "output_type": "execute_result"
    }
   ],
   "source": [
    "# Calculate the standard deviation of the elements of the array in question 1.\n",
    "ra1.std()"
   ]
  },
  {
   "cell_type": "code",
   "execution_count": 11,
   "metadata": {},
   "outputs": [
    {
     "data": {
      "text/plain": [
       "array([[ 2,  4,  6],\n",
       "       [ 5,  7,  9],\n",
       "       [ 8, 10, 12]])"
      ]
     },
     "execution_count": 11,
     "metadata": {},
     "output_type": "execute_result"
    }
   ],
   "source": [
    "# Given a 2D array matrix and a 1D array vec, use broadcasting to add the elements of vec to each row of matrix.\n",
    "matrix = np.array([[1, 2, 3], [4, 5, 6], [7, 8, 9]])\n",
    "vec = np.array([1, 2, 3])\n",
    "matrix + vec"
   ]
  },
  {
   "cell_type": "code",
   "execution_count": 12,
   "metadata": {},
   "outputs": [
    {
     "data": {
      "text/plain": [
       "array([[ 1,  4,  9],\n",
       "       [ 4, 10, 18],\n",
       "       [ 7, 16, 27]])"
      ]
     },
     "execution_count": 12,
     "metadata": {},
     "output_type": "execute_result"
    }
   ],
   "source": [
    "# Multiply each column of the 3x3 matrix by a given vector, using broadcasting.\n",
    "matrix = np.array([[1, 2, 3], [4, 5, 6], [7, 8, 9]])\n",
    "vec = np.array([1, 2, 3])\n",
    "matrix * vec"
   ]
  }
 ],
 "metadata": {
  "kernelspec": {
   "display_name": "numpy",
   "language": "python",
   "name": "numpy"
  },
  "language_info": {
   "codemirror_mode": {
    "name": "ipython",
    "version": 3
   },
   "file_extension": ".py",
   "mimetype": "text/x-python",
   "name": "python",
   "nbconvert_exporter": "python",
   "pygments_lexer": "ipython3",
   "version": "3.11.4"
  }
 },
 "nbformat": 4,
 "nbformat_minor": 2
}
