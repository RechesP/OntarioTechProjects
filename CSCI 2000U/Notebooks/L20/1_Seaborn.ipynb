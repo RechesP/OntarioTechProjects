{
 "cells": [
  {
   "cell_type": "markdown",
   "metadata": {},
   "source": [
    "## Lecture 21. Data visualisation with Seaboarn"
   ]
  },
  {
   "cell_type": "markdown",
   "metadata": {},
   "source": [
    "**1. Groupby**"
   ]
  },
  {
   "cell_type": "code",
   "execution_count": 1,
   "metadata": {},
   "outputs": [],
   "source": [
    "import numpy as np\n",
    "import pandas as pd\n",
    "import seaborn as sns\n",
    "from IPython.display import display"
   ]
  },
  {
   "cell_type": "code",
   "execution_count": null,
   "metadata": {},
   "outputs": [],
   "source": [
    "df = pd.DataFrame({\"key1\" : [\"a\", \"a\", None, \"b\", \"b\", \"a\", None],\n",
    "                   \"key2\" : pd.Series([1, 2, 1, 2, 1, None, 1]),\n",
    "                   \"data1\" : np.random.standard_normal(7),\n",
    "                   \"data2\" : np.random.standard_normal(7)})\n",
    "\n",
    "# Calculate mean of all columns, grouped by key1\n",
    "df.groupby('key1').mean()"
   ]
  },
  {
   "cell_type": "code",
   "execution_count": null,
   "metadata": {},
   "outputs": [],
   "source": [
    "# Calculate mean of all columns, grouped by key1\n",
    "df.groupby('key1').mean()"
   ]
  },
  {
   "cell_type": "code",
   "execution_count": null,
   "metadata": {},
   "outputs": [],
   "source": [
    "df.head()"
   ]
  },
  {
   "cell_type": "code",
   "execution_count": null,
   "metadata": {},
   "outputs": [],
   "source": [
    "# Class question\n",
    "df.groupby(\"key2\").mean()"
   ]
  },
  {
   "cell_type": "code",
   "execution_count": null,
   "metadata": {},
   "outputs": [],
   "source": [
    "# Number of instances per group\n",
    "#display(df)\n",
    "display(df.groupby('key1').size())\n",
    "display(df.groupby(['key1','key2']).size())"
   ]
  },
  {
   "cell_type": "code",
   "execution_count": null,
   "metadata": {},
   "outputs": [],
   "source": [
    "# Apply mean to all numeric columns\n",
    "display(df.groupby(\"key1\").mean())\n",
    "# Selecting columns\n",
    "d = df.groupby(\"key1\")[\"data1\"].mean()\n",
    "display(d)\n",
    "print(type(d))\n",
    "# Equivalent syntax\n",
    "display(df[\"data1\"].groupby(df[\"key1\"]).mean())"
   ]
  },
  {
   "cell_type": "code",
   "execution_count": null,
   "metadata": {},
   "outputs": [],
   "source": [
    "# Return column as a DF object\n",
    "d = df[[\"data1\"]]\n",
    "display(d)\n",
    "type(d)"
   ]
  },
  {
   "cell_type": "code",
   "execution_count": null,
   "metadata": {},
   "outputs": [],
   "source": [
    "df.groupby(\"key1\")[[\"data2\"]].mean()\n",
    "# Equivalent syntax\n",
    "df[[\"data2\"]].groupby(df[\"key2\"]).mean()"
   ]
  },
  {
   "cell_type": "code",
   "execution_count": null,
   "metadata": {},
   "outputs": [],
   "source": [
    "people = pd.DataFrame(np.random.standard_normal((5, 5)),\n",
    "                      columns=[\"a\", \"b\", \"c\", \"d\", \"e\"],\n",
    "                      index=[\"Joe\", \"Steve\", \"Wanda\", \"Jill\", \"Trey\"])\n",
    "display(people)"
   ]
  },
  {
   "cell_type": "markdown",
   "metadata": {},
   "source": [
    "**3. Seaborn**"
   ]
  },
  {
   "cell_type": "code",
   "execution_count": null,
   "metadata": {},
   "outputs": [],
   "source": [
    "# Load mpg dataset\n",
    "d = pd.read_csv('https://vincentarelbundock.github.io/Rdatasets/csv/ggplot2/mpg.csv')\n",
    "d.head()"
   ]
  },
  {
   "cell_type": "code",
   "execution_count": null,
   "metadata": {},
   "outputs": [],
   "source": [
    "# Count plot of car drivetrains\n",
    "p = sns.countplot(x = 'drv', data = d)\n",
    "# Add a title, and label axes\n",
    "p = p.set(title=\"Countplot of drivetrains\", xlabel='Drivetrain', ylabel='Frequency')"
   ]
  },
  {
   "cell_type": "code",
   "execution_count": null,
   "metadata": {},
   "outputs": [],
   "source": [
    "# Countplot with class and drivetrain\n",
    "p = sns.countplot(x = 'drv', hue = 'class', data = d).set(title=\"Drivetrains\", xlabel='Drivetrain', ylabel='Frequency')"
   ]
  },
  {
   "cell_type": "code",
   "execution_count": null,
   "metadata": {},
   "outputs": [],
   "source": [
    "# Set colour palette\n",
    "p = sns.countplot(x = 'drv', data = d, hue = 'drv', palette=\"Set1\")\n",
    "p = p.set(title=\"Drivetrains frequency\", xlabel='Drivetrain', ylabel='Frequency')"
   ]
  },
  {
   "cell_type": "code",
   "execution_count": null,
   "metadata": {},
   "outputs": [],
   "source": [
    "# Set bar fill and edge colours\n",
    "p = sns.countplot(x = 'drv', data = d, color=\"lightblue\", edgecolor = \"grey\")\n",
    "p = p.set(title=\"Drivetrains frequency\", xlabel='Drivetrain', ylabel='Frequency')"
   ]
  },
  {
   "cell_type": "code",
   "execution_count": null,
   "metadata": {},
   "outputs": [],
   "source": [
    "d"
   ]
  },
  {
   "cell_type": "code",
   "execution_count": null,
   "metadata": {},
   "outputs": [],
   "source": [
    "# Scatter plot of two continuous variables\n",
    "p = sns.scatterplot(x = 'displ', y = 'cty', data = d)\n",
    "p = p.set(title = \"Mileage\", xlabel = 'Engine displacement', ylabel = 'City (mpg)')"
   ]
  },
  {
   "cell_type": "code",
   "execution_count": null,
   "metadata": {},
   "outputs": [],
   "source": [
    "# Scatter plot with regression overlay\n",
    "p = sns.regplot(x = 'cty', y = 'hwy', data = d)\n",
    "p = p.set(title=\"Mileage\", xlabel='City (mpg)', ylabel='Highway (mpg)')"
   ]
  },
  {
   "cell_type": "code",
   "execution_count": null,
   "metadata": {},
   "outputs": [],
   "source": [
    "# Regressing engine size to mileage\n",
    "p = sns.regplot(x = 'displ', y = 'hwy', data = d)\n",
    "p = p.set(title=\"Engine size vs mileage\", xlabel='Engine displacement', ylabel='Highway (mpg)')"
   ]
  },
  {
   "cell_type": "code",
   "execution_count": 74,
   "metadata": {},
   "outputs": [],
   "source": [
    "#sns.set(rc = {'figure.figsize':(5, 3)})\n",
    "#sns.set_style(\"whitegrid\")"
   ]
  },
  {
   "cell_type": "code",
   "execution_count": null,
   "metadata": {},
   "outputs": [],
   "source": []
  }
 ],
 "metadata": {
  "kernelspec": {
   "display_name": "Python 3.9.12 ('base')",
   "language": "python",
   "name": "python3"
  },
  "language_info": {
   "codemirror_mode": {
    "name": "ipython",
    "version": 3
   },
   "file_extension": ".py",
   "mimetype": "text/x-python",
   "name": "python",
   "nbconvert_exporter": "python",
   "pygments_lexer": "ipython3",
   "version": "3.11.3"
  },
  "orig_nbformat": 4,
  "vscode": {
   "interpreter": {
    "hash": "40d444e15d4b5bb908f4b95c26d9b158a336fb6b786751c7d3022d89de8ad3f2"
   }
  }
 },
 "nbformat": 4,
 "nbformat_minor": 2
}
