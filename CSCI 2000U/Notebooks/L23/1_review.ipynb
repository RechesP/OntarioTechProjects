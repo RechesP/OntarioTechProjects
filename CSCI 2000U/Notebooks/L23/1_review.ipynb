{
 "cells": [
  {
   "cell_type": "markdown",
   "metadata": {},
   "source": [
    "## L23- Review"
   ]
  },
  {
   "cell_type": "code",
   "execution_count": 2,
   "metadata": {},
   "outputs": [],
   "source": [
    "import numpy as np\n",
    "import pandas as pd\n",
    "import matplotlib.pyplot as plt\n",
    "import seaborn as sns"
   ]
  },
  {
   "cell_type": "markdown",
   "metadata": {},
   "source": [
    "### Strings"
   ]
  },
  {
   "cell_type": "code",
   "execution_count": 13,
   "metadata": {},
   "outputs": [
    {
     "data": {
      "text/plain": [
       "str"
      ]
     },
     "execution_count": 13,
     "metadata": {},
     "output_type": "execute_result"
    }
   ],
   "source": [
    "type('hello')"
   ]
  },
  {
   "cell_type": "code",
   "execution_count": null,
   "metadata": {},
   "outputs": [],
   "source": [
    "print(\"Another\",\"question\",sep=\" \",end=\"?\")"
   ]
  },
  {
   "cell_type": "code",
   "execution_count": 16,
   "metadata": {},
   "outputs": [
    {
     "name": "stdout",
     "output_type": "stream",
     "text": [
      "Peter, P\n"
     ]
    }
   ],
   "source": [
    "s = \"Peter, Paul, and Mary\"\n",
    "print(s[0:8])"
   ]
  },
  {
   "cell_type": "code",
   "execution_count": null,
   "metadata": {},
   "outputs": [],
   "source": [
    "fruit = 'another question'\n",
    "print(fruit[::3])"
   ]
  },
  {
   "cell_type": "code",
   "execution_count": 17,
   "metadata": {},
   "outputs": [
    {
     "name": "stdout",
     "output_type": "stream",
     "text": [
      "Jack\n",
      "Kack\n",
      "Lack\n",
      "Mack\n",
      "Nack\n",
      "Oack\n",
      "Pack\n",
      "Qack\n"
     ]
    }
   ],
   "source": [
    "# For loop\n",
    "prefixes = \"JKLMNOPQ\" \n",
    "suffix = \"ack\"\n",
    "for letter in prefixes: \n",
    "    print(letter + suffix)"
   ]
  },
  {
   "cell_type": "markdown",
   "metadata": {},
   "source": [
    "### Lists"
   ]
  },
  {
   "cell_type": "code",
   "execution_count": 18,
   "metadata": {},
   "outputs": [
    {
     "name": "stdout",
     "output_type": "stream",
     "text": [
      "['Apple', 4, 4.3234, False, False]\n"
     ]
    }
   ],
   "source": [
    "# Initialise list\n",
    "elements = [\"Apple\", 4, 4.3234, False, False]\n",
    "print(elements)"
   ]
  },
  {
   "cell_type": "code",
   "execution_count": 19,
   "metadata": {},
   "outputs": [
    {
     "name": "stdout",
     "output_type": "stream",
     "text": [
      "The last fruit I ate was STRAWBERRIES\n",
      "['apple', 'pear', 'peach', 'banana', 'watermelon']\n"
     ]
    }
   ],
   "source": [
    "fruits = ['apple', 'pear', 'peach', 'banana', 'watermelon', 'strawberries']\n",
    "last_fruit = fruits.pop()\n",
    "print(f\"The last fruit I ate was {last_fruit.upper()}\")\n",
    "print(fruits)"
   ]
  },
  {
   "cell_type": "markdown",
   "metadata": {},
   "source": [
    "### Dictionaries\n"
   ]
  },
  {
   "cell_type": "code",
   "execution_count": 20,
   "metadata": {},
   "outputs": [
    {
     "name": "stdout",
     "output_type": "stream",
     "text": [
      "{'name': 'Fred', 'age': 32, 'is_single': True}\n",
      "32\n"
     ]
    }
   ],
   "source": [
    "# Initialise\n",
    "person = {'name' : 'Fred', 'age' : 32, 'is_single' : True}\n",
    "print(person)\n",
    "print(person['age'])"
   ]
  },
  {
   "cell_type": "markdown",
   "metadata": {},
   "source": [
    "### Numpy arrays"
   ]
  },
  {
   "cell_type": "code",
   "execution_count": 34,
   "metadata": {},
   "outputs": [
    {
     "name": "stdout",
     "output_type": "stream",
     "text": [
      "[18 36 54]\n",
      "[18 36 54 72]\n"
     ]
    },
    {
     "data": {
      "text/plain": [
       "numpy.dtypes.Int64DType"
      ]
     },
     "execution_count": 34,
     "metadata": {},
     "output_type": "execute_result"
    }
   ],
   "source": [
    "nums = np.array([2,4,6,8,9])\n",
    "print(nums[0:3] * 9)\n",
    "# 4 * 2\n",
    "print(nums[0:4] * nums[4])\n",
    "type(nums.dtype)"
   ]
  },
  {
   "cell_type": "code",
   "execution_count": 6,
   "metadata": {},
   "outputs": [
    {
     "name": "stdout",
     "output_type": "stream",
     "text": [
      "<class 'numpy.ndarray'>\n",
      "[ 4  8 12 16 18]\n",
      "[ 4 16 36 64 81]\n",
      "int64\n"
     ]
    }
   ],
   "source": [
    "nums = np.array([2,4,6,8,9])\n",
    "# Check type\n",
    "print(type(nums))\n",
    "# Element-wise addition\n",
    "print(nums + nums)\n",
    "# Raise to power 2\n",
    "print(nums**2)\n",
    "# Data type within array\n",
    "print(nums.dtype)"
   ]
  },
  {
   "cell_type": "code",
   "execution_count": 35,
   "metadata": {},
   "outputs": [
    {
     "name": "stdout",
     "output_type": "stream",
     "text": [
      "[[1 2 3]\n",
      " [4 5 6]]\n",
      "2D array: \n",
      "[[1 2 3]\n",
      " [4 5 6]]\n",
      "Dims: 2\n",
      "Shape: (2, 3)\n",
      "Num elements: 6\n"
     ]
    }
   ],
   "source": [
    "# 2x3 array\n",
    "d = np.array([[1,2,3], [4,5,6]])\n",
    "print(d)\n",
    "# 2D Int array\n",
    "print(f\"2D array: \\n{d}\")\n",
    "print(f\"Dims: {d.ndim}\")\n",
    "print(f\"Shape: {d.shape}\")\n",
    "print(f\"Num elements: {d.size}\")"
   ]
  },
  {
   "cell_type": "code",
   "execution_count": 36,
   "metadata": {},
   "outputs": [
    {
     "data": {
      "text/plain": [
       "array([ 1,  4,  7, 10, 13, 16, 19])"
      ]
     },
     "execution_count": 36,
     "metadata": {},
     "output_type": "execute_result"
    }
   ],
   "source": [
    "# Creating with range functions\n",
    "np.arange(start=1, stop=20, step=3)"
   ]
  },
  {
   "cell_type": "code",
   "execution_count": 37,
   "metadata": {},
   "outputs": [
    {
     "data": {
      "text/plain": [
       "array([ 1.        , 11.88888889, 22.77777778, 33.66666667, 44.55555556,\n",
       "       55.44444444, 66.33333333, 77.22222222, 88.11111111, 99.        ])"
      ]
     },
     "execution_count": 37,
     "metadata": {},
     "output_type": "execute_result"
    }
   ],
   "source": [
    "# Ten linearly-spaced floats\n",
    "np.linspace(start=1, stop=99, num=10)"
   ]
  },
  {
   "cell_type": "code",
   "execution_count": null,
   "metadata": {},
   "outputs": [],
   "source": [
    "# Simple broadcasting\n",
    "a = np.arange(0,5)\n",
    "b = 5\n",
    "print(a*b)"
   ]
  },
  {
   "cell_type": "code",
   "execution_count": 40,
   "metadata": {},
   "outputs": [
    {
     "name": "stdout",
     "output_type": "stream",
     "text": [
      "[[ 75  59  60]\n",
      " [100  85  92]\n",
      " [ 55  78  93]\n",
      " [ 14  88  65]]\n"
     ]
    },
    {
     "data": {
      "text/plain": [
       "array([[100,  85,  92],\n",
       "       [ 14,  88,  65]])"
      ]
     },
     "execution_count": 40,
     "metadata": {},
     "output_type": "execute_result"
    }
   ],
   "source": [
    "# Four students each with 3 exam grades\n",
    "grades = np.array([[75, 59, 60], [100, 85, 92],\n",
    "                   [55, 78, 93], [14, 88, 65]])\n",
    "print(grades)\n",
    "#grades.shape\n",
    "grades[[1,3], :]"
   ]
  },
  {
   "cell_type": "code",
   "execution_count": 41,
   "metadata": {},
   "outputs": [
    {
     "name": "stdout",
     "output_type": "stream",
     "text": [
      "Mean: 72.0\n",
      "Sum: 864\n",
      "Max: 100\n",
      "Std: 22.56\n"
     ]
    }
   ],
   "source": [
    "# Calculations\n",
    "print(f\"Mean: {grades.mean()}\")\n",
    "print(f\"Sum: {grades.sum()}\")\n",
    "print(f\"Max: {grades.max()}\")\n",
    "print(f\"Std: {round(grades.std(),2)}\")"
   ]
  },
  {
   "cell_type": "code",
   "execution_count": null,
   "metadata": {},
   "outputs": [],
   "source": [
    "print(grades,\"\\n-----\")\n",
    "# Select row 1\n",
    "print(grades[1,:])\n",
    "# Select rows 0 and 1\n",
    "print(grades[0:2,1])\n",
    "# Select all rows in column 1\n",
    "print(grades[:,1])"
   ]
  },
  {
   "cell_type": "markdown",
   "metadata": {},
   "source": [
    "### Pandas"
   ]
  },
  {
   "cell_type": "code",
   "execution_count": 42,
   "metadata": {},
   "outputs": [
    {
     "data": {
      "text/plain": [
       "d    4.5\n",
       "b    7.2\n",
       "a   -5.3\n",
       "c    3.6\n",
       "dtype: float64"
      ]
     },
     "execution_count": 42,
     "metadata": {},
     "output_type": "execute_result"
    }
   ],
   "source": [
    "# Series\n",
    "d = pd.Series([4.5, 7.2, -5.3, 3.6], index=[\"d\", \"b\", \"a\", \"c\"])\n",
    "d"
   ]
  },
  {
   "cell_type": "code",
   "execution_count": 3,
   "metadata": {},
   "outputs": [
    {
     "data": {
      "text/html": [
       "<div>\n",
       "<style scoped>\n",
       "    .dataframe tbody tr th:only-of-type {\n",
       "        vertical-align: middle;\n",
       "    }\n",
       "\n",
       "    .dataframe tbody tr th {\n",
       "        vertical-align: top;\n",
       "    }\n",
       "\n",
       "    .dataframe thead th {\n",
       "        text-align: right;\n",
       "    }\n",
       "</style>\n",
       "<table border=\"1\" class=\"dataframe\">\n",
       "  <thead>\n",
       "    <tr style=\"text-align: right;\">\n",
       "      <th></th>\n",
       "      <th>province</th>\n",
       "      <th>year</th>\n",
       "      <th>pop</th>\n",
       "    </tr>\n",
       "  </thead>\n",
       "  <tbody>\n",
       "    <tr>\n",
       "      <th>0</th>\n",
       "      <td>Ontario</td>\n",
       "      <td>2010</td>\n",
       "      <td>13.1</td>\n",
       "    </tr>\n",
       "    <tr>\n",
       "      <th>1</th>\n",
       "      <td>Ontario</td>\n",
       "      <td>2011</td>\n",
       "      <td>12.9</td>\n",
       "    </tr>\n",
       "    <tr>\n",
       "      <th>2</th>\n",
       "      <td>Ontario</td>\n",
       "      <td>2012</td>\n",
       "      <td>14.6</td>\n",
       "    </tr>\n",
       "    <tr>\n",
       "      <th>3</th>\n",
       "      <td>Alberta</td>\n",
       "      <td>2011</td>\n",
       "      <td>3.6</td>\n",
       "    </tr>\n",
       "    <tr>\n",
       "      <th>4</th>\n",
       "      <td>Alberta</td>\n",
       "      <td>2012</td>\n",
       "      <td>4.3</td>\n",
       "    </tr>\n",
       "    <tr>\n",
       "      <th>5</th>\n",
       "      <td>Alberta</td>\n",
       "      <td>2013</td>\n",
       "      <td>4.0</td>\n",
       "    </tr>\n",
       "  </tbody>\n",
       "</table>\n",
       "</div>"
      ],
      "text/plain": [
       "  province  year   pop\n",
       "0  Ontario  2010  13.1\n",
       "1  Ontario  2011  12.9\n",
       "2  Ontario  2012  14.6\n",
       "3  Alberta  2011   3.6\n",
       "4  Alberta  2012   4.3\n",
       "5  Alberta  2013   4.0"
      ]
     },
     "execution_count": 3,
     "metadata": {},
     "output_type": "execute_result"
    }
   ],
   "source": [
    "# Data as dictionary\n",
    "data = {\"province\": [\"Ontario\", \"Ontario\", \"Ontario\", \"Alberta\", \"Alberta\", \"Alberta\"],\n",
    "\"year\": [2010, 2011, 2012, 2011, 2012, 2013],\n",
    "\"pop\": [13.1, 12.9, 14.6, 3.6, 4.3, 4.0]}\n",
    "frame = pd.DataFrame(data)\n",
    "frame"
   ]
  },
  {
   "cell_type": "code",
   "execution_count": 43,
   "metadata": {},
   "outputs": [
    {
     "name": "stdout",
     "output_type": "stream",
     "text": [
      "d    4.5\n",
      "b    7.2\n",
      "a   -5.3\n",
      "c    3.6\n",
      "dtype: float64\n"
     ]
    },
    {
     "data": {
      "text/plain": [
       "e    NaN\n",
       "a   -5.3\n",
       "b    7.2\n",
       "c    3.6\n",
       "d    4.5\n",
       "dtype: float64"
      ]
     },
     "execution_count": 43,
     "metadata": {},
     "output_type": "execute_result"
    }
   ],
   "source": [
    "# Reindex\n",
    "print(d)\n",
    "d2 = d.reindex([\"e\",\"a\",\"b\",\"c\",\"d\"])\n",
    "d2"
   ]
  },
  {
   "cell_type": "code",
   "execution_count": 4,
   "metadata": {},
   "outputs": [
    {
     "data": {
      "text/html": [
       "<div>\n",
       "<style scoped>\n",
       "    .dataframe tbody tr th:only-of-type {\n",
       "        vertical-align: middle;\n",
       "    }\n",
       "\n",
       "    .dataframe tbody tr th {\n",
       "        vertical-align: top;\n",
       "    }\n",
       "\n",
       "    .dataframe thead th {\n",
       "        text-align: right;\n",
       "    }\n",
       "</style>\n",
       "<table border=\"1\" class=\"dataframe\">\n",
       "  <thead>\n",
       "    <tr style=\"text-align: right;\">\n",
       "      <th></th>\n",
       "      <th>one</th>\n",
       "      <th>two</th>\n",
       "      <th>three</th>\n",
       "      <th>four</th>\n",
       "    </tr>\n",
       "  </thead>\n",
       "  <tbody>\n",
       "    <tr>\n",
       "      <th>Ontario</th>\n",
       "      <td>0</td>\n",
       "      <td>1</td>\n",
       "      <td>2</td>\n",
       "      <td>3</td>\n",
       "    </tr>\n",
       "    <tr>\n",
       "      <th>Quebec</th>\n",
       "      <td>4</td>\n",
       "      <td>5</td>\n",
       "      <td>6</td>\n",
       "      <td>7</td>\n",
       "    </tr>\n",
       "    <tr>\n",
       "      <th>Alberta</th>\n",
       "      <td>8</td>\n",
       "      <td>9</td>\n",
       "      <td>10</td>\n",
       "      <td>11</td>\n",
       "    </tr>\n",
       "    <tr>\n",
       "      <th>British Columbia</th>\n",
       "      <td>12</td>\n",
       "      <td>13</td>\n",
       "      <td>14</td>\n",
       "      <td>15</td>\n",
       "    </tr>\n",
       "  </tbody>\n",
       "</table>\n",
       "</div>"
      ],
      "text/plain": [
       "                  one  two  three  four\n",
       "Ontario             0    1      2     3\n",
       "Quebec              4    5      6     7\n",
       "Alberta             8    9     10    11\n",
       "British Columbia   12   13     14    15"
      ]
     },
     "execution_count": 4,
     "metadata": {},
     "output_type": "execute_result"
    }
   ],
   "source": [
    "# loc and iloc\n",
    "provinces = pd.DataFrame(np.arange(16).reshape((4, 4)),\n",
    "index=[\"Ontario\", \"Quebec\", \"Alberta\", \"British Columbia\"],\n",
    "columns=[\"one\", \"two\", \"three\", \"four\"])\n",
    "provinces"
   ]
  },
  {
   "cell_type": "code",
   "execution_count": 5,
   "metadata": {},
   "outputs": [
    {
     "name": "stdout",
     "output_type": "stream",
     "text": [
      "                  one  two  three  four\n",
      "Ontario             0    1      2     3\n",
      "Quebec              4    5      6     7\n",
      "Alberta             8    9     10    11\n",
      "British Columbia   12   13     14    15 \n",
      "-----\n",
      "         one  two  three  four\n",
      "Ontario    0    1      2     3\n",
      "Alberta    8    9     10    11\n"
     ]
    }
   ],
   "source": [
    "print(provinces,\"\\n-----\")\n",
    "# Label-based\n",
    "print(provinces.loc[[\"Ontario\",\"Alberta\"]])"
   ]
  },
  {
   "cell_type": "code",
   "execution_count": 6,
   "metadata": {},
   "outputs": [
    {
     "name": "stdout",
     "output_type": "stream",
     "text": [
      "                  one  two  three  four\n",
      "Ontario             0    1      2     3\n",
      "Quebec              4    5      6     7\n",
      "Alberta             8    9     10    11\n",
      "British Columbia   12   13     14    15 \n",
      "----\n",
      "         one  two  three  four\n",
      "Ontario    0    1      2     3\n",
      "Alberta    8    9     10    11\n",
      "         one  two  three  four\n",
      "Ontario    0    1      2     3\n",
      "Alberta    8    9     10    11\n"
     ]
    }
   ],
   "source": [
    "print(provinces,\"\\n----\")\n",
    "# Integer-based\n",
    "print(provinces.iloc[[0,2]])\n",
    "print(provinces.loc[[\"Ontario\",\"Alberta\"]])"
   ]
  },
  {
   "cell_type": "code",
   "execution_count": null,
   "metadata": {},
   "outputs": [],
   "source": []
  }
 ],
 "metadata": {
  "kernelspec": {
   "display_name": ".venv",
   "language": "python",
   "name": "python3"
  },
  "language_info": {
   "codemirror_mode": {
    "name": "ipython",
    "version": 3
   },
   "file_extension": ".py",
   "mimetype": "text/x-python",
   "name": "python",
   "nbconvert_exporter": "python",
   "pygments_lexer": "ipython3",
   "version": "3.11.3"
  },
  "orig_nbformat": 4
 },
 "nbformat": 4,
 "nbformat_minor": 2
}
