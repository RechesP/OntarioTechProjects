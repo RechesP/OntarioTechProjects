{
 "cells": [
  {
   "cell_type": "markdown",
   "metadata": {},
   "source": [
    "### NumPy arrays"
   ]
  },
  {
   "cell_type": "markdown",
   "metadata": {},
   "source": [
    "**1. Array programming**"
   ]
  },
  {
   "cell_type": "code",
   "execution_count": 29,
   "metadata": {},
   "outputs": [],
   "source": [
    "import numpy as np"
   ]
  },
  {
   "cell_type": "code",
   "execution_count": 6,
   "metadata": {},
   "outputs": [
    {
     "name": "stdout",
     "output_type": "stream",
     "text": [
      "<class 'numpy.ndarray'>\n",
      "[2 4 6 8 9]\n"
     ]
    }
   ],
   "source": [
    "# Initialise\n",
    "nums = np.array([2,4,6,8,9])\n",
    "# Check type\n",
    "print(type(nums))\n",
    "# Evaluate\n",
    "#nums\n",
    "print(nums)"
   ]
  },
  {
   "cell_type": "code",
   "execution_count": 7,
   "metadata": {},
   "outputs": [
    {
     "name": "stdout",
     "output_type": "stream",
     "text": [
      "[2 4 6 8 9]\n",
      "[10 20 30 40 45]\n",
      "[2 4 6 8 9]\n",
      "[12 24 36 48 59]\n",
      "[ 4 16 36 64 81]\n"
     ]
    }
   ],
   "source": [
    "print(nums)\n",
    "# Vectorised multiplication\n",
    "print(nums*5)\n",
    "print(nums)\n",
    "# Element-wise addition\n",
    "nums2 = np.array([10, 20, 30, 40, 50])\n",
    "print(nums + nums2)\n",
    "# Raise to power 2\n",
    "print(nums**2)"
   ]
  },
  {
   "cell_type": "code",
   "execution_count": 30,
   "metadata": {},
   "outputs": [],
   "source": [
    "nums2 = np.array([2, 4, 'foobar'])"
   ]
  },
  {
   "cell_type": "code",
   "execution_count": 31,
   "metadata": {},
   "outputs": [
    {
     "name": "stdout",
     "output_type": "stream",
     "text": [
      "['2' '4' 'foobar']\n"
     ]
    }
   ],
   "source": [
    "print(nums2)"
   ]
  },
  {
   "cell_type": "markdown",
   "metadata": {},
   "source": [
    "**Comparing lists with arrays**"
   ]
  },
  {
   "cell_type": "code",
   "execution_count": 34,
   "metadata": {},
   "outputs": [
    {
     "name": "stdout",
     "output_type": "stream",
     "text": [
      "(1000,)\n",
      "List dot product:  0.00046  seconds\n",
      "Array dot product:  0.0001  seconds\n"
     ]
    }
   ],
   "source": [
    "import time\n",
    "# Generate list of 10,000,000 random numbers\n",
    "array1 = np.random.randn(10**3)\n",
    "array2 = np.random.randn(10**3)\n",
    "# Copy into list\n",
    "list1 = list(array1)\n",
    "list2 = list(array2)\n",
    "# 10,000,000x1 vector\n",
    "print(array1.shape)\n",
    "\n",
    "# List dot product\n",
    "dot = 0\n",
    "initialTime = time.time()\n",
    "for a, b in zip(list1, list2):\n",
    "        dot = dot + (a * b)\n",
    "print(\"List dot product: \", round(time.time() - initialTime, 5), \" seconds\")\n",
    "\n",
    "# Array dot product\n",
    "initialTime = time.time()\n",
    "array = np.dot(array1, array2)\n",
    "print(\"Array dot product: \", round(time.time() - initialTime, 5), \" seconds\")"
   ]
  },
  {
   "cell_type": "markdown",
   "metadata": {},
   "source": [
    "**3. Array attributes** "
   ]
  },
  {
   "cell_type": "code",
   "execution_count": 36,
   "metadata": {},
   "outputs": [
    {
     "name": "stdout",
     "output_type": "stream",
     "text": [
      "[[1 2 3]\n",
      " [4 5 6]]\n"
     ]
    }
   ],
   "source": [
    "# 2x3 array\n",
    "d = np.array([[1,2,3], [4,5,6]])\n",
    "print(d)"
   ]
  },
  {
   "cell_type": "code",
   "execution_count": 39,
   "metadata": {},
   "outputs": [
    {
     "name": "stdout",
     "output_type": "stream",
     "text": [
      "int64\n",
      "[0.  0.1 0.2 0.9]\n"
     ]
    },
    {
     "data": {
      "text/plain": [
       "dtype('float64')"
      ]
     },
     "execution_count": 39,
     "metadata": {},
     "output_type": "execute_result"
    }
   ],
   "source": [
    "# Data type within array\n",
    "print(d.dtype)\n",
    "# Array of floats\n",
    "f_array = np.array([0.0, 0.1, 0.2, 0.9])\n",
    "print(f_array)\n",
    "f_array.dtype"
   ]
  },
  {
   "cell_type": "code",
   "execution_count": 37,
   "metadata": {},
   "outputs": [
    {
     "name": "stdout",
     "output_type": "stream",
     "text": [
      "[[1 2 3]\n",
      " [4 5 6]]\n"
     ]
    }
   ],
   "source": [
    "print(d)"
   ]
  },
  {
   "cell_type": "code",
   "execution_count": 38,
   "metadata": {},
   "outputs": [
    {
     "name": "stdout",
     "output_type": "stream",
     "text": [
      "2D array: \n",
      "[[1 2 3]\n",
      " [4 5 6]]\n",
      "Dims: 2\n",
      "Shape: (2, 3)\n",
      "Num elements: 6\n"
     ]
    }
   ],
   "source": [
    "# 2D Int array\n",
    "print(f\"2D array: \\n{d}\")\n",
    "print(f\"Dims: {d.ndim}\")\n",
    "print(f\"Shape: {d.shape}\")\n",
    "print(f\"Num elements: {d.size}\")"
   ]
  },
  {
   "cell_type": "code",
   "execution_count": 40,
   "metadata": {},
   "outputs": [
    {
     "name": "stdout",
     "output_type": "stream",
     "text": [
      "1D float: \n",
      "[0.  0.1 0.2 0.9]\n",
      "Dims: 1\n",
      "Shape: (4,)\n",
      "Num elements: : 4\n"
     ]
    }
   ],
   "source": [
    "# 1D float array\n",
    "print(f\"1D float: \\n{f_array}\")\n",
    "print(f\"Dims: {f_array.ndim}\")\n",
    "print(f\"Shape: {f_array.shape}\")\n",
    "print(f\"Num elements: : {f_array.size}\")"
   ]
  },
  {
   "cell_type": "markdown",
   "metadata": {},
   "source": [
    "**Iterating with arrays**"
   ]
  },
  {
   "cell_type": "code",
   "execution_count": 43,
   "metadata": {},
   "outputs": [
    {
     "name": "stdout",
     "output_type": "stream",
     "text": [
      "[[1 2 3]\n",
      " [4 5 6]] \n",
      "----\n",
      "\n",
      "1 2 3 \n",
      "4 5 6 \n"
     ]
    }
   ],
   "source": [
    "print(d,\"\\n----\\n\")\n",
    "for row in d:\n",
    "    for column in row:\n",
    "        print(column, end=' ')\n",
    "    print()"
   ]
  },
  {
   "cell_type": "code",
   "execution_count": 12,
   "metadata": {},
   "outputs": [
    {
     "name": "stdout",
     "output_type": "stream",
     "text": [
      "1 2 3 4 5 6 "
     ]
    }
   ],
   "source": [
    "# Flatten array\n",
    "for element in d.flat:\n",
    "    print(element, end = ' ')"
   ]
  },
  {
   "cell_type": "code",
   "execution_count": 13,
   "metadata": {},
   "outputs": [
    {
     "name": "stdout",
     "output_type": "stream",
     "text": [
      "[1 2 3 4]\n"
     ]
    }
   ],
   "source": [
    "# Print first 4 elements of flattened array\n",
    "print(d.flat[0:4])"
   ]
  },
  {
   "cell_type": "markdown",
   "metadata": {},
   "source": [
    "**4. Filling and creating**"
   ]
  },
  {
   "cell_type": "code",
   "execution_count": 13,
   "metadata": {},
   "outputs": [
    {
     "name": "stdout",
     "output_type": "stream",
     "text": [
      "[0. 0. 0. 0. 0.]\n"
     ]
    }
   ],
   "source": [
    "# 5x1 array of zeros\n",
    "d = np.zeros(5)\n",
    "print(d)"
   ]
  },
  {
   "cell_type": "code",
   "execution_count": 14,
   "metadata": {},
   "outputs": [
    {
     "name": "stdout",
     "output_type": "stream",
     "text": [
      "[[-99 -99]\n",
      " [-99 -99]\n",
      " [-99 -99]]\n"
     ]
    }
   ],
   "source": [
    "# 3x2 array containing -99\n",
    "d = np.full((3,2), -99)\n",
    "print(d)"
   ]
  },
  {
   "cell_type": "code",
   "execution_count": 15,
   "metadata": {},
   "outputs": [
    {
     "data": {
      "text/plain": [
       "array([ 1,  4,  7, 10, 13, 16, 19])"
      ]
     },
     "execution_count": 15,
     "metadata": {},
     "output_type": "execute_result"
    }
   ],
   "source": [
    "# Creating with range functions\n",
    "np.arange(start=1, stop=20, step=3)"
   ]
  },
  {
   "cell_type": "code",
   "execution_count": 16,
   "metadata": {},
   "outputs": [
    {
     "data": {
      "text/plain": [
       "array([ 1.        , 11.88888889, 22.77777778, 33.66666667, 44.55555556,\n",
       "       55.44444444, 66.33333333, 77.22222222, 88.11111111, 99.        ])"
      ]
     },
     "execution_count": 16,
     "metadata": {},
     "output_type": "execute_result"
    }
   ],
   "source": [
    "# Ten linearly-spaced floats\n",
    "np.linspace(start=1, stop=99, num=10)"
   ]
  },
  {
   "cell_type": "code",
   "execution_count": 49,
   "metadata": {},
   "outputs": [
    {
     "name": "stdout",
     "output_type": "stream",
     "text": [
      "[[  1.  28.  55.  82.]\n",
      " [ 10.  37.  64.  91.]\n",
      " [ 19.  46.  73. 100.]]\n",
      "[[[  1.           5.30434783   9.60869565  13.91304348]\n",
      "  [ 18.2173913   22.52173913  26.82608696  31.13043478]]\n",
      "\n",
      " [[ 35.43478261  39.73913043  44.04347826  48.34782609]\n",
      "  [ 52.65217391  56.95652174  61.26086957  65.56521739]]\n",
      "\n",
      " [[ 69.86956522  74.17391304  78.47826087  82.7826087 ]\n",
      "  [ 87.08695652  91.39130435  95.69565217 100.        ]]]\n"
     ]
    }
   ],
   "source": [
    "# Initialise and reshape our array\n",
    "print(np.linspace(start=1, stop=100, num=12).reshape((3,4), order='f'))\n",
    "# Fortran-like index ordering (first index changing fastest)\n",
    "print(np.linspace(start=1, stop=100, num=24).reshape((3,2,4), order='c'))"
   ]
  },
  {
   "cell_type": "code",
   "execution_count": 51,
   "metadata": {},
   "outputs": [
    {
     "name": "stdout",
     "output_type": "stream",
     "text": [
      "[[     1      2      3 ...  24998  24999  25000]\n",
      " [ 25001  25002  25003 ...  49998  49999  50000]\n",
      " [ 50001  50002  50003 ...  74998  74999  75000]\n",
      " [ 75001  75002  75003 ...  99998  99999 100000]]\n",
      "[[     1      2      3      4]\n",
      " [     5      6      7      8]\n",
      " [     9     10     11     12]\n",
      " ...\n",
      " [ 99989  99990  99991  99992]\n",
      " [ 99993  99994  99995  99996]\n",
      " [ 99997  99998  99999 100000]]\n"
     ]
    }
   ],
   "source": [
    "# Concise printing\n",
    "print(np.arange(start=1, stop=100001).reshape(4, 25000))\n",
    "print(np.arange(start=1, stop=100001).reshape(25000, 4))"
   ]
  },
  {
   "cell_type": "markdown",
   "metadata": {},
   "source": [
    "**5. Operators and Calculations**"
   ]
  },
  {
   "cell_type": "code",
   "execution_count": 52,
   "metadata": {},
   "outputs": [],
   "source": [
    "nums = np.arange(1, 6)"
   ]
  },
  {
   "cell_type": "code",
   "execution_count": 53,
   "metadata": {},
   "outputs": [
    {
     "name": "stdout",
     "output_type": "stream",
     "text": [
      "Array: [1 2 3 4 5]\n",
      "Array*2: [ 2  4  6  8 10]\n",
      "Array^3: [  1   8  27  64 125]\n",
      "Array: [1 2 3 4 5]\n"
     ]
    }
   ],
   "source": [
    "print(f\"Array: {nums}\")\n",
    "print(f\"Array*2: {nums*2}\")\n",
    "print(f\"Array^3: {nums ** 3}\")\n",
    "print(f\"Array: {nums}\")\n"
   ]
  },
  {
   "cell_type": "code",
   "execution_count": 54,
   "metadata": {},
   "outputs": [
    {
     "name": "stdout",
     "output_type": "stream",
     "text": [
      "[ 0  5 10 15 20]\n"
     ]
    }
   ],
   "source": [
    "# Simple broadcasting\n",
    "a = np.arange(0,5)\n",
    "b = 5\n",
    "print(a*b)"
   ]
  },
  {
   "cell_type": "code",
   "execution_count": null,
   "metadata": {},
   "outputs": [],
   "source": [
    "d1 = np.arange(0,27).reshape(3,3,3)\n",
    "d2 = np.array([1,2,3])\n",
    "print(f\"d1 shape: {d1.shape}\\nd2 shape: {d2.shape}\")\n",
    "print(d1)\n",
    "print(d1*d2)"
   ]
  },
  {
   "cell_type": "code",
   "execution_count": 23,
   "metadata": {},
   "outputs": [
    {
     "name": "stdout",
     "output_type": "stream",
     "text": [
      "[ 0.  5. 15. 30. 50.]\n"
     ]
    }
   ],
   "source": [
    "# Element-wise multiplication\n",
    "d1 = np.linspace(0,10,num=5)\n",
    "d2 = np.array([1,2,3,4,5])\n",
    "print(d1 * d2)"
   ]
  },
  {
   "cell_type": "code",
   "execution_count": 59,
   "metadata": {},
   "outputs": [
    {
     "name": "stdout",
     "output_type": "stream",
     "text": [
      "[[ 75  59  60]\n",
      " [100  85  92]\n",
      " [ 55  78  93]\n",
      " [ 14  88  65]]\n"
     ]
    },
    {
     "data": {
      "text/plain": [
       "array([[150, 118, 120],\n",
       "       [200, 170, 184],\n",
       "       [110, 156, 186],\n",
       "       [ 28, 176, 130]])"
      ]
     },
     "execution_count": 59,
     "metadata": {},
     "output_type": "execute_result"
    }
   ],
   "source": [
    "# Four students each with 3 exam grades\n",
    "grades = np.array([[75, 59, 60], [100, 85, 92],\n",
    "                   [55, 78, 93], [14, 88, 65]])\n",
    "print(grades)\n",
    "grades.shape"
   ]
  },
  {
   "cell_type": "code",
   "execution_count": 25,
   "metadata": {},
   "outputs": [
    {
     "name": "stdout",
     "output_type": "stream",
     "text": [
      "Mean: 72.0\n",
      "Sum: 864\n",
      "Max: 100\n",
      "Std: 22.56\n"
     ]
    }
   ],
   "source": [
    "# Calculations\n",
    "print(f\"Mean: {grades.mean()}\")\n",
    "print(f\"Sum: {grades.sum()}\")\n",
    "print(f\"Max: {grades.max()}\")\n",
    "print(f\"Std: {round(grades.std(),2)}\")"
   ]
  },
  {
   "cell_type": "code",
   "execution_count": 26,
   "metadata": {},
   "outputs": [
    {
     "name": "stdout",
     "output_type": "stream",
     "text": [
      "Mean exam: [61.  77.5 77.5]\n",
      "Mean grade: [64.66666667 92.33333333 75.33333333 55.66666667]\n"
     ]
    }
   ],
   "source": [
    "# Calculate average exam grade (column)\n",
    "print(f\"Mean exam: {grades.mean(axis = 0)}\")\n",
    "\n",
    "# Calculate students' average grades\n",
    "print(f\"Mean grade: {grades.mean(axis = 1)}\")"
   ]
  },
  {
   "cell_type": "code",
   "execution_count": null,
   "metadata": {},
   "outputs": [],
   "source": [
    "\n"
   ]
  }
 ],
 "metadata": {
  "kernelspec": {
   "display_name": "numpy",
   "language": "python",
   "name": "numpy"
  },
  "language_info": {
   "codemirror_mode": {
    "name": "ipython",
    "version": 3
   },
   "file_extension": ".py",
   "mimetype": "text/x-python",
   "name": "python",
   "nbconvert_exporter": "python",
   "pygments_lexer": "ipython3",
   "version": "3.11.4"
  },
  "orig_nbformat": 4,
  "vscode": {
   "interpreter": {
    "hash": "40d444e15d4b5bb908f4b95c26d9b158a336fb6b786751c7d3022d89de8ad3f2"
   }
  }
 },
 "nbformat": 4,
 "nbformat_minor": 2
}
