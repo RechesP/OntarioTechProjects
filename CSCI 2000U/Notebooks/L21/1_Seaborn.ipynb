{
 "cells": [
  {
   "cell_type": "markdown",
   "metadata": {},
   "source": [
    "## L22. Seaborn and Matplotlib"
   ]
  },
  {
   "cell_type": "markdown",
   "metadata": {},
   "source": [
    "### 1. More seaborn plots"
   ]
  },
  {
   "cell_type": "code",
   "execution_count": 1,
   "metadata": {},
   "outputs": [],
   "source": [
    "import numpy as np\n",
    "import pandas as pd\n",
    "import seaborn as sns\n",
    "import matplotlib.pyplot as plt\n",
    "from IPython.display import display"
   ]
  },
  {
   "cell_type": "code",
   "execution_count": null,
   "metadata": {},
   "outputs": [],
   "source": [
    "import random\n",
    "# 1000 random numbers in the range of 1 to 6\n",
    "rolls = np.random.randint(low=1,high=6, size=100)\n",
    "# Extract unique values, and their frequencies\n",
    "values, frequencies = np.unique(rolls, return_counts=True)\n",
    "axes = sns.barplot(x=values, y=frequencies, hue=values, palette='bright')"
   ]
  },
  {
   "cell_type": "code",
   "execution_count": null,
   "metadata": {},
   "outputs": [],
   "source": [
    "# Job prestige data from 1971 (drop first column)\n",
    "# https://vincentarelbundock.github.io/Rdatasets/doc/carData/Prestige.html\n",
    "d = pd.read_csv('https://vincentarelbundock.github.io/Rdatasets/csv/carData/Prestige.csv').iloc[:,1:]\n",
    "display(d)"
   ]
  },
  {
   "cell_type": "code",
   "execution_count": null,
   "metadata": {},
   "outputs": [],
   "source": [
    "# Group type, producing mean income, return df\n",
    "dg = d.groupby(\"type\")[[\"income\"]].mean()\n",
    "display(dg)\n",
    "# Set size of figure\n",
    "fig, ax = plt.subplots(figsize=(4, 3))\n",
    "p = sns.barplot(x=dg.index, y=dg.income, ax=ax)"
   ]
  },
  {
   "cell_type": "code",
   "execution_count": null,
   "metadata": {},
   "outputs": [],
   "source": [
    "# Built-in - produces error bars\n",
    "p = sns.barplot(data=d, x=\"type\", y=\"income\", hue='type')"
   ]
  },
  {
   "cell_type": "code",
   "execution_count": null,
   "metadata": {},
   "outputs": [],
   "source": [
    "fig, ax = plt.subplots(figsize=(5, 4))\n",
    "# Built-in (rotated by swapping axes)\n",
    "p = sns.barplot(data=d, x='income', y='type', hue='type', ax=ax)"
   ]
  },
  {
   "cell_type": "code",
   "execution_count": null,
   "metadata": {},
   "outputs": [],
   "source": [
    "fig, ax = plt.subplots(figsize=(5, 4))\n",
    "# Scatterplot\n",
    "p = sns.scatterplot(data=d, x=\"prestige\", y=\"income\", hue=\"type\")"
   ]
  },
  {
   "cell_type": "code",
   "execution_count": null,
   "metadata": {},
   "outputs": [],
   "source": [
    "# Add separate regression fits for each group separately. Set height to 4 inches.\n",
    "p = sns.lmplot(data=d, x=\"prestige\", y=\"income\", hue=\"type\", height=4)"
   ]
  },
  {
   "cell_type": "code",
   "execution_count": null,
   "metadata": {},
   "outputs": [],
   "source": [
    "# Load example dataset. Full list: https://github.com/mwaskom/seaborn-data\n",
    "d_p = sns.load_dataset(\"penguins\")\n",
    "d_p.head()"
   ]
  },
  {
   "cell_type": "code",
   "execution_count": null,
   "metadata": {},
   "outputs": [],
   "source": [
    "# Plot the penguins\n",
    "p = sns.barplot(data=d_p, x=\"island\", y=\"body_mass_g\", hue=\"sex\")"
   ]
  },
  {
   "cell_type": "code",
   "execution_count": null,
   "metadata": {},
   "outputs": [],
   "source": [
    "# Plot the penguins\n",
    "p = sns.barplot(data=d_p, x=\"species\", y=\"body_mass_g\", hue=\"island\")"
   ]
  },
  {
   "cell_type": "code",
   "execution_count": null,
   "metadata": {},
   "outputs": [],
   "source": [
    "fig, ax = plt.subplots(figsize=(5, 4))\n",
    "# facecolor = Red, Green, Blue, Alpha transparency (0-1)\n",
    "# Other style = 0-1, as a percentage\n",
    "# Read more: https://seaborn.pydata.org/generated/seaborn.barplot.html\n",
    "p = sns.barplot(data=d_p, x=\"body_mass_g\", y=\"island\", \n",
    "                capsize=.1, \n",
    "                err_kws={'color': '0.5'}, # Set the colour of the error bars, 50% black\n",
    "                linewidth=3, \n",
    "                edgecolor=\".2\", \n",
    "                facecolor=(0.9, 0.0, 0.0, 0.5),\n",
    "                ax=ax)"
   ]
  },
  {
   "cell_type": "code",
   "execution_count": null,
   "metadata": {},
   "outputs": [],
   "source": [
    "# Boxplot with a Series of data\n",
    "p = sns.boxplot(x=d_p[\"bill_length_mm\"])"
   ]
  },
  {
   "cell_type": "code",
   "execution_count": null,
   "metadata": {},
   "outputs": [],
   "source": [
    "titanic = sns.load_dataset('titanic')\n",
    "# Boxplot showing the spread of ages across class and survival\n",
    "p = sns.boxplot(data=titanic, x=\"age\", y=\"class\", hue=\"alive\")"
   ]
  },
  {
   "cell_type": "code",
   "execution_count": null,
   "metadata": {},
   "outputs": [],
   "source": [
    "# load dataset\n",
    "titanic = sns.load_dataset('titanic')\n",
    "\n",
    "# create plot\n",
    "p = sns.barplot(data=titanic, x='sex', y='survived', hue='class', \n",
    "                palette='hls',\n",
    "                order=['male', 'female'],  \n",
    "                capsize=0.05,             \n",
    "                saturation=8,             \n",
    "                err_kws={'color': 'gray', 'linewidth': 2}, \n",
    "                errorbar='sd'   \n",
    "                )"
   ]
  },
  {
   "cell_type": "markdown",
   "metadata": {},
   "source": [
    "### 2. Controlling aesthetics"
   ]
  },
  {
   "cell_type": "code",
   "execution_count": 2,
   "metadata": {},
   "outputs": [],
   "source": [
    "# Reset to Matplotlib aesthetics\n",
    "sns.reset_orig()"
   ]
  },
  {
   "cell_type": "code",
   "execution_count": 3,
   "metadata": {},
   "outputs": [],
   "source": [
    "# Initialize some data\n",
    "d = {'x' : [\"A\", \"B\", \"C\", \"D\", \"E\"],\n",
    "     'y' : [13, 25, 19, 15, 25]}"
   ]
  },
  {
   "cell_type": "code",
   "execution_count": null,
   "metadata": {},
   "outputs": [],
   "source": [
    "# Simple barplot\n",
    "p = sns.barplot(x=d['x'], y=d['y'], hue=d['x'])"
   ]
  },
  {
   "cell_type": "code",
   "execution_count": null,
   "metadata": {},
   "outputs": [],
   "source": [
    "# Enable default Seaborn theme\n",
    "sns.set_theme()\n",
    "p = sns.barplot(x = d['x'], y = d['y'], hue = d['x'])"
   ]
  },
  {
   "cell_type": "code",
   "execution_count": null,
   "metadata": {},
   "outputs": [],
   "source": [
    "# Context\n",
    "sns.set_theme(context=\"notebook\", palette=\"pastel\")\n",
    "p = sns.barplot(x=d['x'], y=d['y'], hue=d['x'])"
   ]
  },
  {
   "cell_type": "code",
   "execution_count": null,
   "metadata": {},
   "outputs": [],
   "source": [
    "# Style\n",
    "sns.set_theme(context = \"notebook\", style = \"whitegrid\") #ticks\n",
    "p = sns.barplot(x=d['x'], y=d['y'])"
   ]
  },
  {
   "cell_type": "code",
   "execution_count": null,
   "metadata": {},
   "outputs": [],
   "source": [
    "# Style\n",
    "sns.set_theme(context=\"notebook\", palette=\"magma\")\n",
    "p = sns.barplot(x=d['x'], y=d['y'], hue=d['y'])"
   ]
  },
  {
   "cell_type": "code",
   "execution_count": 24,
   "metadata": {},
   "outputs": [],
   "source": [
    "# Setting the Seaborn default theme\n",
    "sns.set_theme()"
   ]
  },
  {
   "cell_type": "code",
   "execution_count": null,
   "metadata": {},
   "outputs": [],
   "source": []
  }
 ],
 "metadata": {
  "kernelspec": {
   "display_name": "Python 3.9.12 ('base')",
   "language": "python",
   "name": "python3"
  },
  "language_info": {
   "codemirror_mode": {
    "name": "ipython",
    "version": 3
   },
   "file_extension": ".py",
   "mimetype": "text/x-python",
   "name": "python",
   "nbconvert_exporter": "python",
   "pygments_lexer": "ipython3",
   "version": "3.11.3"
  },
  "orig_nbformat": 4,
  "vscode": {
   "interpreter": {
    "hash": "40d444e15d4b5bb908f4b95c26d9b158a336fb6b786751c7d3022d89de8ad3f2"
   }
  }
 },
 "nbformat": 4,
 "nbformat_minor": 2
}
