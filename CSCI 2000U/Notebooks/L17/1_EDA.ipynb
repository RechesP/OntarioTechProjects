{
 "cells": [
  {
   "cell_type": "markdown",
   "metadata": {},
   "source": [
    "## L18 - Example of EDA ##"
   ]
  },
  {
   "cell_type": "markdown",
   "metadata": {},
   "source": [
    "### 1. Sorting"
   ]
  },
  {
   "cell_type": "code",
   "execution_count": 1,
   "metadata": {},
   "outputs": [],
   "source": [
    "import pandas as pd\n",
    "from IPython.display import display"
   ]
  },
  {
   "cell_type": "code",
   "execution_count": null,
   "metadata": {},
   "outputs": [],
   "source": [
    "d = pd.DataFrame({\"b\": [4, 7, -3, 2], \"a\": [0, 1, 0, 1]})\n",
    "display(d)"
   ]
  },
  {
   "cell_type": "code",
   "execution_count": null,
   "metadata": {},
   "outputs": [],
   "source": [
    "line_break = \"\\n----\"\n",
    "# Sort by index\n",
    "display(d.sort_index())\n",
    "display(d.sort_index(axis=\"columns\"))"
   ]
  },
  {
   "cell_type": "code",
   "execution_count": null,
   "metadata": {},
   "outputs": [],
   "source": [
    "# Sort by value - Specify a key (column). Returns a view.\n",
    "display(d.sort_values(\"b\"))\n",
    "# Original data is unaffected\n",
    "display(d)"
   ]
  },
  {
   "cell_type": "markdown",
   "metadata": {},
   "source": [
    "### 2. An example of EDA"
   ]
  },
  {
   "cell_type": "code",
   "execution_count": 2,
   "metadata": {},
   "outputs": [],
   "source": [
    "# Get data from URL\n",
    "titanic = pd.read_csv('https://vincentarelbundock.github.io/Rdatasets/csv/carData/TitanicSurvival.csv')"
   ]
  },
  {
   "cell_type": "code",
   "execution_count": null,
   "metadata": {},
   "outputs": [],
   "source": [
    "# Understanding the structure of our data\n",
    "print(titanic.shape)\n",
    "# Display\n",
    "display(titanic)"
   ]
  },
  {
   "cell_type": "code",
   "execution_count": null,
   "metadata": {},
   "outputs": [],
   "source": [
    "# Change formatting\n",
    "pd.set_option('display.precision', 2)\n",
    "# First 10 rows\n",
    "titanic.head(n=10)"
   ]
  },
  {
   "cell_type": "code",
   "execution_count": null,
   "metadata": {},
   "outputs": [],
   "source": [
    "# Tidy up column names\n",
    "titanic.columns = [\"name\",\"survived\",\"sex\",\"age\",\"class\"]\n",
    "titanic.tail()"
   ]
  },
  {
   "cell_type": "code",
   "execution_count": null,
   "metadata": {},
   "outputs": [],
   "source": [
    "# Replacing values\n",
    "# Dict-like replace\n",
    "titanic = titanic.replace({'survived': {'yes': 1, 'no': 0}})\n",
    "\n",
    "# List-like replace\n",
    "#titanic = titanic.replace(['yes','no'], [1,0])\n",
    "titanic.head()"
   ]
  },
  {
   "cell_type": "code",
   "execution_count": null,
   "metadata": {},
   "outputs": [],
   "source": [
    "# Descriptive statistics (numeric columns only)\n",
    "titanic.describe()"
   ]
  },
  {
   "cell_type": "code",
   "execution_count": null,
   "metadata": {},
   "outputs": [],
   "source": [
    "titanic.age"
   ]
  },
  {
   "cell_type": "code",
   "execution_count": null,
   "metadata": {},
   "outputs": [],
   "source": [
    "# Display missing data rows\n",
    "titanic[titanic.age.isna()]"
   ]
  },
  {
   "cell_type": "code",
   "execution_count": null,
   "metadata": {},
   "outputs": [],
   "source": [
    "# Quicker way to get counts, does not include NaN\n",
    "titanic.count()\n",
    "# Confirm math\n",
    "print(f\"Size: {titanic.shape[0]}, \"\n",
    "      f\"NA: {titanic[titanic.age.isna()].shape[0]}, \"\n",
    "      f\"Not-NA: {titanic[titanic.age.notna()].shape[0]}\")\n",
    "print(titanic[titanic.age.isna()].shape[0] + titanic[titanic.age.notna()].shape[0] == titanic.shape[0])"
   ]
  },
  {
   "cell_type": "code",
   "execution_count": null,
   "metadata": {},
   "outputs": [],
   "source": [
    "# Line-continuation inside parentheses\n",
    "# https://peps.python.org/pep-0008/#maximum-line-length\n",
    "print(\"another\"\n",
    "      \"long\"\n",
    "      \"line\")\n",
    "# Equivalent to:\n",
    "print(\"another\" \"long\" \"line\")"
   ]
  },
  {
   "cell_type": "code",
   "execution_count": null,
   "metadata": {},
   "outputs": [],
   "source": [
    "# Drop all rows which contain any missing data\n",
    "titanic = titanic.dropna(axis=0)\n",
    "titanic"
   ]
  },
  {
   "cell_type": "code",
   "execution_count": null,
   "metadata": {},
   "outputs": [],
   "source": [
    "# Descriptive statistics (numeric columns only)\n",
    "titanic.describe()"
   ]
  },
  {
   "cell_type": "code",
   "execution_count": null,
   "metadata": {},
   "outputs": [],
   "source": [
    "titanic.age.min()*12"
   ]
  },
  {
   "cell_type": "code",
   "execution_count": null,
   "metadata": {},
   "outputs": [],
   "source": [
    "# How many months old?\n",
    "print(f\"Baby age: {titanic.age.min().round(2)*12} months\")"
   ]
  },
  {
   "cell_type": "markdown",
   "metadata": {},
   "source": [
    "### Plotting\n",
    "In order to generate basic plots, we first need to install matplotlib"
   ]
  },
  {
   "cell_type": "code",
   "execution_count": 16,
   "metadata": {},
   "outputs": [],
   "source": [
    "# pip install matplotlib"
   ]
  },
  {
   "cell_type": "code",
   "execution_count": null,
   "metadata": {},
   "outputs": [],
   "source": [
    "# Exploratory data plot\n",
    "h = titanic.hist(bins=8, figsize=(15,5), grid=False)"
   ]
  },
  {
   "cell_type": "code",
   "execution_count": null,
   "metadata": {},
   "outputs": [],
   "source": [
    "# Age histogram\n",
    "h = titanic.age.hist(bins=8)"
   ]
  },
  {
   "cell_type": "code",
   "execution_count": null,
   "metadata": {},
   "outputs": [],
   "source": [
    "# View only survived. This works as survived coded as 0 = Not survive, 1 = Survive\n",
    "display(titanic[titanic.survived.astype(bool)])\n",
    "\n",
    "# Use boolean indexing to view survivors\n",
    "titanic[titanic.survived == 1].describe()"
   ]
  },
  {
   "cell_type": "code",
   "execution_count": null,
   "metadata": {},
   "outputs": [],
   "source": [
    "# Use boolean indexing to view non-survivors\n",
    "titanic[titanic.survived == 0].describe()"
   ]
  },
  {
   "cell_type": "code",
   "execution_count": null,
   "metadata": {},
   "outputs": [],
   "source": [
    "#round(titanic[titanic.survived == 1].age.mean(), 4)\n",
    "#titanic[titanic.survived == 'yes'].age.mean()"
   ]
  },
  {
   "cell_type": "code",
   "execution_count": null,
   "metadata": {},
   "outputs": [],
   "source": [
    "# Focusing on age\n",
    "print(f\"Survived: {round(titanic[titanic.survived == 1].age.mean(),2)}\\n\"\n",
    "      f\"Not Survived: {round(titanic[titanic.survived == 0].age.mean(),2)}\")     "
   ]
  },
  {
   "cell_type": "code",
   "execution_count": null,
   "metadata": {},
   "outputs": [],
   "source": [
    "titanic.head()"
   ]
  },
  {
   "cell_type": "code",
   "execution_count": 20,
   "metadata": {},
   "outputs": [],
   "source": [
    "#%%\n",
    "#import matplotlib.pyplot as plt\n",
    "#import matplotlib as mpl\n",
    "#import numpy as np\n",
    "\n",
    "#plt.hist(titanic.age)\n",
    "#plt.show() "
   ]
  },
  {
   "cell_type": "markdown",
   "metadata": {},
   "source": [
    "**3. Exploring variables**"
   ]
  },
  {
   "cell_type": "code",
   "execution_count": null,
   "metadata": {},
   "outputs": [],
   "source": [
    "# Examine class with boolean indexing\n",
    "status = {\"surv_1st\": titanic[(titanic.survived==1) & (titanic[\"class\"]=='1st')],\n",
    "          \"nosurv_1st\": titanic[(titanic.survived==0) & (titanic[\"class\"]=='1st')],\n",
    "          \"surv_3rd\": titanic[(titanic.survived==1) & (titanic[\"class\"]=='3rd')],\n",
    "          \"nosurv_3rd\": titanic[(titanic.survived==0) & (titanic[\"class\"]=='3rd')]}\n",
    "\n",
    "# Print results\n",
    "print(f\"1st survivors, non-survivor: {status.get('surv_1st').shape[0]},\",\n",
    "      f\"{status.get('nosurv_1st').shape[0]}\\n\"\n",
    "      f\"3rd survivors, non-survivors: {status.get('surv_3rd').shape[0]},\",\n",
    "      f\"{status.get('nosurv_3rd').shape[0]}\")\n"
   ]
  },
  {
   "cell_type": "markdown",
   "metadata": {},
   "source": [
    "**4. Grouped operations**"
   ]
  },
  {
   "cell_type": "code",
   "execution_count": null,
   "metadata": {},
   "outputs": [],
   "source": [
    "# Replace survivability values for readiability\n",
    "titanic = titanic.replace({'survived': {1: 'yes', 0: 'no'}})\n",
    "display(titanic)"
   ]
  },
  {
   "cell_type": "code",
   "execution_count": null,
   "metadata": {},
   "outputs": [],
   "source": [
    "# Grouped operations\n",
    "grouped_titanic = titanic.groupby(['class','sex','survived']).size().unstack()\n",
    "grouped_titanic"
   ]
  },
  {
   "cell_type": "markdown",
   "metadata": {},
   "source": [
    "**5. Plotting**"
   ]
  },
  {
   "cell_type": "code",
   "execution_count": 19,
   "metadata": {},
   "outputs": [],
   "source": [
    "# Seaborn bar-plot\n",
    "import seaborn as sns\n",
    "import matplotlib.pyplot as plt"
   ]
  },
  {
   "cell_type": "code",
   "execution_count": null,
   "metadata": {},
   "outputs": [],
   "source": [
    "p = sns.countplot(data=titanic, x=\"sex\", hue=\"survived\").set(title='Survival count by Sex')"
   ]
  },
  {
   "cell_type": "code",
   "execution_count": null,
   "metadata": {},
   "outputs": [],
   "source": [
    "# Change our color palette\n",
    "#sns.set_palette(\"Paired\")\n",
    "# Plot class and survival\n",
    "p = sns.countplot(data=titanic, x=\"class\", hue=\"survived\").set(title='Survival count by Class')"
   ]
  },
  {
   "cell_type": "code",
   "execution_count": null,
   "metadata": {},
   "outputs": [],
   "source": [
    "# Create grouped panda for plotting\n",
    "grouped_cs_titanic = titanic.groupby(['class','survived']).size().unstack()\n",
    "grouped_cs_titanic\n",
    "# Matplotlib\n",
    "titanic_barplot = grouped_cs_titanic.plot.bar(stacked=False, color = [\"lightblue\", \"lightpink\"])\n",
    "plt.ylabel(\"Counts\")\n",
    "plt.xlabel('Passenger class')\n",
    "plt.xticks(rotation=0)\n",
    "plt.show(titanic_barplot)"
   ]
  },
  {
   "cell_type": "code",
   "execution_count": null,
   "metadata": {},
   "outputs": [],
   "source": [
    "titanic.groupby(['class', 'survived']).size().unstack()"
   ]
  },
  {
   "cell_type": "code",
   "execution_count": null,
   "metadata": {},
   "outputs": [],
   "source": [
    "# Some basic stats - Not covered in class (not examinable)\n",
    "# Split survived and not survived\n",
    "surv = titanic.loc[titanic.survived == 1]\n",
    "no_surv = titanic.loc[titanic.survived == 0]\n",
    "\n",
    "# Explanatory test\n",
    "from scipy import stats\n",
    "# T-test to determine if the means of each group are different?\n",
    "stats.ttest_ind(surv.age, no_surv.age)"
   ]
  }
 ],
 "metadata": {
  "kernelspec": {
   "display_name": "Python 3.9.12 ('base')",
   "language": "python",
   "name": "python3"
  },
  "language_info": {
   "codemirror_mode": {
    "name": "ipython",
    "version": 3
   },
   "file_extension": ".py",
   "mimetype": "text/x-python",
   "name": "python",
   "nbconvert_exporter": "python",
   "pygments_lexer": "ipython3",
   "version": "3.11.3"
  },
  "orig_nbformat": 4,
  "vscode": {
   "interpreter": {
    "hash": "40d444e15d4b5bb908f4b95c26d9b158a336fb6b786751c7d3022d89de8ad3f2"
   }
  }
 },
 "nbformat": 4,
 "nbformat_minor": 2
}
