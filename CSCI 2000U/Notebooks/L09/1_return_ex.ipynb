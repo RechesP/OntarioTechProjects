{
 "cells": [
  {
   "cell_type": "markdown",
   "metadata": {},
   "source": [
    "## Return examples"
   ]
  },
  {
   "cell_type": "code",
   "execution_count": 8,
   "metadata": {},
   "outputs": [
    {
     "name": "stdout",
     "output_type": "stream",
     "text": [
      "<class 'NoneType'>\n",
      "Explicit None Done\n",
      "Bare None\n",
      "Omit None\n"
     ]
    }
   ],
   "source": [
    "# Explicit return\n",
    "def exp_ret():\n",
    "    return None\n",
    "print(type(exp_ret()))\n",
    "\n",
    "print('Explicit', exp_ret(), \"Done\")\n",
    "\n",
    "# Bare return\n",
    "def bare_ret():\n",
    "    return\n",
    "\n",
    "print('Bare', bare_ret())\n",
    "\n",
    "# Implicit return\n",
    "def omit_ret():\n",
    "    # Placeholder for future code. Does nothing, but permits an empty function body\n",
    "    pass\n",
    "\n",
    "print('Omit', omit_ret())\n",
    "\n",
    "def empty_function():\n",
    "    pass"
   ]
  },
  {
   "cell_type": "markdown",
   "metadata": {},
   "source": [
    "## NoneType"
   ]
  },
  {
   "cell_type": "code",
   "execution_count": 2,
   "metadata": {},
   "outputs": [
    {
     "name": "stdout",
     "output_type": "stream",
     "text": [
      "Comparison:  True\n",
      "Type:  <class 'NoneType'>\n"
     ]
    }
   ],
   "source": [
    "# Check return type\n",
    "print('Comparison: ', exp_ret() == None)\n",
    "\n",
    "# NoneType is the class that implements the None object\n",
    "print('Type: ', type(exp_ret()))"
   ]
  }
 ],
 "metadata": {
  "kernelspec": {
   "display_name": "Python 3.9.12 ('base')",
   "language": "python",
   "name": "python3"
  },
  "language_info": {
   "codemirror_mode": {
    "name": "ipython",
    "version": 3
   },
   "file_extension": ".py",
   "mimetype": "text/x-python",
   "name": "python",
   "nbconvert_exporter": "python",
   "pygments_lexer": "ipython3",
   "version": "3.11.3"
  },
  "orig_nbformat": 4,
  "vscode": {
   "interpreter": {
    "hash": "40d444e15d4b5bb908f4b95c26d9b158a336fb6b786751c7d3022d89de8ad3f2"
   }
  }
 },
 "nbformat": 4,
 "nbformat_minor": 2
}
