{
 "cells": [
  {
   "cell_type": "markdown",
   "metadata": {},
   "source": [
    "# Traceback example"
   ]
  },
  {
   "cell_type": "code",
   "execution_count": 9,
   "metadata": {},
   "outputs": [],
   "source": [
    "def print_twice(phrase):\n",
    "    print(phrase, phrase)\n",
    "    print(joined)"
   ]
  },
  {
   "cell_type": "code",
   "execution_count": 8,
   "metadata": {},
   "outputs": [],
   "source": [
    "def print_joined_twice(part1, part2):\n",
    "    joined = part1 + part2\n",
    "    print_twice(joined)"
   ]
  },
  {
   "cell_type": "code",
   "execution_count": 10,
   "metadata": {},
   "outputs": [
    {
     "name": "stdout",
     "output_type": "stream",
     "text": [
      "Happy birthdayto you Happy birthdayto you\n"
     ]
    },
    {
     "ename": "NameError",
     "evalue": "name 'joined' is not defined",
     "output_type": "error",
     "traceback": [
      "\u001b[0;31m---------------------------------------------------------------------------\u001b[0m",
      "\u001b[0;31mNameError\u001b[0m                                 Traceback (most recent call last)",
      "\u001b[1;32m/Users/steven/teaching_git/csci2000u/Lectures/L09/2_traceback.ipynb Cell 4\u001b[0m line \u001b[0;36m5\n\u001b[1;32m      <a href='vscode-notebook-cell:/Users/steven/teaching_git/csci2000u/Lectures/L09/2_traceback.ipynb#W3sZmlsZQ%3D%3D?line=1'>2</a>\u001b[0m line2 \u001b[39m=\u001b[39m \u001b[39m\"\u001b[39m\u001b[39mto you\u001b[39m\u001b[39m\"\u001b[39m\n\u001b[1;32m      <a href='vscode-notebook-cell:/Users/steven/teaching_git/csci2000u/Lectures/L09/2_traceback.ipynb#W3sZmlsZQ%3D%3D?line=3'>4</a>\u001b[0m \u001b[39m# Invoke function\u001b[39;00m\n\u001b[0;32m----> <a href='vscode-notebook-cell:/Users/steven/teaching_git/csci2000u/Lectures/L09/2_traceback.ipynb#W3sZmlsZQ%3D%3D?line=4'>5</a>\u001b[0m print_joined_twice(line1, line2)\n",
      "\u001b[1;32m/Users/steven/teaching_git/csci2000u/Lectures/L09/2_traceback.ipynb Cell 4\u001b[0m line \u001b[0;36m3\n\u001b[1;32m      <a href='vscode-notebook-cell:/Users/steven/teaching_git/csci2000u/Lectures/L09/2_traceback.ipynb#W3sZmlsZQ%3D%3D?line=0'>1</a>\u001b[0m \u001b[39mdef\u001b[39;00m \u001b[39mprint_joined_twice\u001b[39m(part1, part2):\n\u001b[1;32m      <a href='vscode-notebook-cell:/Users/steven/teaching_git/csci2000u/Lectures/L09/2_traceback.ipynb#W3sZmlsZQ%3D%3D?line=1'>2</a>\u001b[0m     joined \u001b[39m=\u001b[39m part1 \u001b[39m+\u001b[39m part2\n\u001b[0;32m----> <a href='vscode-notebook-cell:/Users/steven/teaching_git/csci2000u/Lectures/L09/2_traceback.ipynb#W3sZmlsZQ%3D%3D?line=2'>3</a>\u001b[0m     print_twice(joined)\n",
      "\u001b[1;32m/Users/steven/teaching_git/csci2000u/Lectures/L09/2_traceback.ipynb Cell 4\u001b[0m line \u001b[0;36m3\n\u001b[1;32m      <a href='vscode-notebook-cell:/Users/steven/teaching_git/csci2000u/Lectures/L09/2_traceback.ipynb#W3sZmlsZQ%3D%3D?line=0'>1</a>\u001b[0m \u001b[39mdef\u001b[39;00m \u001b[39mprint_twice\u001b[39m(phrase):\n\u001b[1;32m      <a href='vscode-notebook-cell:/Users/steven/teaching_git/csci2000u/Lectures/L09/2_traceback.ipynb#W3sZmlsZQ%3D%3D?line=1'>2</a>\u001b[0m     \u001b[39mprint\u001b[39m(phrase, phrase)\n\u001b[0;32m----> <a href='vscode-notebook-cell:/Users/steven/teaching_git/csci2000u/Lectures/L09/2_traceback.ipynb#W3sZmlsZQ%3D%3D?line=2'>3</a>\u001b[0m     \u001b[39mprint\u001b[39m(joined)\n",
      "\u001b[0;31mNameError\u001b[0m: name 'joined' is not defined"
     ]
    }
   ],
   "source": [
    "line1 = \"Happy birthday\"\n",
    "line2 = \"to you\"\n",
    "\n",
    "# Invoke function\n",
    "print_joined_twice(line1, line2)"
   ]
  },
  {
   "cell_type": "code",
   "execution_count": null,
   "metadata": {},
   "outputs": [],
   "source": []
  }
 ],
 "metadata": {
  "kernelspec": {
   "display_name": "Python 3.9.12 ('base')",
   "language": "python",
   "name": "python3"
  },
  "language_info": {
   "codemirror_mode": {
    "name": "ipython",
    "version": 3
   },
   "file_extension": ".py",
   "mimetype": "text/x-python",
   "name": "python",
   "nbconvert_exporter": "python",
   "pygments_lexer": "ipython3",
   "version": "3.11.3"
  },
  "orig_nbformat": 4,
  "vscode": {
   "interpreter": {
    "hash": "40d444e15d4b5bb908f4b95c26d9b158a336fb6b786751c7d3022d89de8ad3f2"
   }
  }
 },
 "nbformat": 4,
 "nbformat_minor": 2
}
