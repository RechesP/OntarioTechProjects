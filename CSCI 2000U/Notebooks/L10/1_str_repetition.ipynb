{
 "cells": [
  {
   "cell_type": "markdown",
   "metadata": {},
   "source": [
    "## Strings"
   ]
  },
  {
   "cell_type": "markdown",
   "metadata": {},
   "source": [
    "### Concatenation and Repetition"
   ]
  },
  {
   "cell_type": "code",
   "execution_count": null,
   "metadata": {},
   "outputs": [],
   "source": [
    "# Concatenate\n",
    "msg = \"Hello \"  + \"world\\n\"\n",
    "print(msg)\n",
    "\n",
    "# Repetition\n",
    "print(3*msg)"
   ]
  },
  {
   "cell_type": "markdown",
   "metadata": {},
   "source": [
    "### Escape characters and multiline"
   ]
  },
  {
   "cell_type": "code",
   "execution_count": null,
   "metadata": {},
   "outputs": [],
   "source": [
    "# Treat as one string\n",
    "msg = 'This is a long string that\\\n",
    "    we will break over two lines'\n",
    "print(msg)\n",
    "\n",
    "# Escape chars\n",
    "print(\"Here is_\\t_a tab, a backslash\\\\, \\nnewline, \")\n",
    "\n",
    "# Triple-quoted multiline\n",
    "multi_line = \"\"\"This\n",
    "is\n",
    "multiline!\"\"\"\n",
    "\n",
    "print(multi_line)"
   ]
  },
  {
   "cell_type": "markdown",
   "metadata": {},
   "source": [
    "### F-strings"
   ]
  },
  {
   "cell_type": "code",
   "execution_count": null,
   "metadata": {},
   "outputs": [],
   "source": [
    "mean_sleep = 7.34698348\n",
    "msg = f'Average hours of sleep is {mean_sleep}'\n",
    "print(msg)\n",
    "\n",
    "msg = f'Average sleep = {mean_sleep:.2f}'\n",
    "print(msg)"
   ]
  },
  {
   "cell_type": "markdown",
   "metadata": {},
   "source": [
    "### String format method"
   ]
  },
  {
   "cell_type": "code",
   "execution_count": null,
   "metadata": {},
   "outputs": [],
   "source": [
    "# Named indexes\n",
    "msg1 = \"My name is {fname}, I'm {age}\".format(fname = \"Sandy\", age = 24)\n",
    "# Numbered indexes\n",
    "msg2 = \"My name is {0}, I'm {1}\".format(\"Sandy\",24)\n",
    "# Empty placeholders\n",
    "msg3 = \"My name is {}, I'm {}\".format(\"Sandy\",24) \n",
    "\n",
    "print(msg1)\n",
    "print(msg2)\n",
    "print(msg3)"
   ]
  }
 ],
 "metadata": {
  "kernelspec": {
   "display_name": "Python 3.9.12 ('base')",
   "language": "python",
   "name": "python3"
  },
  "language_info": {
   "codemirror_mode": {
    "name": "ipython",
    "version": 3
   },
   "file_extension": ".py",
   "mimetype": "text/x-python",
   "name": "python",
   "nbconvert_exporter": "python",
   "pygments_lexer": "ipython3",
   "version": "3.11.3"
  },
  "orig_nbformat": 4,
  "vscode": {
   "interpreter": {
    "hash": "40d444e15d4b5bb908f4b95c26d9b158a336fb6b786751c7d3022d89de8ad3f2"
   }
  }
 },
 "nbformat": 4,
 "nbformat_minor": 2
}
