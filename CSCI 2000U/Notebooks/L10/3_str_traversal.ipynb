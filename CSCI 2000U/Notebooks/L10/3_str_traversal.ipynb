{
 "cells": [
  {
   "cell_type": "markdown",
   "metadata": {},
   "source": [
    "## Traversal"
   ]
  },
  {
   "cell_type": "code",
   "execution_count": 1,
   "metadata": {},
   "outputs": [
    {
     "name": "stdout",
     "output_type": "stream",
     "text": [
      "Jack\n",
      "Kack\n",
      "Lack\n",
      "Mack\n",
      "Nack\n",
      "Oack\n",
      "Pack\n",
      "Qack\n"
     ]
    }
   ],
   "source": [
    "# For loop\n",
    "prefixes = \"JKLMNOPQ\" \n",
    "suffix = \"ack\"\n",
    "for letter in prefixes: \n",
    "    print(letter + suffix)"
   ]
  },
  {
   "cell_type": "code",
   "execution_count": 2,
   "metadata": {},
   "outputs": [
    {
     "data": {
      "text/plain": [
       "False"
      ]
     },
     "execution_count": 2,
     "metadata": {},
     "output_type": "execute_result"
    }
   ],
   "source": [
    "\"ahh\" in \"ahaha\""
   ]
  },
  {
   "cell_type": "markdown",
   "metadata": {},
   "source": [
    "### Vowel removal"
   ]
  },
  {
   "cell_type": "code",
   "execution_count": 1,
   "metadata": {},
   "outputs": [
    {
     "data": {
      "text/plain": [
       "'Ths s  fn dy, wlcm!'"
      ]
     },
     "execution_count": 1,
     "metadata": {},
     "output_type": "execute_result"
    }
   ],
   "source": [
    "# Remove vowels\n",
    "def remove_vowels(original_str):    \n",
    "    # vowels contains all the letters we want to remove\n",
    "    vowels = \"aeiouAEIOU\"\n",
    "    str_without_vowels = \"\"\n",
    "    # scan through each letter in the input string\n",
    "    for letter in original_str: \n",
    "        # check if the letter is not in the disallowed list of letters \n",
    "        if letter not in vowels:\n",
    "            # the letter is allowed, add it to the result \n",
    "            str_without_vowels += letter \n",
    "    return str_without_vowels\n",
    "\n",
    "remove_vowels(\"This is a fine day, welcome!\")"
   ]
  },
  {
   "cell_type": "markdown",
   "metadata": {},
   "source": [
    "**Class challenge**"
   ]
  },
  {
   "cell_type": "code",
   "execution_count": 2,
   "metadata": {},
   "outputs": [
    {
     "name": "stdout",
     "output_type": "stream",
     "text": [
      "!gnidrocer a si siht ,dlrow olleH\n",
      "!gnidrocer a si siht ,dlrow olleH\n"
     ]
    }
   ],
   "source": [
    "# Reverse a string\n",
    "def reverse_my_string(s):\n",
    "    reversed_str = \"\"\n",
    "    for letter in s:\n",
    "        reversed_str = letter + reversed_str\n",
    "    return reversed_str\n",
    "\n",
    "msg = \"Hello world, this is a recording!\"\n",
    "print(reverse_my_string(msg))\n",
    "\n",
    "print(msg[::-1])"
   ]
  },
  {
   "cell_type": "code",
   "execution_count": 4,
   "metadata": {},
   "outputs": [
    {
     "name": "stdout",
     "output_type": "stream",
     "text": [
      "dlrow olleH\n",
      "dlrow olleH\n"
     ]
    }
   ],
   "source": [
    "# Reverses input string\n",
    "def reverse_string(s):\n",
    "    rev_str = \"\"\n",
    "    for letter in s:\n",
    "        rev_str = letter + rev_str\n",
    "    return rev_str\n",
    "\n",
    "print(reverse_string(\"Hello world\"))\n",
    "msg = \"Hello world\"\n",
    "print(msg[::-1])"
   ]
  },
  {
   "cell_type": "markdown",
   "metadata": {},
   "source": [
    "### String methods"
   ]
  },
  {
   "cell_type": "code",
   "execution_count": 7,
   "metadata": {},
   "outputs": [
    {
     "name": "stdout",
     "output_type": "stream",
     "text": [
      "HELLO WORLD, THIS IS CSCI2000U LOW DOWN. WELCOME BACK TO THE CLASSROOM, AGAIN.\n",
      "Hello world, this is csci2000u low down. welcome back to the classroom, again.\n",
      "2\n",
      "2\n"
     ]
    },
    {
     "data": {
      "text/plain": [
       "False"
      ]
     },
     "execution_count": 7,
     "metadata": {},
     "output_type": "execute_result"
    }
   ],
   "source": [
    "my_str = 'hello world, this is csci2000u low down. welcome back to the classroom, again.'\n",
    "print(my_str.upper())\n",
    "print(my_str.capitalize())\n",
    "print(my_str.count('lo'))\n",
    "print(\"ahahaha\".count(\"aha\"))\n",
    "\n",
    "#print(\"9834\".isnumeric())"
   ]
  },
  {
   "cell_type": "code",
   "execution_count": 7,
   "metadata": {},
   "outputs": [
    {
     "name": "stdout",
     "output_type": "stream",
     "text": [
      "Help on method_descriptor:\n",
      "\n",
      "capitalize(self, /)\n",
      "    Return a capitalized version of the string.\n",
      "    \n",
      "    More specifically, make the first character have upper case and the rest lower\n",
      "    case.\n",
      "\n",
      "Foo\n"
     ]
    }
   ],
   "source": [
    "help(str.capitalize)\n",
    "print(\"foo\".capitalize())"
   ]
  },
  {
   "cell_type": "code",
   "execution_count": 15,
   "metadata": {},
   "outputs": [
    {
     "name": "stdout",
     "output_type": "stream",
     "text": [
      "S.find(sub[, start[, end]]) -> int\n",
      "\n",
      "Return the lowest index in S where substring sub is found,\n",
      "such that sub is contained within S[start:end].  Optional\n",
      "arguments start and end are interpreted as in slice notation.\n",
      "\n",
      "Return -1 on failure.\n",
      "\n",
      "--- ---\n",
      "\n",
      "Help on method_descriptor:\n",
      "\n",
      "find(...)\n",
      "    S.find(sub[, start[, end]]) -> int\n",
      "    \n",
      "    Return the lowest index in S where substring sub is found,\n",
      "    such that sub is contained within S[start:end].  Optional\n",
      "    arguments start and end are interpreted as in slice notation.\n",
      "    \n",
      "    Return -1 on failure.\n",
      "\n"
     ]
    }
   ],
   "source": [
    "print(str.find.__doc__)\n",
    "print(\"\\n--- ---\\n\")\n",
    "help(str.find)"
   ]
  },
  {
   "cell_type": "code",
   "execution_count": 9,
   "metadata": {},
   "outputs": [
    {
     "data": {
      "text/plain": [
       "-1"
      ]
     },
     "execution_count": 9,
     "metadata": {},
     "output_type": "execute_result"
    }
   ],
   "source": [
    "fruit = 'banana'\n",
    "fruit.find('bana',1,6)"
   ]
  },
  {
   "cell_type": "code",
   "execution_count": null,
   "metadata": {},
   "outputs": [],
   "source": []
  }
 ],
 "metadata": {
  "kernelspec": {
   "display_name": "Python 3.9.12 ('base')",
   "language": "python",
   "name": "python3"
  },
  "language_info": {
   "codemirror_mode": {
    "name": "ipython",
    "version": 3
   },
   "file_extension": ".py",
   "mimetype": "text/x-python",
   "name": "python",
   "nbconvert_exporter": "python",
   "pygments_lexer": "ipython3",
   "version": "3.11.3"
  },
  "orig_nbformat": 4,
  "vscode": {
   "interpreter": {
    "hash": "40d444e15d4b5bb908f4b95c26d9b158a336fb6b786751c7d3022d89de8ad3f2"
   }
  }
 },
 "nbformat": 4,
 "nbformat_minor": 2
}
