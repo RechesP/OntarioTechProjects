{
 "cells": [
  {
   "cell_type": "markdown",
   "metadata": {},
   "source": [
    "### Lists"
   ]
  },
  {
   "cell_type": "code",
   "execution_count": 2,
   "metadata": {},
   "outputs": [
    {
     "name": "stdout",
     "output_type": "stream",
     "text": [
      "['Apple', 4, 4.3234, False, False]\n"
     ]
    }
   ],
   "source": [
    "# Initialise list\n",
    "elements = [\"Apple\", 4, 4.3234, False, False]\n",
    "print(elements)"
   ]
  },
  {
   "cell_type": "markdown",
   "metadata": {},
   "source": [
    "**Modifying values**"
   ]
  },
  {
   "cell_type": "code",
   "execution_count": 3,
   "metadata": {},
   "outputs": [
    {
     "name": "stdout",
     "output_type": "stream",
     "text": [
      "['Banana', 4, 4.3234, False, True]\n"
     ]
    }
   ],
   "source": [
    "# Modify first and last elements in our list\n",
    "elements[0] = \"Banana\"\n",
    "elements[-1] = True\n",
    "print(elements)"
   ]
  },
  {
   "cell_type": "markdown",
   "metadata": {},
   "source": [
    "**Accessing values**"
   ]
  },
  {
   "cell_type": "code",
   "execution_count": 4,
   "metadata": {},
   "outputs": [
    {
     "name": "stdout",
     "output_type": "stream",
     "text": [
      "I would like to eat a PEACH\n"
     ]
    }
   ],
   "source": [
    "fruits = ['apple','pear','peach','banana','watermelon']\n",
    "msg = f\"I would like to eat a {fruits[2].upper()}\"\n",
    "print(msg)"
   ]
  },
  {
   "cell_type": "markdown",
   "metadata": {},
   "source": [
    "**Appending values**"
   ]
  },
  {
   "cell_type": "code",
   "execution_count": 5,
   "metadata": {},
   "outputs": [
    {
     "name": "stdout",
     "output_type": "stream",
     "text": [
      "['apple', 'pear', 'peach', 'banana', 'watermelon', 'strawberries']\n"
     ]
    }
   ],
   "source": [
    "fruits.append('strawberries')\n",
    "print(fruits)"
   ]
  },
  {
   "cell_type": "markdown",
   "metadata": {},
   "source": [
    "**Inserting values**"
   ]
  },
  {
   "cell_type": "code",
   "execution_count": 6,
   "metadata": {},
   "outputs": [
    {
     "name": "stdout",
     "output_type": "stream",
     "text": [
      "['MANGOES', 'apple', 'pear', 'peach', 'banana', 'watermelon', 'strawberries']\n"
     ]
    }
   ],
   "source": [
    "fruits.insert(0, 'MANGOES')\n",
    "print(fruits)"
   ]
  },
  {
   "cell_type": "markdown",
   "metadata": {},
   "source": [
    "**Remove values**"
   ]
  },
  {
   "cell_type": "code",
   "execution_count": 7,
   "metadata": {},
   "outputs": [
    {
     "name": "stdout",
     "output_type": "stream",
     "text": [
      "['MANGOES', 'apple', 'pear', 'peach', 'banana', 'watermelon', 'strawberries']\n",
      "['pear', 'peach', 'banana', 'watermelon', 'strawberries']\n"
     ]
    }
   ],
   "source": [
    "print(fruits)\n",
    "# Delete first two fruits\n",
    "del fruits[0:2]\n",
    "print(fruits)"
   ]
  },
  {
   "cell_type": "code",
   "execution_count": 8,
   "metadata": {},
   "outputs": [
    {
     "name": "stdout",
     "output_type": "stream",
     "text": [
      "The last fruit I ate was STRAWBERRIES\n",
      "['apple', 'pear', 'peach', 'banana', 'watermelon']\n"
     ]
    }
   ],
   "source": [
    "fruits = ['apple', 'pear', 'peach', 'banana', 'watermelon', 'strawberries']\n",
    "last_fruit = fruits.pop()\n",
    "print(f\"The last fruit I ate was {last_fruit.upper()}\")\n",
    "print(fruits)"
   ]
  },
  {
   "cell_type": "code",
   "execution_count": 9,
   "metadata": {},
   "outputs": [
    {
     "name": "stdout",
     "output_type": "stream",
     "text": [
      "['apple', 'pear', 'peach', 'watermelon', 'strawberries']\n"
     ]
    }
   ],
   "source": [
    "fruits = ['apple', 'pear', 'peach', 'banana', 'watermelon', 'strawberries']\n",
    "fruits.remove('banana')\n",
    "print(fruits)"
   ]
  },
  {
   "cell_type": "markdown",
   "metadata": {},
   "source": [
    "**Sorting values**"
   ]
  },
  {
   "cell_type": "code",
   "execution_count": 10,
   "metadata": {},
   "outputs": [
    {
     "name": "stdout",
     "output_type": "stream",
     "text": [
      "['apple', 'banana', 'peach', 'pear', 'strawberries', 'watermelon']\n"
     ]
    }
   ],
   "source": [
    "fruits = ['apple', 'pear', 'peach', 'banana', 'watermelon', 'strawberries']\n",
    "fruits.sort()\n",
    "print(fruits)"
   ]
  },
  {
   "cell_type": "markdown",
   "metadata": {},
   "source": [
    "**Temporary sorting**"
   ]
  },
  {
   "cell_type": "code",
   "execution_count": 11,
   "metadata": {},
   "outputs": [
    {
     "name": "stdout",
     "output_type": "stream",
     "text": [
      "['apple', 'banana', 'peach', 'pear', 'strawberries', 'watermelon']\n",
      "['apple', 'pear', 'peach', 'banana', 'watermelon', 'strawberries']\n"
     ]
    }
   ],
   "source": [
    "fruits = ['apple', 'pear', 'peach', 'banana', 'watermelon', 'strawberries']\n",
    "print(sorted(fruits))\n",
    "print(fruits)"
   ]
  },
  {
   "cell_type": "markdown",
   "metadata": {},
   "source": [
    "**Iterating over a list**"
   ]
  },
  {
   "cell_type": "code",
   "execution_count": 12,
   "metadata": {},
   "outputs": [
    {
     "name": "stdout",
     "output_type": "stream",
     "text": [
      "apple\n",
      "pear\n",
      "peach\n",
      "banana\n",
      "watermelon\n",
      "strawberries\n"
     ]
    }
   ],
   "source": [
    "fruits = ['apple', 'pear', 'peach', 'banana', 'watermelon', 'strawberries']\n",
    "for piece in fruits:\n",
    "    print(piece)"
   ]
  },
  {
   "cell_type": "markdown",
   "metadata": {},
   "source": [
    "**Concatenate lists**"
   ]
  },
  {
   "cell_type": "code",
   "execution_count": 13,
   "metadata": {},
   "outputs": [
    {
     "name": "stdout",
     "output_type": "stream",
     "text": [
      "['Mon', 'Tue', 'Wed', 'Mon', 'Tue', 'Wed']\n"
     ]
    }
   ],
   "source": [
    "days = [\"Mon\",\"Tue\",\"Wed\"]\n",
    "print(days + days)"
   ]
  },
  {
   "cell_type": "code",
   "execution_count": 14,
   "metadata": {},
   "outputs": [
    {
     "name": "stdout",
     "output_type": "stream",
     "text": [
      "foobar\n"
     ]
    }
   ],
   "source": [
    "print(\"foo\"+\"bar\")"
   ]
  },
  {
   "cell_type": "code",
   "execution_count": 15,
   "metadata": {},
   "outputs": [
    {
     "name": "stdout",
     "output_type": "stream",
     "text": [
      "[0, 1, 2, 3]\n"
     ]
    }
   ],
   "source": [
    "print([0,1]+[2,3])"
   ]
  }
 ],
 "metadata": {
  "kernelspec": {
   "display_name": "Python 3.9.12 ('base')",
   "language": "python",
   "name": "python3"
  },
  "language_info": {
   "codemirror_mode": {
    "name": "ipython",
    "version": 3
   },
   "file_extension": ".py",
   "mimetype": "text/x-python",
   "name": "python",
   "nbconvert_exporter": "python",
   "pygments_lexer": "ipython3",
   "version": "3.11.3"
  },
  "orig_nbformat": 4,
  "vscode": {
   "interpreter": {
    "hash": "40d444e15d4b5bb908f4b95c26d9b158a336fb6b786751c7d3022d89de8ad3f2"
   }
  }
 },
 "nbformat": 4,
 "nbformat_minor": 2
}
