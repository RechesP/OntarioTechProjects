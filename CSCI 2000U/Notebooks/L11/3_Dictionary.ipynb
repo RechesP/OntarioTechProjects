{
 "cells": [
  {
   "cell_type": "markdown",
   "metadata": {},
   "source": [
    "### Dictionaries"
   ]
  },
  {
   "cell_type": "code",
   "execution_count": 1,
   "metadata": {},
   "outputs": [
    {
     "name": "stdout",
     "output_type": "stream",
     "text": [
      "{'name': 'Fred', 'age': 32, 'is_single': True}\n",
      "32\n"
     ]
    }
   ],
   "source": [
    "# Initialise\n",
    "person = {'name' : 'Fred', 'age' : 32, 'is_single' : True}\n",
    "print(person)\n",
    "print(person['age'])"
   ]
  },
  {
   "cell_type": "markdown",
   "metadata": {},
   "source": [
    "**Adding to dict**"
   ]
  },
  {
   "cell_type": "code",
   "execution_count": 2,
   "metadata": {},
   "outputs": [
    {
     "name": "stdout",
     "output_type": "stream",
     "text": [
      "{'name': 'Fred', 'age': 32, 'is_single': True, 'salary': 48000}\n"
     ]
    }
   ],
   "source": [
    "# Give the person a salary\n",
    "person['salary'] = 48000\n",
    "print(person)"
   ]
  },
  {
   "cell_type": "code",
   "execution_count": 3,
   "metadata": {},
   "outputs": [
    {
     "name": "stdout",
     "output_type": "stream",
     "text": [
      "{'length': 32, 'width': -999, 'height': 12}\n"
     ]
    }
   ],
   "source": [
    "# Unique keys\n",
    "dims = {'length' : 32, 'width' : 64, 'height' : 12, 'width' : -999}\n",
    "print(dims)"
   ]
  },
  {
   "cell_type": "markdown",
   "metadata": {},
   "source": [
    "**Modifying values**"
   ]
  },
  {
   "cell_type": "code",
   "execution_count": 4,
   "metadata": {},
   "outputs": [
    {
     "name": "stdout",
     "output_type": "stream",
     "text": [
      "{'name': 'Alice', 'age': 32, 'is_single': True}\n"
     ]
    }
   ],
   "source": [
    "person = {'name' : 'Fred', 'age' : 32, 'is_single' : True}\n",
    "person['name'] = 'Alice'\n",
    "print(person)"
   ]
  },
  {
   "cell_type": "markdown",
   "metadata": {},
   "source": [
    "**Removing values**"
   ]
  },
  {
   "cell_type": "code",
   "execution_count": 5,
   "metadata": {},
   "outputs": [
    {
     "name": "stdout",
     "output_type": "stream",
     "text": [
      "{'age': 32, 'is_single': True}\n"
     ]
    }
   ],
   "source": [
    "person = {'name' : 'Fred', 'age' : 32, 'is_single' : True}\n",
    "del person['name']\n",
    "print(person)"
   ]
  },
  {
   "cell_type": "code",
   "execution_count": 6,
   "metadata": {},
   "outputs": [
    {
     "data": {
      "text/plain": [
       "dict_items"
      ]
     },
     "execution_count": 6,
     "metadata": {},
     "output_type": "execute_result"
    }
   ],
   "source": [
    "type(person.items())"
   ]
  },
  {
   "cell_type": "markdown",
   "metadata": {},
   "source": [
    "**Iterating over a dictionary**"
   ]
  },
  {
   "cell_type": "code",
   "execution_count": 7,
   "metadata": {},
   "outputs": [
    {
     "name": "stdout",
     "output_type": "stream",
     "text": [
      "age 32\n",
      "is_single True\n"
     ]
    }
   ],
   "source": [
    "# Iterating over a dictionary with items\n",
    "for k,v in person.items():\n",
    "    print(k, v)"
   ]
  },
  {
   "cell_type": "code",
   "execution_count": 8,
   "metadata": {},
   "outputs": [
    {
     "name": "stdout",
     "output_type": "stream",
     "text": [
      "('age', 32)\n",
      "<class 'tuple'>\n",
      "('is_single', True)\n",
      "<class 'tuple'>\n"
     ]
    }
   ],
   "source": [
    "# Inspecting items\n",
    "for item in person.items():\n",
    "    print(item)\n",
    "    print(type(item))"
   ]
  },
  {
   "cell_type": "code",
   "execution_count": 9,
   "metadata": {},
   "outputs": [
    {
     "name": "stdout",
     "output_type": "stream",
     "text": [
      "name\n",
      "age\n",
      "is_single\n"
     ]
    }
   ],
   "source": [
    "# Print just the keys\n",
    "person = {'name' : 'Fred', 'age' : 32, 'is_single' : True}\n",
    "for key in person.keys():\n",
    "    print(key)"
   ]
  },
  {
   "cell_type": "code",
   "execution_count": 10,
   "metadata": {},
   "outputs": [
    {
     "name": "stdout",
     "output_type": "stream",
     "text": [
      "Fred\n",
      "32\n",
      "True\n"
     ]
    }
   ],
   "source": [
    "# Print values\n",
    "for value in person.values():\n",
    "    print(value)"
   ]
  },
  {
   "cell_type": "code",
   "execution_count": 11,
   "metadata": {},
   "outputs": [
    {
     "name": "stdout",
     "output_type": "stream",
     "text": [
      "d1 Monday\n",
      "d2 Tuesday\n",
      "d3 Wednesday\n",
      "d4 Thursday\n",
      "d5 Friday\n"
     ]
    }
   ],
   "source": [
    "# Sorting by keys\n",
    "days = {'d3' : 'Wednesday', 'd1' : 'Monday', 'd5' : 'Friday', 'd2' : 'Tuesday', 'd4' : 'Thursday'}\n",
    "for k,v in sorted(days.items()):\n",
    "    print(k, v)"
   ]
  },
  {
   "cell_type": "code",
   "execution_count": null,
   "metadata": {},
   "outputs": [],
   "source": []
  }
 ],
 "metadata": {
  "kernelspec": {
   "display_name": "Python 3.9.12 ('base')",
   "language": "python",
   "name": "python3"
  },
  "language_info": {
   "codemirror_mode": {
    "name": "ipython",
    "version": 3
   },
   "file_extension": ".py",
   "mimetype": "text/x-python",
   "name": "python",
   "nbconvert_exporter": "python",
   "pygments_lexer": "ipython3",
   "version": "3.9.12"
  },
  "orig_nbformat": 4,
  "vscode": {
   "interpreter": {
    "hash": "40d444e15d4b5bb908f4b95c26d9b158a336fb6b786751c7d3022d89de8ad3f2"
   }
  }
 },
 "nbformat": 4,
 "nbformat_minor": 2
}
