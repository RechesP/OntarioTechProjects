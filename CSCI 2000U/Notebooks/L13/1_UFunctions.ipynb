{
 "cells": [
  {
   "cell_type": "markdown",
   "metadata": {},
   "source": [
    "### L13 - Array programming 2"
   ]
  },
  {
   "cell_type": "markdown",
   "metadata": {},
   "source": [
    "**1. Universal functions**"
   ]
  },
  {
   "cell_type": "code",
   "execution_count": 1,
   "metadata": {},
   "outputs": [],
   "source": [
    "import numpy as np"
   ]
  },
  {
   "cell_type": "code",
   "execution_count": null,
   "metadata": {},
   "outputs": [],
   "source": [
    "# Initalise\n",
    "d1 = np.array([1,4,9,16,25,36,37])\n",
    "len(d1)"
   ]
  },
  {
   "cell_type": "code",
   "execution_count": null,
   "metadata": {},
   "outputs": [],
   "source": [
    "# Sqrt function\n",
    "np.sqrt(d1)"
   ]
  },
  {
   "cell_type": "code",
   "execution_count": null,
   "metadata": {},
   "outputs": [],
   "source": [
    "# Initialise 2D array of -ve and +ve nums\n",
    "d2 = np.linspace(start = -10, stop = 10, num = 20).reshape(5,4)\n",
    "print(d2)\n",
    "np.abs(d2)"
   ]
  },
  {
   "cell_type": "code",
   "execution_count": null,
   "metadata": {},
   "outputs": [],
   "source": [
    "# Mixing\n",
    "d1 = np.arange(start = 1, stop = 20, step = 4)\n",
    "d2 = list(d1)\n",
    "print(f\"d1:\\t{d1}\")\n",
    "print(f\"d1+d2:\\t{np.add(d1, d2)}\")"
   ]
  },
  {
   "cell_type": "code",
   "execution_count": null,
   "metadata": {},
   "outputs": [],
   "source": [
    "# Broadcasting\n",
    "a = 5\n",
    "print(f\"d1:\\t{d1}\")\n",
    "print(f\"d1*b:\\t{np.multiply(d1, a)}\")"
   ]
  },
  {
   "cell_type": "code",
   "execution_count": null,
   "metadata": {},
   "outputs": [],
   "source": [
    "d1 = np.linspace(start=1, stop=12, num=12).reshape(3,4)\n",
    "d2 = np.array([1,2,3,4])\n",
    "print(f\"d1.shape:\\t{d1.shape}\")\n",
    "print(f\"d2.shape:\\t{d2.shape}\")\n",
    "print(d1,\"\\n--- [d1*d2] ---\")\n",
    "print(np.multiply(d1,d2))\n"
   ]
  },
  {
   "cell_type": "markdown",
   "metadata": {},
   "source": [
    "**2. Indexing and slicing**"
   ]
  },
  {
   "cell_type": "code",
   "execution_count": null,
   "metadata": {},
   "outputs": [],
   "source": [
    "# Four students each with 3 exam grades\n",
    "grades = np.array([[75, 59, 60], [100, 85, 92],\n",
    "                   [55, 78, 93], [14, 88, 65]])\n",
    "print(grades)\n",
    "# Select a specific exam result:\n",
    "print(grades[1,2])"
   ]
  },
  {
   "cell_type": "code",
   "execution_count": null,
   "metadata": {},
   "outputs": [],
   "source": [
    "print(grades,\"\\n-----\")\n",
    "# Select row 1\n",
    "print(grades[1,],\"\\n-----\")\n",
    "# Select rows 0 and 1\n",
    "print(grades[0:2,1],\"\\n-----\")\n",
    "# Select all rows in column 1\n",
    "print(grades[:,1])"
   ]
  },
  {
   "cell_type": "code",
   "execution_count": null,
   "metadata": {},
   "outputs": [],
   "source": [
    "print(grades,\"\\n-----\")\n",
    "# All columns, rows 1 and 3\n",
    "grades[[1,3], :]"
   ]
  }
 ],
 "metadata": {
  "kernelspec": {
   "display_name": "Python 3.9.12 ('base')",
   "language": "python",
   "name": "python3"
  },
  "language_info": {
   "codemirror_mode": {
    "name": "ipython",
    "version": 3
   },
   "file_extension": ".py",
   "mimetype": "text/x-python",
   "name": "python",
   "nbconvert_exporter": "python",
   "pygments_lexer": "ipython3",
   "version": "3.11.3"
  },
  "orig_nbformat": 4,
  "vscode": {
   "interpreter": {
    "hash": "40d444e15d4b5bb908f4b95c26d9b158a336fb6b786751c7d3022d89de8ad3f2"
   }
  }
 },
 "nbformat": 4,
 "nbformat_minor": 2
}
