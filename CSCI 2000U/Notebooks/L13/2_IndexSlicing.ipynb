{
 "cells": [
  {
   "cell_type": "markdown",
   "metadata": {},
   "source": [
    "**2. Indexing and slicing**"
   ]
  },
  {
   "cell_type": "code",
   "execution_count": 1,
   "metadata": {},
   "outputs": [],
   "source": [
    "import numpy as np"
   ]
  },
  {
   "cell_type": "code",
   "execution_count": null,
   "metadata": {},
   "outputs": [],
   "source": [
    "# Four students each with 3 exam grades\n",
    "grades = np.array([[75, 59, 60], [100, 85, 92],\n",
    "                   [55, 78, 93], [14, 88, 65]])\n",
    "print(grades)\n",
    "# Select a specific exam result:\n",
    "print(grades[1,2])"
   ]
  },
  {
   "cell_type": "code",
   "execution_count": null,
   "metadata": {},
   "outputs": [],
   "source": [
    "print(grades,\"\\n-----\")\n",
    "# Select row 1\n",
    "print(grades[1,])\n",
    "# Select rows 0 and 1\n",
    "print(grades[0:2,1])\n",
    "# Select all rows in column 1\n",
    "print(grades[:,1])"
   ]
  },
  {
   "cell_type": "code",
   "execution_count": null,
   "metadata": {},
   "outputs": [],
   "source": [
    "print(grades,\"\\n-----\")\n",
    "# Rows 1 and 3, all cols\n",
    "print(grades[[1,3], :],\"\\n-----\")\n",
    "# Rows 1 and 3, cols 0 and 1\n",
    "print(grades[[1,3], :2])"
   ]
  },
  {
   "cell_type": "code",
   "execution_count": null,
   "metadata": {},
   "outputs": [],
   "source": []
  }
 ],
 "metadata": {
  "kernelspec": {
   "display_name": "Python 3.9.12 ('base')",
   "language": "python",
   "name": "python3"
  },
  "language_info": {
   "codemirror_mode": {
    "name": "ipython",
    "version": 3
   },
   "file_extension": ".py",
   "mimetype": "text/x-python",
   "name": "python",
   "nbconvert_exporter": "python",
   "pygments_lexer": "ipython3",
   "version": "3.9.12"
  },
  "orig_nbformat": 4,
  "vscode": {
   "interpreter": {
    "hash": "40d444e15d4b5bb908f4b95c26d9b158a336fb6b786751c7d3022d89de8ad3f2"
   }
  }
 },
 "nbformat": 4,
 "nbformat_minor": 2
}
