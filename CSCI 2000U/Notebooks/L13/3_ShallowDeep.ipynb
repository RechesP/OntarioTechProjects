{
 "cells": [
  {
   "cell_type": "markdown",
   "metadata": {},
   "source": [
    "**3. Shallow vs deep copies**"
   ]
  },
  {
   "cell_type": "code",
   "execution_count": 1,
   "metadata": {},
   "outputs": [],
   "source": [
    "import numpy as np"
   ]
  },
  {
   "cell_type": "code",
   "execution_count": 2,
   "metadata": {},
   "outputs": [
    {
     "name": "stdout",
     "output_type": "stream",
     "text": [
      "nums: [1 2 3 4 5]\n",
      "nums2: [1 2 3 4 5]\n",
      "[1 2 3 4 5]\n",
      "--- Modify nums[1] only ---\n",
      "nums: [  1 -99   3   4   5]\n",
      "nums2: [  1 -99   3   4   5]\n"
     ]
    }
   ],
   "source": [
    "# Original array\n",
    "nums = np.arange(1, 6)\n",
    "print(f\"nums: {nums}\")\n",
    "# Shallow copy\n",
    "nums2 = nums.view()\n",
    "print(f\"nums2: {nums}\")\n",
    "print(nums2)\n",
    "# Modify nums only\n",
    "print(\"--- Modify nums[1] only ---\")\n",
    "nums[1] = -99\n",
    "print(f\"nums: {nums}\")\n",
    "print(f\"nums2: {nums2}\")"
   ]
  },
  {
   "cell_type": "code",
   "execution_count": 3,
   "metadata": {},
   "outputs": [
    {
     "name": "stdout",
     "output_type": "stream",
     "text": [
      "nums: [  1 -99   3   4   5] \n",
      "----\n",
      "nums: [101   1 103 104 105]\n",
      "nums2: [101   1 103 104 105]\n"
     ]
    }
   ],
   "source": [
    "print(f\"nums: {nums}\",\"\\n----\")\n",
    "# Modify view object only\n",
    "nums2 += 100\n",
    "print(f\"nums: {nums}\")\n",
    "print(f\"nums2: {nums2}\")"
   ]
  },
  {
   "cell_type": "code",
   "execution_count": 4,
   "metadata": {},
   "outputs": [
    {
     "name": "stdout",
     "output_type": "stream",
     "text": [
      "nums:\t2863358877040\n",
      "nums2:\t2863358877520\n"
     ]
    }
   ],
   "source": [
    "# Object iD\n",
    "print(f\"nums:\\t{id(nums)}\")\n",
    "print(f\"nums2:\\t{id(nums2)}\")"
   ]
  },
  {
   "cell_type": "code",
   "execution_count": 5,
   "metadata": {},
   "outputs": [
    {
     "name": "stdout",
     "output_type": "stream",
     "text": [
      "<class 'numpy.ndarray'>\n",
      "<class 'numpy.ndarray'>\n"
     ]
    }
   ],
   "source": [
    "# Check types\n",
    "print(type(nums))\n",
    "print(type(nums2))"
   ]
  },
  {
   "cell_type": "code",
   "execution_count": 6,
   "metadata": {},
   "outputs": [
    {
     "name": "stdout",
     "output_type": "stream",
     "text": [
      "[1 2 3]\n",
      "nums ID:\t2863354791376\n",
      "n_slice ID:\t2863358878000\n"
     ]
    }
   ],
   "source": [
    "# Slice views\n",
    "nums = np.arange(1, 6)\n",
    "n_slice = nums[0:3]\n",
    "print(n_slice)\n",
    "# Check IDs\n",
    "print(f\"nums ID:\\t{id(nums)}\")\n",
    "print(f\"n_slice ID:\\t{id(n_slice)}\")"
   ]
  },
  {
   "cell_type": "code",
   "execution_count": 7,
   "metadata": {},
   "outputs": [
    {
     "name": "stdout",
     "output_type": "stream",
     "text": [
      "nums:\t\t[10 20 30 40 50]\n",
      "n_slice:\t[10 20 30]\n"
     ]
    }
   ],
   "source": [
    "# Modify nums\n",
    "nums *= 10\n",
    "print(f\"nums:\\t\\t{nums}\")\n",
    "print(f\"n_slice:\\t{n_slice}\")"
   ]
  },
  {
   "cell_type": "code",
   "execution_count": 8,
   "metadata": {},
   "outputs": [
    {
     "name": "stdout",
     "output_type": "stream",
     "text": [
      "50\n"
     ]
    },
    {
     "ename": "IndexError",
     "evalue": "index 4 is out of bounds for axis 0 with size 3",
     "output_type": "error",
     "traceback": [
      "\u001b[1;31m---------------------------------------------------------------------------\u001b[0m",
      "\u001b[1;31mIndexError\u001b[0m                                Traceback (most recent call last)",
      "Cell \u001b[1;32mIn[8], line 3\u001b[0m\n\u001b[0;32m      1\u001b[0m \u001b[38;5;66;03m# View of only those elements\u001b[39;00m\n\u001b[0;32m      2\u001b[0m \u001b[38;5;28mprint\u001b[39m(nums[\u001b[38;5;241m4\u001b[39m])\n\u001b[1;32m----> 3\u001b[0m \u001b[38;5;28mprint\u001b[39m(n_slice[\u001b[38;5;241m4\u001b[39m])\n",
      "\u001b[1;31mIndexError\u001b[0m: index 4 is out of bounds for axis 0 with size 3"
     ]
    }
   ],
   "source": [
    "# View of only those elements\n",
    "print(nums[4])\n",
    "print(n_slice[4])"
   ]
  },
  {
   "cell_type": "code",
   "execution_count": null,
   "metadata": {},
   "outputs": [
    {
     "ename": "NameError",
     "evalue": "name 'np' is not defined",
     "output_type": "error",
     "traceback": [
      "\u001b[1;31m---------------------------------------------------------------------------\u001b[0m",
      "\u001b[1;31mNameError\u001b[0m                                 Traceback (most recent call last)",
      "Cell \u001b[1;32mIn[1], line 1\u001b[0m\n\u001b[1;32m----> 1\u001b[0m nums \u001b[38;5;241m=\u001b[39m np\u001b[38;5;241m.\u001b[39marange(\u001b[38;5;241m1\u001b[39m, \u001b[38;5;241m6\u001b[39m)\n\u001b[0;32m      2\u001b[0m \u001b[38;5;66;03m# Deep copy\u001b[39;00m\n\u001b[0;32m      3\u001b[0m n_dcopy \u001b[38;5;241m=\u001b[39m nums\u001b[38;5;241m.\u001b[39mcopy()\n",
      "\u001b[1;31mNameError\u001b[0m: name 'np' is not defined"
     ]
    }
   ],
   "source": [
    "nums = np.arange(1, 6)\n",
    "# Deep copy\n",
    "n_dcopy = nums.copy()\n",
    "print(f\"nums:\\t\\t{nums}\")\n",
    "print(f\"n_dcopy:\\t{n_dcopy}\")\n",
    "# Modify nums\n",
    "nums *= 10\n",
    "print(f\"nums:\\t\\t{nums}\")\n",
    "print(f\"n_dcopy:\\t{n_dcopy}\")\n"
   ]
  },
  {
   "cell_type": "code",
   "execution_count": null,
   "metadata": {},
   "outputs": [],
   "source": [
    "# Reshape \n",
    "nums = np.arange(1, 7)\n",
    "print(f\"nums: {nums}\")\n",
    "# Create reshape view\n",
    "n2 = nums.reshape(2,3)\n",
    "print(f\"nums: {nums}\")\n",
    "print(f\"n2: {n2}\")\n",
    "print(id(nums))\n",
    "print(id(n2))\n",
    "nums[2] = -99\n",
    "print(f\"nums: {nums}\")\n",
    "print(f\"n2: {n2}\")\n"
   ]
  },
  {
   "cell_type": "code",
   "execution_count": null,
   "metadata": {},
   "outputs": [],
   "source": [
    "# Resize\n",
    "nums = np.arange(1, 7)\n",
    "print(f\"nums: {nums}\")\n",
    "nums.resize(2,3)\n",
    "print(f\"nums: {nums}\")"
   ]
  },
  {
   "cell_type": "code",
   "execution_count": null,
   "metadata": {},
   "outputs": [],
   "source": [
    "grades = np.array([[81, 76, 93], [85, 14, 56]])\n",
    "print(f\"grades:\\t{grades}\")\n",
    "# Flatten\n",
    "g_flat = grades.flatten()\n",
    "g_flat[3] = -999\n",
    "print(f\"grades:\\t{grades}\")\n",
    "print(f\"g_flat:\\t{g_flat}\")\n"
   ]
  },
  {
   "cell_type": "code",
   "execution_count": null,
   "metadata": {},
   "outputs": [],
   "source": [
    "grades = np.array([[81, 76, 93], [85, 14, 56]])\n",
    "# Create view\n",
    "g_ravel = grades.ravel()\n",
    "g_ravel[3] = -999\n",
    "print(f\"grades:\\t{grades}\")\n",
    "print(f\"g_ravel: {g_ravel}\")"
   ]
  }
 ],
 "metadata": {
  "kernelspec": {
   "display_name": "numpy",
   "language": "python",
   "name": "numpy"
  },
  "language_info": {
   "codemirror_mode": {
    "name": "ipython",
    "version": 3
   },
   "file_extension": ".py",
   "mimetype": "text/x-python",
   "name": "python",
   "nbconvert_exporter": "python",
   "pygments_lexer": "ipython3",
   "version": "3.11.4"
  },
  "orig_nbformat": 4,
  "vscode": {
   "interpreter": {
    "hash": "40d444e15d4b5bb908f4b95c26d9b158a336fb6b786751c7d3022d89de8ad3f2"
   }
  }
 },
 "nbformat": 4,
 "nbformat_minor": 2
}
