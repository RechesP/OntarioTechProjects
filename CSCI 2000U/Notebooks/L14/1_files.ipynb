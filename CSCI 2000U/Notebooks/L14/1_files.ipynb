{
 "cells": [
  {
   "cell_type": "markdown",
   "metadata": {},
   "source": [
    "## L15 - Data science process & files ##"
   ]
  },
  {
   "cell_type": "markdown",
   "metadata": {},
   "source": [
    "**Data science process**"
   ]
  },
  {
   "cell_type": "code",
   "execution_count": 2,
   "metadata": {},
   "outputs": [],
   "source": [
    "import numpy as np"
   ]
  },
  {
   "cell_type": "code",
   "execution_count": 3,
   "metadata": {},
   "outputs": [
    {
     "data": {
      "text/plain": [
       "'c:\\\\Users\\\\reche\\\\OneDrive\\\\Documents\\\\School\\\\2024 3 - Fall\\\\CSCI 2000\\\\Notebooks\\\\L14'"
      ]
     },
     "execution_count": 3,
     "metadata": {},
     "output_type": "execute_result"
    }
   ],
   "source": [
    "# Where are we?\n",
    "import os\n",
    "os.getcwd()"
   ]
  },
  {
   "cell_type": "code",
   "execution_count": 4,
   "metadata": {},
   "outputs": [],
   "source": [
    "import csv\n",
    "# Write accounts.csv to disk\n",
    "with open('employees.csv', mode='w', newline='') as emp_file:\n",
    "    writer = csv.writer(emp_file)\n",
    "    #print(type(emp_file))\n",
    "    #print(type(writer))\n",
    "    # Column header\n",
    "    writer.writerow(['ID','Name','Value'])\n",
    "    writer.writerow([10, 'Sam', 123.07])\n",
    "    writer.writerow([20, 'Jurad', 48.6])\n",
    "    writer.writerow([30, 'Amir', 956.5])\n",
    "    writer.writerow([40, 'Laila', 0.00])\n",
    "    writer.writerow([50, 'Navi', -1024])\n",
    "\n",
    "# Example of append\n",
    "# with open('employees.csv', mode='a', newline='') as emp_file:\n",
    "#     writer = csv.writer(emp_file)\n",
    "#     writer.writerow([0, 'append', 0])\n",
    "    "
   ]
  },
  {
   "cell_type": "code",
   "execution_count": 5,
   "metadata": {},
   "outputs": [
    {
     "name": "stdout",
     "output_type": "stream",
     "text": [
      "ID\tName\tValue\n",
      "10\tSam\t123.07\n",
      "20\tJurad\t48.6\n",
      "30\tAmir\t956.5\n",
      "40\tLaila\t0.0\n",
      "50\tNavi\t-1024\n"
     ]
    }
   ],
   "source": [
    "# Reading a CSV file\n",
    "with open('employees.csv', mode='r', newline='') as emp_file:\n",
    "    reader = csv.reader(emp_file)\n",
    "    for row in reader:\n",
    "        id, name, value = row\n",
    "        print(f\"{id}\\t{name}\\t{value}\")\n"
   ]
  },
  {
   "cell_type": "code",
   "execution_count": 6,
   "metadata": {},
   "outputs": [],
   "source": [
    "# Run once\n",
    "# pip install pandas"
   ]
  },
  {
   "cell_type": "code",
   "execution_count": 7,
   "metadata": {},
   "outputs": [
    {
     "data": {
      "text/html": [
       "<div>\n",
       "<style scoped>\n",
       "    .dataframe tbody tr th:only-of-type {\n",
       "        vertical-align: middle;\n",
       "    }\n",
       "\n",
       "    .dataframe tbody tr th {\n",
       "        vertical-align: top;\n",
       "    }\n",
       "\n",
       "    .dataframe thead th {\n",
       "        text-align: right;\n",
       "    }\n",
       "</style>\n",
       "<table border=\"1\" class=\"dataframe\">\n",
       "  <thead>\n",
       "    <tr style=\"text-align: right;\">\n",
       "      <th></th>\n",
       "      <th>ID</th>\n",
       "      <th>First name</th>\n",
       "      <th>Salary</th>\n",
       "    </tr>\n",
       "  </thead>\n",
       "  <tbody>\n",
       "    <tr>\n",
       "      <th>0</th>\n",
       "      <td>ID</td>\n",
       "      <td>Name</td>\n",
       "      <td>Value</td>\n",
       "    </tr>\n",
       "    <tr>\n",
       "      <th>1</th>\n",
       "      <td>10</td>\n",
       "      <td>Sam</td>\n",
       "      <td>123.07</td>\n",
       "    </tr>\n",
       "    <tr>\n",
       "      <th>2</th>\n",
       "      <td>20</td>\n",
       "      <td>Jurad</td>\n",
       "      <td>48.6</td>\n",
       "    </tr>\n",
       "    <tr>\n",
       "      <th>3</th>\n",
       "      <td>30</td>\n",
       "      <td>Amir</td>\n",
       "      <td>956.5</td>\n",
       "    </tr>\n",
       "    <tr>\n",
       "      <th>4</th>\n",
       "      <td>40</td>\n",
       "      <td>Laila</td>\n",
       "      <td>0.0</td>\n",
       "    </tr>\n",
       "    <tr>\n",
       "      <th>5</th>\n",
       "      <td>50</td>\n",
       "      <td>Navi</td>\n",
       "      <td>-1024</td>\n",
       "    </tr>\n",
       "  </tbody>\n",
       "</table>\n",
       "</div>"
      ],
      "text/plain": [
       "   ID First name  Salary\n",
       "0  ID       Name   Value\n",
       "1  10        Sam  123.07\n",
       "2  20      Jurad    48.6\n",
       "3  30       Amir   956.5\n",
       "4  40      Laila     0.0\n",
       "5  50       Navi   -1024"
      ]
     },
     "execution_count": 7,
     "metadata": {},
     "output_type": "execute_result"
    }
   ],
   "source": [
    "import pandas as pd\n",
    "# Using Panda's read_csv\n",
    "df = pd.read_csv('employees.csv', names=['ID',\"First name\",\"Salary\"])\n",
    "# Evaluate our dataframe\n",
    "df"
   ]
  }
 ],
 "metadata": {
  "kernelspec": {
   "display_name": "numpy",
   "language": "python",
   "name": "numpy"
  },
  "language_info": {
   "codemirror_mode": {
    "name": "ipython",
    "version": 3
   },
   "file_extension": ".py",
   "mimetype": "text/x-python",
   "name": "python",
   "nbconvert_exporter": "python",
   "pygments_lexer": "ipython3",
   "version": "3.11.4"
  },
  "orig_nbformat": 4,
  "vscode": {
   "interpreter": {
    "hash": "40d444e15d4b5bb908f4b95c26d9b158a336fb6b786751c7d3022d89de8ad3f2"
   }
  }
 },
 "nbformat": 4,
 "nbformat_minor": 2
}
