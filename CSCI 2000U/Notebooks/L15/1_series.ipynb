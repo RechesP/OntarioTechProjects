{
 "cells": [
  {
   "cell_type": "markdown",
   "metadata": {},
   "source": [
    "## L16 - Pandas ##"
   ]
  },
  {
   "cell_type": "markdown",
   "metadata": {},
   "source": [
    "**2. Series**"
   ]
  },
  {
   "cell_type": "code",
   "execution_count": 1,
   "metadata": {},
   "outputs": [],
   "source": [
    "import numpy as np\n",
    "import pandas as pd"
   ]
  },
  {
   "cell_type": "code",
   "execution_count": 2,
   "metadata": {},
   "outputs": [],
   "source": [
    "d = pd.Series([4, 2, -35, 100])"
   ]
  },
  {
   "cell_type": "code",
   "execution_count": 3,
   "metadata": {},
   "outputs": [
    {
     "name": "stdout",
     "output_type": "stream",
     "text": [
      "<PandasArray>\n",
      "[4, 2, -35, 100]\n",
      "Length: 4, dtype: int64 \n",
      "----------\n",
      "RangeIndex(start=0, stop=4, step=1)\n"
     ]
    }
   ],
   "source": [
    "# Access array and index attributes\n",
    "print(d.array, \"\\n----------\")\n",
    "print(d.index)"
   ]
  },
  {
   "cell_type": "code",
   "execution_count": 4,
   "metadata": {},
   "outputs": [
    {
     "name": "stdout",
     "output_type": "stream",
     "text": [
      "b      4\n",
      "c      2\n",
      "a    -35\n",
      "d    100\n",
      "dtype: int64 \n",
      "------\n"
     ]
    },
    {
     "data": {
      "text/plain": [
       "Index(['b', 'c', 'a', 'd'], dtype='object')"
      ]
     },
     "execution_count": 4,
     "metadata": {},
     "output_type": "execute_result"
    }
   ],
   "source": [
    "# Index series\n",
    "d = pd.Series([4, 2, -35, 100], index=[\"b\",\"c\",\"a\",\"d\"])\n",
    "print(d,\"\\n------\")\n",
    "d.index"
   ]
  },
  {
   "cell_type": "code",
   "execution_count": 5,
   "metadata": {},
   "outputs": [
    {
     "name": "stdout",
     "output_type": "stream",
     "text": [
      "2 \n",
      "------\n",
      "b      4\n",
      "c   -999\n",
      "d    100\n",
      "dtype: int64\n"
     ]
    }
   ],
   "source": [
    "# Index values\n",
    "print(d[\"c\"],\"\\n------\")\n",
    "d[\"c\"] = -999\n",
    "print(d[[\"b\",\"c\",\"d\"]])"
   ]
  },
  {
   "cell_type": "code",
   "execution_count": 6,
   "metadata": {},
   "outputs": [
    {
     "name": "stdout",
     "output_type": "stream",
     "text": [
      "b       8\n",
      "c   -1998\n",
      "a     -70\n",
      "d     200\n",
      "dtype: int64 \n",
      "----\n",
      "b     2.0\n",
      "c     NaN\n",
      "a     NaN\n",
      "d    10.0\n",
      "dtype: float64\n"
     ]
    },
    {
     "name": "stderr",
     "output_type": "stream",
     "text": [
      "c:\\ProgramData\\anaconda3\\Lib\\site-packages\\pandas\\core\\arraylike.py:402: RuntimeWarning: invalid value encountered in sqrt\n",
      "  result = getattr(ufunc, method)(*inputs, **kwargs)\n"
     ]
    }
   ],
   "source": [
    "# Numpy ops on Series\n",
    "print(d * 2,\"\\n----\")\n",
    "print(np.sqrt(d))"
   ]
  },
  {
   "cell_type": "code",
   "execution_count": 7,
   "metadata": {},
   "outputs": [
    {
     "name": "stdout",
     "output_type": "stream",
     "text": [
      "True\n",
      "False\n"
     ]
    }
   ],
   "source": [
    "# Using in \n",
    "print(\"b\" in d)\n",
    "print(\"z\" in d)"
   ]
  },
  {
   "cell_type": "code",
   "execution_count": 8,
   "metadata": {},
   "outputs": [],
   "source": [
    "# Series from dictionary\n",
    "prov_dict = {\"Ontario\":70000, \"Quebec\":45000, \"British Columbia\":29500}\n",
    "prov_dict\n",
    "provinces = pd.Series(prov_dict)\n",
    "#provinces"
   ]
  },
  {
   "cell_type": "code",
   "execution_count": 9,
   "metadata": {},
   "outputs": [
    {
     "data": {
      "text/plain": [
       "Quebec     45000.0\n",
       "Ontario    70000.0\n",
       "Alberta        NaN\n",
       "dtype: float64"
      ]
     },
     "execution_count": 9,
     "metadata": {},
     "output_type": "execute_result"
    }
   ],
   "source": [
    "# Custom indices, with order\n",
    "prov_codes = [\"Quebec\",\"Ontario\",\"Alberta\"]\n",
    "prov2 = pd.Series(prov_dict, index=prov_codes)\n",
    "prov2"
   ]
  },
  {
   "cell_type": "code",
   "execution_count": 10,
   "metadata": {},
   "outputs": [
    {
     "name": "stdout",
     "output_type": "stream",
     "text": [
      "Quebec     False\n",
      "Ontario    False\n",
      "Alberta     True\n",
      "dtype: bool \n",
      "------\n",
      "Quebec      True\n",
      "Ontario     True\n",
      "Alberta    False\n",
      "dtype: bool\n"
     ]
    }
   ],
   "source": [
    "# Locate missing data\n",
    "print(prov2.isna(),\"\\n------\")\n",
    "print(prov2.notna())"
   ]
  },
  {
   "cell_type": "code",
   "execution_count": 11,
   "metadata": {},
   "outputs": [
    {
     "name": "stdout",
     "output_type": "stream",
     "text": [
      "Ontario             70000\n",
      "Quebec              45000\n",
      "British Columbia    29500\n",
      "dtype: int64\n",
      "Quebec     45000.0\n",
      "Ontario    70000.0\n",
      "Alberta        NaN\n",
      "dtype: float64\n"
     ]
    }
   ],
   "source": [
    "# Align by index\n",
    "print(provinces)\n",
    "print(prov2)\n",
    "#print(provinces + prov2)"
   ]
  },
  {
   "cell_type": "code",
   "execution_count": 12,
   "metadata": {},
   "outputs": [
    {
     "name": "stdout",
     "output_type": "stream",
     "text": [
      "b      4\n",
      "c   -999\n",
      "a    -35\n",
      "d    100\n",
      "dtype: int64 \n",
      "----\n",
      "Europa        4\n",
      "Ganymede   -999\n",
      "Io          -35\n",
      "Callisto    100\n",
      "dtype: int64\n"
     ]
    }
   ],
   "source": [
    "# In place updating\n",
    "print(d,\"\\n----\")\n",
    "d.index = [\"Europa\",\"Ganymede\",\"Io\",\"Callisto\"]\n",
    "print(d)"
   ]
  },
  {
   "cell_type": "code",
   "execution_count": null,
   "metadata": {},
   "outputs": [],
   "source": []
  }
 ],
 "metadata": {
  "kernelspec": {
   "display_name": "numpy",
   "language": "python",
   "name": "numpy"
  },
  "language_info": {
   "codemirror_mode": {
    "name": "ipython",
    "version": 3
   },
   "file_extension": ".py",
   "mimetype": "text/x-python",
   "name": "python",
   "nbconvert_exporter": "python",
   "pygments_lexer": "ipython3",
   "version": "3.11.4"
  },
  "orig_nbformat": 4,
  "vscode": {
   "interpreter": {
    "hash": "40d444e15d4b5bb908f4b95c26d9b158a336fb6b786751c7d3022d89de8ad3f2"
   }
  }
 },
 "nbformat": 4,
 "nbformat_minor": 2
}
